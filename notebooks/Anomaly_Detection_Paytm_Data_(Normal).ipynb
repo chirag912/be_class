{
  "nbformat": 4,
  "nbformat_minor": 0,
  "metadata": {
    "colab": {
      "name": "Anomaly_Detection_Paytm_Data_(Normal).ipynb",
      "provenance": [],
      "collapsed_sections": [],
      "machine_shape": "hm"
    },
    "kernelspec": {
      "name": "python3",
      "display_name": "Python 3"
    },
    "language_info": {
      "name": "python"
    },
    "gpuClass": "standard"
  },
  "cells": [
    {
      "cell_type": "markdown",
      "source": [
        "### Anomaly Detection - Paytm Data"
      ],
      "metadata": {
        "id": "NVBgA054COEQ"
      }
    },
    {
      "cell_type": "code",
      "execution_count": null,
      "metadata": {
        "id": "gu_rvFfVBzgq"
      },
      "outputs": [],
      "source": [
        "#Importing the Required Libraries\n",
        "import pandas as pd \n",
        "import numpy as np\n",
        "from collections import Counter\n",
        "\n",
        "from sklearn.preprocessing import scale \n",
        "\n",
        "#Applying the SMOTE\n",
        "import imblearn\n",
        "from imblearn.over_sampling import SMOTE\n",
        "from imblearn.under_sampling import RandomUnderSampler\n",
        "from imblearn.pipeline import Pipeline\n",
        "\n",
        "#Models\n",
        "from sklearn.model_selection import train_test_split\n",
        "from sklearn.tree import  DecisionTreeClassifier\n",
        "from sklearn.ensemble import RandomForestClassifier\n",
        "from sklearn.ensemble import AdaBoostClassifier\n",
        "from sklearn.ensemble import GradientBoostingClassifier\n",
        "from xgboost import XGBClassifier\n",
        "from sklearn.svm import SVC\n",
        "from sklearn.neighbors import KNeighborsClassifier\n",
        "\n",
        "\n",
        "from sklearn.model_selection import KFold\n",
        "from sklearn.model_selection import GridSearchCV\n",
        "from sklearn.metrics import classification_report\n",
        "#Martix library\n",
        "from sklearn.metrics import accuracy_score, confusion_matrix\n",
        "from sklearn.model_selection import cross_val_score\n",
        "from sklearn.metrics import recall_score"
      ]
    },
    {
      "cell_type": "code",
      "source": [
        "#Loading The Dataset\n",
        "df = pd.read_excel(\"/content/AD_data.xlsx\")\n",
        "df.head()"
      ],
      "metadata": {
        "colab": {
          "base_uri": "https://localhost:8080/",
          "height": 299
        },
        "id": "l-rK8-09DLrx",
        "outputId": "5978515c-f259-42e3-8338-2646d5c6ccc6"
      },
      "execution_count": null,
      "outputs": [
        {
          "output_type": "execute_result",
          "data": {
            "text/plain": [
              "        id   registration_time  cnt1  cnt2  cnt3  cnt4  cnt5  cnt6  cnt7  \\\n",
              "0  26854.0 2021-12-01 04:35:08   1.0   1.0   1.0   1.0   1.0   1.0   0.0   \n",
              "1  28389.0 2021-12-01 09:28:21   1.0   1.0   1.0   1.0   1.0   1.0   0.0   \n",
              "2  34757.0 2021-12-01 14:08:47   1.0   1.0   1.0   2.0   1.0   1.0   0.0   \n",
              "3  21694.0 2021-12-01 22:59:25   8.0   8.0   1.0  10.0   1.0   1.0   0.0   \n",
              "4  33145.0 2021-12-02 10:59:26   1.0   1.0   1.0   1.0   1.0   1.0   1.0   \n",
              "\n",
              "   cnt8  ...  txn_amount_business_5  txn_cnt_business_6  \\\n",
              "0   0.0  ...                    0.0                 1.0   \n",
              "1   0.0  ...                    0.0                 1.0   \n",
              "2   0.0  ...                    0.0                 2.0   \n",
              "3   0.0  ...                    0.0                 1.0   \n",
              "4   1.0  ...                    0.0                 1.0   \n",
              "\n",
              "   txn_amount_business_6  txn_cnt_business_7  txn_amount_business_7  \\\n",
              "0                 8142.0                 0.0                    0.0   \n",
              "1                  200.0                 0.0                    0.0   \n",
              "2                90000.0                 0.0                    0.0   \n",
              "3                 2254.0                 0.0                    0.0   \n",
              "4                    2.0                 0.0                    0.0   \n",
              "\n",
              "   txn_cnt_business_8  txn_amount_business_8  txn_cnt_business_9  \\\n",
              "0                 0.0                    0.0                 0.0   \n",
              "1                 0.0                    0.0                 0.0   \n",
              "2                 0.0                    0.0                 0.0   \n",
              "3                 0.0                    0.0                 0.0   \n",
              "4                 0.0                    0.0                 0.0   \n",
              "\n",
              "   txn_amount_business_9  isFraud  \n",
              "0                    0.0      0.0  \n",
              "1                    0.0      0.0  \n",
              "2                    0.0      0.0  \n",
              "3                    0.0      0.0  \n",
              "4                    0.0      0.0  \n",
              "\n",
              "[5 rows x 40 columns]"
            ],
            "text/html": [
              "\n",
              "  <div id=\"df-77bbf3a1-fe41-44ee-a0c4-02e769dbebdb\">\n",
              "    <div class=\"colab-df-container\">\n",
              "      <div>\n",
              "<style scoped>\n",
              "    .dataframe tbody tr th:only-of-type {\n",
              "        vertical-align: middle;\n",
              "    }\n",
              "\n",
              "    .dataframe tbody tr th {\n",
              "        vertical-align: top;\n",
              "    }\n",
              "\n",
              "    .dataframe thead th {\n",
              "        text-align: right;\n",
              "    }\n",
              "</style>\n",
              "<table border=\"1\" class=\"dataframe\">\n",
              "  <thead>\n",
              "    <tr style=\"text-align: right;\">\n",
              "      <th></th>\n",
              "      <th>id</th>\n",
              "      <th>registration_time</th>\n",
              "      <th>cnt1</th>\n",
              "      <th>cnt2</th>\n",
              "      <th>cnt3</th>\n",
              "      <th>cnt4</th>\n",
              "      <th>cnt5</th>\n",
              "      <th>cnt6</th>\n",
              "      <th>cnt7</th>\n",
              "      <th>cnt8</th>\n",
              "      <th>...</th>\n",
              "      <th>txn_amount_business_5</th>\n",
              "      <th>txn_cnt_business_6</th>\n",
              "      <th>txn_amount_business_6</th>\n",
              "      <th>txn_cnt_business_7</th>\n",
              "      <th>txn_amount_business_7</th>\n",
              "      <th>txn_cnt_business_8</th>\n",
              "      <th>txn_amount_business_8</th>\n",
              "      <th>txn_cnt_business_9</th>\n",
              "      <th>txn_amount_business_9</th>\n",
              "      <th>isFraud</th>\n",
              "    </tr>\n",
              "  </thead>\n",
              "  <tbody>\n",
              "    <tr>\n",
              "      <th>0</th>\n",
              "      <td>26854.0</td>\n",
              "      <td>2021-12-01 04:35:08</td>\n",
              "      <td>1.0</td>\n",
              "      <td>1.0</td>\n",
              "      <td>1.0</td>\n",
              "      <td>1.0</td>\n",
              "      <td>1.0</td>\n",
              "      <td>1.0</td>\n",
              "      <td>0.0</td>\n",
              "      <td>0.0</td>\n",
              "      <td>...</td>\n",
              "      <td>0.0</td>\n",
              "      <td>1.0</td>\n",
              "      <td>8142.0</td>\n",
              "      <td>0.0</td>\n",
              "      <td>0.0</td>\n",
              "      <td>0.0</td>\n",
              "      <td>0.0</td>\n",
              "      <td>0.0</td>\n",
              "      <td>0.0</td>\n",
              "      <td>0.0</td>\n",
              "    </tr>\n",
              "    <tr>\n",
              "      <th>1</th>\n",
              "      <td>28389.0</td>\n",
              "      <td>2021-12-01 09:28:21</td>\n",
              "      <td>1.0</td>\n",
              "      <td>1.0</td>\n",
              "      <td>1.0</td>\n",
              "      <td>1.0</td>\n",
              "      <td>1.0</td>\n",
              "      <td>1.0</td>\n",
              "      <td>0.0</td>\n",
              "      <td>0.0</td>\n",
              "      <td>...</td>\n",
              "      <td>0.0</td>\n",
              "      <td>1.0</td>\n",
              "      <td>200.0</td>\n",
              "      <td>0.0</td>\n",
              "      <td>0.0</td>\n",
              "      <td>0.0</td>\n",
              "      <td>0.0</td>\n",
              "      <td>0.0</td>\n",
              "      <td>0.0</td>\n",
              "      <td>0.0</td>\n",
              "    </tr>\n",
              "    <tr>\n",
              "      <th>2</th>\n",
              "      <td>34757.0</td>\n",
              "      <td>2021-12-01 14:08:47</td>\n",
              "      <td>1.0</td>\n",
              "      <td>1.0</td>\n",
              "      <td>1.0</td>\n",
              "      <td>2.0</td>\n",
              "      <td>1.0</td>\n",
              "      <td>1.0</td>\n",
              "      <td>0.0</td>\n",
              "      <td>0.0</td>\n",
              "      <td>...</td>\n",
              "      <td>0.0</td>\n",
              "      <td>2.0</td>\n",
              "      <td>90000.0</td>\n",
              "      <td>0.0</td>\n",
              "      <td>0.0</td>\n",
              "      <td>0.0</td>\n",
              "      <td>0.0</td>\n",
              "      <td>0.0</td>\n",
              "      <td>0.0</td>\n",
              "      <td>0.0</td>\n",
              "    </tr>\n",
              "    <tr>\n",
              "      <th>3</th>\n",
              "      <td>21694.0</td>\n",
              "      <td>2021-12-01 22:59:25</td>\n",
              "      <td>8.0</td>\n",
              "      <td>8.0</td>\n",
              "      <td>1.0</td>\n",
              "      <td>10.0</td>\n",
              "      <td>1.0</td>\n",
              "      <td>1.0</td>\n",
              "      <td>0.0</td>\n",
              "      <td>0.0</td>\n",
              "      <td>...</td>\n",
              "      <td>0.0</td>\n",
              "      <td>1.0</td>\n",
              "      <td>2254.0</td>\n",
              "      <td>0.0</td>\n",
              "      <td>0.0</td>\n",
              "      <td>0.0</td>\n",
              "      <td>0.0</td>\n",
              "      <td>0.0</td>\n",
              "      <td>0.0</td>\n",
              "      <td>0.0</td>\n",
              "    </tr>\n",
              "    <tr>\n",
              "      <th>4</th>\n",
              "      <td>33145.0</td>\n",
              "      <td>2021-12-02 10:59:26</td>\n",
              "      <td>1.0</td>\n",
              "      <td>1.0</td>\n",
              "      <td>1.0</td>\n",
              "      <td>1.0</td>\n",
              "      <td>1.0</td>\n",
              "      <td>1.0</td>\n",
              "      <td>1.0</td>\n",
              "      <td>1.0</td>\n",
              "      <td>...</td>\n",
              "      <td>0.0</td>\n",
              "      <td>1.0</td>\n",
              "      <td>2.0</td>\n",
              "      <td>0.0</td>\n",
              "      <td>0.0</td>\n",
              "      <td>0.0</td>\n",
              "      <td>0.0</td>\n",
              "      <td>0.0</td>\n",
              "      <td>0.0</td>\n",
              "      <td>0.0</td>\n",
              "    </tr>\n",
              "  </tbody>\n",
              "</table>\n",
              "<p>5 rows × 40 columns</p>\n",
              "</div>\n",
              "      <button class=\"colab-df-convert\" onclick=\"convertToInteractive('df-77bbf3a1-fe41-44ee-a0c4-02e769dbebdb')\"\n",
              "              title=\"Convert this dataframe to an interactive table.\"\n",
              "              style=\"display:none;\">\n",
              "        \n",
              "  <svg xmlns=\"http://www.w3.org/2000/svg\" height=\"24px\"viewBox=\"0 0 24 24\"\n",
              "       width=\"24px\">\n",
              "    <path d=\"M0 0h24v24H0V0z\" fill=\"none\"/>\n",
              "    <path d=\"M18.56 5.44l.94 2.06.94-2.06 2.06-.94-2.06-.94-.94-2.06-.94 2.06-2.06.94zm-11 1L8.5 8.5l.94-2.06 2.06-.94-2.06-.94L8.5 2.5l-.94 2.06-2.06.94zm10 10l.94 2.06.94-2.06 2.06-.94-2.06-.94-.94-2.06-.94 2.06-2.06.94z\"/><path d=\"M17.41 7.96l-1.37-1.37c-.4-.4-.92-.59-1.43-.59-.52 0-1.04.2-1.43.59L10.3 9.45l-7.72 7.72c-.78.78-.78 2.05 0 2.83L4 21.41c.39.39.9.59 1.41.59.51 0 1.02-.2 1.41-.59l7.78-7.78 2.81-2.81c.8-.78.8-2.07 0-2.86zM5.41 20L4 18.59l7.72-7.72 1.47 1.35L5.41 20z\"/>\n",
              "  </svg>\n",
              "      </button>\n",
              "      \n",
              "  <style>\n",
              "    .colab-df-container {\n",
              "      display:flex;\n",
              "      flex-wrap:wrap;\n",
              "      gap: 12px;\n",
              "    }\n",
              "\n",
              "    .colab-df-convert {\n",
              "      background-color: #E8F0FE;\n",
              "      border: none;\n",
              "      border-radius: 50%;\n",
              "      cursor: pointer;\n",
              "      display: none;\n",
              "      fill: #1967D2;\n",
              "      height: 32px;\n",
              "      padding: 0 0 0 0;\n",
              "      width: 32px;\n",
              "    }\n",
              "\n",
              "    .colab-df-convert:hover {\n",
              "      background-color: #E2EBFA;\n",
              "      box-shadow: 0px 1px 2px rgba(60, 64, 67, 0.3), 0px 1px 3px 1px rgba(60, 64, 67, 0.15);\n",
              "      fill: #174EA6;\n",
              "    }\n",
              "\n",
              "    [theme=dark] .colab-df-convert {\n",
              "      background-color: #3B4455;\n",
              "      fill: #D2E3FC;\n",
              "    }\n",
              "\n",
              "    [theme=dark] .colab-df-convert:hover {\n",
              "      background-color: #434B5C;\n",
              "      box-shadow: 0px 1px 3px 1px rgba(0, 0, 0, 0.15);\n",
              "      filter: drop-shadow(0px 1px 2px rgba(0, 0, 0, 0.3));\n",
              "      fill: #FFFFFF;\n",
              "    }\n",
              "  </style>\n",
              "\n",
              "      <script>\n",
              "        const buttonEl =\n",
              "          document.querySelector('#df-77bbf3a1-fe41-44ee-a0c4-02e769dbebdb button.colab-df-convert');\n",
              "        buttonEl.style.display =\n",
              "          google.colab.kernel.accessAllowed ? 'block' : 'none';\n",
              "\n",
              "        async function convertToInteractive(key) {\n",
              "          const element = document.querySelector('#df-77bbf3a1-fe41-44ee-a0c4-02e769dbebdb');\n",
              "          const dataTable =\n",
              "            await google.colab.kernel.invokeFunction('convertToInteractive',\n",
              "                                                     [key], {});\n",
              "          if (!dataTable) return;\n",
              "\n",
              "          const docLinkHtml = 'Like what you see? Visit the ' +\n",
              "            '<a target=\"_blank\" href=https://colab.research.google.com/notebooks/data_table.ipynb>data table notebook</a>'\n",
              "            + ' to learn more about interactive tables.';\n",
              "          element.innerHTML = '';\n",
              "          dataTable['output_type'] = 'display_data';\n",
              "          await google.colab.output.renderOutput(dataTable, element);\n",
              "          const docLink = document.createElement('div');\n",
              "          docLink.innerHTML = docLinkHtml;\n",
              "          element.appendChild(docLink);\n",
              "        }\n",
              "      </script>\n",
              "    </div>\n",
              "  </div>\n",
              "  "
            ]
          },
          "metadata": {},
          "execution_count": 2
        }
      ]
    },
    {
      "cell_type": "code",
      "source": [
        "#Checking the Shape\n",
        "df.shape"
      ],
      "metadata": {
        "colab": {
          "base_uri": "https://localhost:8080/"
        },
        "id": "as6cGRkYDkV6",
        "outputId": "6c58f7a4-57d4-4c2a-b9f9-6f3a727c2b86"
      },
      "execution_count": null,
      "outputs": [
        {
          "output_type": "execute_result",
          "data": {
            "text/plain": [
              "(20784, 40)"
            ]
          },
          "metadata": {},
          "execution_count": 3
        }
      ]
    },
    {
      "cell_type": "code",
      "source": [
        "#Checking for NA Value\n",
        "df.isnull().sum()"
      ],
      "metadata": {
        "colab": {
          "base_uri": "https://localhost:8080/"
        },
        "id": "ZrPZaVBiEHy3",
        "outputId": "660c4e59-096e-431e-9678-b35441e975cd"
      },
      "execution_count": null,
      "outputs": [
        {
          "output_type": "execute_result",
          "data": {
            "text/plain": [
              "id                       0\n",
              "registration_time        0\n",
              "cnt1                     0\n",
              "cnt2                     0\n",
              "cnt3                     0\n",
              "cnt4                     0\n",
              "cnt5                     0\n",
              "cnt6                     0\n",
              "cnt7                     0\n",
              "cnt8                     0\n",
              "cnt9                     0\n",
              "cnt10                    0\n",
              "cnt11                    0\n",
              "cnt12                    0\n",
              "cnt13                    0\n",
              "txn_amount1              0\n",
              "txn_amount2              0\n",
              "txn_amount3              0\n",
              "txn_amount4              0\n",
              "txn_amount5              0\n",
              "txn_amount6              0\n",
              "txn_cnt_business_1       0\n",
              "txn_amount_business_1    0\n",
              "txn_cnt_business_2       0\n",
              "txn_amount_business_2    0\n",
              "txn_cnt_business_3       0\n",
              "txn_amount_business_3    0\n",
              "txn_cnt_business_4       0\n",
              "txn_amount_business_4    0\n",
              "txn_cnt_business_5       0\n",
              "txn_amount_business_5    0\n",
              "txn_cnt_business_6       0\n",
              "txn_amount_business_6    0\n",
              "txn_cnt_business_7       0\n",
              "txn_amount_business_7    0\n",
              "txn_cnt_business_8       0\n",
              "txn_amount_business_8    0\n",
              "txn_cnt_business_9       0\n",
              "txn_amount_business_9    0\n",
              "isFraud                  0\n",
              "dtype: int64"
            ]
          },
          "metadata": {},
          "execution_count": 4
        }
      ]
    },
    {
      "cell_type": "code",
      "source": [
        "#Checking Count of Distinct Value of Y Variable\n",
        "df['isFraud'].value_counts()"
      ],
      "metadata": {
        "colab": {
          "base_uri": "https://localhost:8080/"
        },
        "id": "_x1iqrIgESx5",
        "outputId": "5fe723cc-a868-44ef-9b11-7413a5cd4c3e"
      },
      "execution_count": null,
      "outputs": [
        {
          "output_type": "execute_result",
          "data": {
            "text/plain": [
              "0.0    20551\n",
              "1.0      233\n",
              "Name: isFraud, dtype: int64"
            ]
          },
          "metadata": {},
          "execution_count": 5
        }
      ]
    },
    {
      "cell_type": "code",
      "source": [
        "#Drop features that are not required to build our model ('id', 'registration_time')\n",
        "df1 = df.drop(['id', 'registration_time'],axis='columns')\n",
        "df1.shape"
      ],
      "metadata": {
        "colab": {
          "base_uri": "https://localhost:8080/"
        },
        "id": "6SoYEsfoGbtx",
        "outputId": "06e8042e-5280-48c1-96d0-4f563ddbf9c8"
      },
      "execution_count": null,
      "outputs": [
        {
          "output_type": "execute_result",
          "data": {
            "text/plain": [
              "(20784, 38)"
            ]
          },
          "metadata": {},
          "execution_count": 6
        }
      ]
    },
    {
      "cell_type": "code",
      "source": [
        "#Separating the X & Y Variable\n",
        "x = df1.iloc[:,:37]\n",
        "y = df1['isFraud']\n",
        "print(x.shape)\n",
        "print(y.shape)"
      ],
      "metadata": {
        "colab": {
          "base_uri": "https://localhost:8080/"
        },
        "id": "EL17JwDCxU5I",
        "outputId": "a7fea1e4-7b0c-415c-c2a4-19563c1b4c21"
      },
      "execution_count": null,
      "outputs": [
        {
          "output_type": "stream",
          "name": "stdout",
          "text": [
            "(20784, 37)\n",
            "(20784,)\n"
          ]
        }
      ]
    },
    {
      "cell_type": "markdown",
      "source": [
        "##### Implementing Model on the Imbalance Data (Baseline Model)"
      ],
      "metadata": {
        "id": "SxwG-yZfU8EA"
      }
    },
    {
      "cell_type": "code",
      "source": [
        "#Train Test Split \n",
        "x_train, x_test, y_train, y_test = train_test_split(x, y, test_size = 0.20,random_state=7)"
      ],
      "metadata": {
        "id": "iXmj0FQV0l1n"
      },
      "execution_count": null,
      "outputs": []
    },
    {
      "cell_type": "code",
      "source": [
        "#With Default parameter\n",
        "kfold = KFold(n_splits=5, random_state=10, shuffle=True)\n",
        "model =  XGBClassifier()\n",
        "scores = cross_val_score(model,x_train,y_train,scoring ='roc_auc', cv = kfold)\n",
        "print('Mean ROC AUC: %.3f' % np.mean(scores))"
      ],
      "metadata": {
        "colab": {
          "base_uri": "https://localhost:8080/"
        },
        "id": "9Y75lV9KVI0w",
        "outputId": "68a8044e-9020-4ec1-c059-b04efa66bfbe"
      },
      "execution_count": null,
      "outputs": [
        {
          "output_type": "stream",
          "name": "stdout",
          "text": [
            "Mean ROC AUC: 0.976\n"
          ]
        }
      ]
    },
    {
      "cell_type": "code",
      "source": [
        "#Recall of Baseline Model\n",
        "model.fit(x_train,y_train)\n",
        "print(model.score(x_test,y_test))\n",
        "print(recall_score(y_test,model.predict(x_test)))"
      ],
      "metadata": {
        "colab": {
          "base_uri": "https://localhost:8080/"
        },
        "id": "eY--J5Ti1PrS",
        "outputId": "df751d73-0a8f-4241-e83c-a2da3b03ced2"
      },
      "execution_count": null,
      "outputs": [
        {
          "output_type": "stream",
          "name": "stdout",
          "text": [
            "0.9877315371662256\n",
            "0.2903225806451613\n"
          ]
        }
      ]
    },
    {
      "cell_type": "markdown",
      "source": [
        "#####Removing Scale"
      ],
      "metadata": {
        "id": "ndq4OW8iw23g"
      }
    },
    {
      "cell_type": "code",
      "source": [
        "#Converting into numpy array -- as scale() requires array format\n",
        "data = x_train.values\n",
        "#Normalizing the numerical data  by using scale()\n",
        "x_train_scaled  = scale(data)\n",
        "\n",
        "data_test = x_test.values\n",
        "x_test_scaled = scale(data_test)"
      ],
      "metadata": {
        "id": "9mimby68w2ay"
      },
      "execution_count": null,
      "outputs": []
    },
    {
      "cell_type": "markdown",
      "source": [
        "#### SMOTE"
      ],
      "metadata": {
        "id": "cMyWps6B4wmO"
      }
    },
    {
      "cell_type": "code",
      "source": [
        "#Initializing the SMOTE for Minority Class & undersampler for Majority Class\n",
        "over = SMOTE(sampling_strategy=0.1)\n",
        "under = RandomUnderSampler(sampling_strategy=0.5)\n",
        "#Initializing the pipeline to Tranform\n",
        "steps = [('o', over), ('u', under)]\n",
        "pipeline = Pipeline(steps=steps)\n",
        "\n",
        "# transform the dataset\n",
        "X, Y = pipeline.fit_resample(x_train_scaled, y_train)\n",
        "# summarize the new class distribution\n",
        "counter = Counter(Y)\n",
        "print(counter)"
      ],
      "metadata": {
        "colab": {
          "base_uri": "https://localhost:8080/"
        },
        "id": "T7389jU33HeK",
        "outputId": "63cefabd-5821-4d86-affd-a714608b2537"
      },
      "execution_count": null,
      "outputs": [
        {
          "output_type": "stream",
          "name": "stdout",
          "text": [
            "Counter({0.0: 3290, 1.0: 1645})\n"
          ]
        }
      ]
    },
    {
      "cell_type": "markdown",
      "source": [
        "##### Find best Algorithms using GridSearchCV"
      ],
      "metadata": {
        "id": "2sx00oSV73jX"
      }
    },
    {
      "cell_type": "code",
      "source": [
        "#GridSearchCV\n",
        "\n",
        "def find_best_model_using_gridsearchcv(x,y):\n",
        "    algos = {\n",
        "        'Decision Tree': {'Classifier': DecisionTreeClassifier(),'params': {'criterion': ['entropy'],'max_depth': [3,4,5]}\n",
        "        },\n",
        "        'Random Forest': {'Classifier': RandomForestClassifier(),'params':{'n_estimators':[100,125,150,175,200],'max_features': [4,6,8,10,20,25,35],'random_state':[7]}\n",
        "        },\n",
        "        'AdaBoost': {'Classifier': AdaBoostClassifier(),'params': {'n_estimators' : [10,15,20],'random_state':[7]}\n",
        "        },\n",
        "        'Gradient Boosting': {'Classifier': GradientBoostingClassifier(),'params': {'learning_rate':[0.1,0.01,0.2],'random_state':[7]}\n",
        "        },\n",
        "        'XGBM': {'Classifier': XGBClassifier(),'params': {'n_estimators' : [70,80,90,100],'max_depth': [3,4,5,7],\n",
        "                                                          'learning_rate':[0.1,0.2],'random_state':[7]}\n",
        "        },\n",
        "        'SVM': {'Classifier': SVC(),'params': {'kernel':['rbf'],'gamma':[50,100],'C':[10,15,20]}\n",
        "        },\n",
        "        'KNN': {'Classifier': KNeighborsClassifier(),'params': {'n_neighbors':[5,10,15,20]}\n",
        "        }\n",
        "    }\n",
        "    scores = []\n",
        "    kfold = KFold(n_splits=5, random_state=10, shuffle=True)\n",
        "    for algo_name, config in algos.items():\n",
        "        gs =  GridSearchCV(config['Classifier'], config['params'], cv=kfold)\n",
        "        gs.fit(x,y)\n",
        "        scores.append({\n",
        "            'Classifier': algo_name,\n",
        "            'best_score': gs.best_score_,\n",
        "            'best_params': gs.best_params_\n",
        "        })\n",
        "\n",
        "    return pd.DataFrame(scores,columns=['Classifier','best_score','best_params'])\n",
        "\n",
        "find_best_model_using_gridsearchcv(X,Y)"
      ],
      "metadata": {
        "colab": {
          "base_uri": "https://localhost:8080/",
          "height": 256
        },
        "id": "m3qAEK-875Oa",
        "outputId": "7dce59a6-4faf-460d-fb13-6e8e147e8eb3"
      },
      "execution_count": null,
      "outputs": [
        {
          "output_type": "execute_result",
          "data": {
            "text/plain": [
              "          Classifier  best_score  \\\n",
              "0      Decision Tree    0.946505   \n",
              "1      Random Forest    0.977305   \n",
              "2           AdaBoost    0.941641   \n",
              "3  Gradient Boosting    0.974063   \n",
              "4               XGBM    0.978318   \n",
              "5                SVM    0.780952   \n",
              "6                KNN    0.956839   \n",
              "\n",
              "                                         best_params  \n",
              "0           {'criterion': 'entropy', 'max_depth': 5}  \n",
              "1  {'max_features': 6, 'n_estimators': 100, 'rand...  \n",
              "2            {'n_estimators': 20, 'random_state': 7}  \n",
              "3          {'learning_rate': 0.2, 'random_state': 7}  \n",
              "4  {'learning_rate': 0.2, 'max_depth': 3, 'n_esti...  \n",
              "5            {'C': 10, 'gamma': 50, 'kernel': 'rbf'}  \n",
              "6                                 {'n_neighbors': 5}  "
            ],
            "text/html": [
              "\n",
              "  <div id=\"df-a1589f3b-eaf7-4584-9722-09259138519f\">\n",
              "    <div class=\"colab-df-container\">\n",
              "      <div>\n",
              "<style scoped>\n",
              "    .dataframe tbody tr th:only-of-type {\n",
              "        vertical-align: middle;\n",
              "    }\n",
              "\n",
              "    .dataframe tbody tr th {\n",
              "        vertical-align: top;\n",
              "    }\n",
              "\n",
              "    .dataframe thead th {\n",
              "        text-align: right;\n",
              "    }\n",
              "</style>\n",
              "<table border=\"1\" class=\"dataframe\">\n",
              "  <thead>\n",
              "    <tr style=\"text-align: right;\">\n",
              "      <th></th>\n",
              "      <th>Classifier</th>\n",
              "      <th>best_score</th>\n",
              "      <th>best_params</th>\n",
              "    </tr>\n",
              "  </thead>\n",
              "  <tbody>\n",
              "    <tr>\n",
              "      <th>0</th>\n",
              "      <td>Decision Tree</td>\n",
              "      <td>0.946505</td>\n",
              "      <td>{'criterion': 'entropy', 'max_depth': 5}</td>\n",
              "    </tr>\n",
              "    <tr>\n",
              "      <th>1</th>\n",
              "      <td>Random Forest</td>\n",
              "      <td>0.977305</td>\n",
              "      <td>{'max_features': 6, 'n_estimators': 100, 'rand...</td>\n",
              "    </tr>\n",
              "    <tr>\n",
              "      <th>2</th>\n",
              "      <td>AdaBoost</td>\n",
              "      <td>0.941641</td>\n",
              "      <td>{'n_estimators': 20, 'random_state': 7}</td>\n",
              "    </tr>\n",
              "    <tr>\n",
              "      <th>3</th>\n",
              "      <td>Gradient Boosting</td>\n",
              "      <td>0.974063</td>\n",
              "      <td>{'learning_rate': 0.2, 'random_state': 7}</td>\n",
              "    </tr>\n",
              "    <tr>\n",
              "      <th>4</th>\n",
              "      <td>XGBM</td>\n",
              "      <td>0.978318</td>\n",
              "      <td>{'learning_rate': 0.2, 'max_depth': 3, 'n_esti...</td>\n",
              "    </tr>\n",
              "    <tr>\n",
              "      <th>5</th>\n",
              "      <td>SVM</td>\n",
              "      <td>0.780952</td>\n",
              "      <td>{'C': 10, 'gamma': 50, 'kernel': 'rbf'}</td>\n",
              "    </tr>\n",
              "    <tr>\n",
              "      <th>6</th>\n",
              "      <td>KNN</td>\n",
              "      <td>0.956839</td>\n",
              "      <td>{'n_neighbors': 5}</td>\n",
              "    </tr>\n",
              "  </tbody>\n",
              "</table>\n",
              "</div>\n",
              "      <button class=\"colab-df-convert\" onclick=\"convertToInteractive('df-a1589f3b-eaf7-4584-9722-09259138519f')\"\n",
              "              title=\"Convert this dataframe to an interactive table.\"\n",
              "              style=\"display:none;\">\n",
              "        \n",
              "  <svg xmlns=\"http://www.w3.org/2000/svg\" height=\"24px\"viewBox=\"0 0 24 24\"\n",
              "       width=\"24px\">\n",
              "    <path d=\"M0 0h24v24H0V0z\" fill=\"none\"/>\n",
              "    <path d=\"M18.56 5.44l.94 2.06.94-2.06 2.06-.94-2.06-.94-.94-2.06-.94 2.06-2.06.94zm-11 1L8.5 8.5l.94-2.06 2.06-.94-2.06-.94L8.5 2.5l-.94 2.06-2.06.94zm10 10l.94 2.06.94-2.06 2.06-.94-2.06-.94-.94-2.06-.94 2.06-2.06.94z\"/><path d=\"M17.41 7.96l-1.37-1.37c-.4-.4-.92-.59-1.43-.59-.52 0-1.04.2-1.43.59L10.3 9.45l-7.72 7.72c-.78.78-.78 2.05 0 2.83L4 21.41c.39.39.9.59 1.41.59.51 0 1.02-.2 1.41-.59l7.78-7.78 2.81-2.81c.8-.78.8-2.07 0-2.86zM5.41 20L4 18.59l7.72-7.72 1.47 1.35L5.41 20z\"/>\n",
              "  </svg>\n",
              "      </button>\n",
              "      \n",
              "  <style>\n",
              "    .colab-df-container {\n",
              "      display:flex;\n",
              "      flex-wrap:wrap;\n",
              "      gap: 12px;\n",
              "    }\n",
              "\n",
              "    .colab-df-convert {\n",
              "      background-color: #E8F0FE;\n",
              "      border: none;\n",
              "      border-radius: 50%;\n",
              "      cursor: pointer;\n",
              "      display: none;\n",
              "      fill: #1967D2;\n",
              "      height: 32px;\n",
              "      padding: 0 0 0 0;\n",
              "      width: 32px;\n",
              "    }\n",
              "\n",
              "    .colab-df-convert:hover {\n",
              "      background-color: #E2EBFA;\n",
              "      box-shadow: 0px 1px 2px rgba(60, 64, 67, 0.3), 0px 1px 3px 1px rgba(60, 64, 67, 0.15);\n",
              "      fill: #174EA6;\n",
              "    }\n",
              "\n",
              "    [theme=dark] .colab-df-convert {\n",
              "      background-color: #3B4455;\n",
              "      fill: #D2E3FC;\n",
              "    }\n",
              "\n",
              "    [theme=dark] .colab-df-convert:hover {\n",
              "      background-color: #434B5C;\n",
              "      box-shadow: 0px 1px 3px 1px rgba(0, 0, 0, 0.15);\n",
              "      filter: drop-shadow(0px 1px 2px rgba(0, 0, 0, 0.3));\n",
              "      fill: #FFFFFF;\n",
              "    }\n",
              "  </style>\n",
              "\n",
              "      <script>\n",
              "        const buttonEl =\n",
              "          document.querySelector('#df-a1589f3b-eaf7-4584-9722-09259138519f button.colab-df-convert');\n",
              "        buttonEl.style.display =\n",
              "          google.colab.kernel.accessAllowed ? 'block' : 'none';\n",
              "\n",
              "        async function convertToInteractive(key) {\n",
              "          const element = document.querySelector('#df-a1589f3b-eaf7-4584-9722-09259138519f');\n",
              "          const dataTable =\n",
              "            await google.colab.kernel.invokeFunction('convertToInteractive',\n",
              "                                                     [key], {});\n",
              "          if (!dataTable) return;\n",
              "\n",
              "          const docLinkHtml = 'Like what you see? Visit the ' +\n",
              "            '<a target=\"_blank\" href=https://colab.research.google.com/notebooks/data_table.ipynb>data table notebook</a>'\n",
              "            + ' to learn more about interactive tables.';\n",
              "          element.innerHTML = '';\n",
              "          dataTable['output_type'] = 'display_data';\n",
              "          await google.colab.output.renderOutput(dataTable, element);\n",
              "          const docLink = document.createElement('div');\n",
              "          docLink.innerHTML = docLinkHtml;\n",
              "          element.appendChild(docLink);\n",
              "        }\n",
              "      </script>\n",
              "    </div>\n",
              "  </div>\n",
              "  "
            ]
          },
          "metadata": {},
          "execution_count": 15
        }
      ]
    },
    {
      "cell_type": "markdown",
      "source": [
        "#### Model Building - On Train & Test Data"
      ],
      "metadata": {
        "id": "gljN3L-v6exv"
      }
    },
    {
      "cell_type": "code",
      "source": [
        "#Train Test Split \n",
        "X_train, X_test, Y_train, Y_test = train_test_split(X, Y, test_size = 0.20,random_state=7)"
      ],
      "metadata": {
        "id": "CQfkdrSV6dye"
      },
      "execution_count": null,
      "outputs": []
    },
    {
      "cell_type": "code",
      "source": [
        "#SVM Model\n",
        "svm = SVC(kernel = 'rbf',gamma = 50, C = 10)\n",
        "svm.fit(X_train,Y_train)\n",
        "svm.score(X_test, Y_test)*100"
      ],
      "metadata": {
        "colab": {
          "base_uri": "https://localhost:8080/"
        },
        "id": "dX160Slf32zk",
        "outputId": "a8b9a281-e658-47b9-ba8b-a7d384decb7c"
      },
      "execution_count": null,
      "outputs": [
        {
          "output_type": "execute_result",
          "data": {
            "text/plain": [
              "77.9128672745694"
            ]
          },
          "metadata": {},
          "execution_count": 17
        }
      ]
    },
    {
      "cell_type": "code",
      "source": [
        "#XGBM Model\n",
        "xgbm = XGBClassifier(n_estimators = 100, max_depth = 3,learning_rate = 0.2,random_state = 7)\n",
        "xgbm.fit(X_train,Y_train)\n",
        "xgbm.score(X_test, Y_test)*100"
      ],
      "metadata": {
        "colab": {
          "base_uri": "https://localhost:8080/"
        },
        "id": "L8_8LfFd6Vtj",
        "outputId": "03ede4a0-a937-4da2-d540-67bd85e791fa"
      },
      "execution_count": null,
      "outputs": [
        {
          "output_type": "execute_result",
          "data": {
            "text/plain": [
              "97.56838905775076"
            ]
          },
          "metadata": {},
          "execution_count": 18
        }
      ]
    },
    {
      "cell_type": "code",
      "source": [
        "#Random Forest Model\n",
        "rfc = RandomForestClassifier(n_estimators=100, max_features=6,random_state=7)\n",
        "rfc.fit(X_train,Y_train)\n",
        "rfc.score(X_test, Y_test)*100"
      ],
      "metadata": {
        "colab": {
          "base_uri": "https://localhost:8080/"
        },
        "id": "6bPZGhZVBnAV",
        "outputId": "3e26e836-80e1-434e-a2dd-5dfaa4f133a5"
      },
      "execution_count": null,
      "outputs": [
        {
          "output_type": "execute_result",
          "data": {
            "text/plain": [
              "97.36575481256332"
            ]
          },
          "metadata": {},
          "execution_count": 19
        }
      ]
    },
    {
      "cell_type": "code",
      "source": [
        "#KNN Model\n",
        "knn = KNeighborsClassifier(n_neighbors = 5)\n",
        "knn.fit(X_train,Y_train)\n",
        "knn.score(X_test, Y_test)*100"
      ],
      "metadata": {
        "colab": {
          "base_uri": "https://localhost:8080/"
        },
        "id": "F8hBqJ_KFHjY",
        "outputId": "a76b933f-3240-410b-9eaa-2df87361592c"
      },
      "execution_count": null,
      "outputs": [
        {
          "output_type": "execute_result",
          "data": {
            "text/plain": [
              "95.13677811550151"
            ]
          },
          "metadata": {},
          "execution_count": 20
        }
      ]
    },
    {
      "cell_type": "markdown",
      "source": [
        "#### Model (XGBM) (Train Accuarcy)"
      ],
      "metadata": {
        "id": "lCM5g2RiAcek"
      }
    },
    {
      "cell_type": "code",
      "source": [
        "#XGBM Classifier and fit the model (On Smote Data)\n",
        "classifier = XGBClassifier(n_estimators = 100, max_depth = 3,learning_rate = 0.2,random_state = 7)\n",
        "classifier.fit(X,Y)\n",
        "#Predict for X dataset\n",
        "y_pred = classifier.predict(X)\n",
        "\n",
        "# Confusion Matrix for the model accuracy\n",
        "confusion_matrix = confusion_matrix(Y,y_pred)\n",
        "print (confusion_matrix)"
      ],
      "metadata": {
        "colab": {
          "base_uri": "https://localhost:8080/"
        },
        "id": "Ni-6oGM2Akw6",
        "outputId": "a9185c88-c914-4ffa-d882-2395bd86aa51"
      },
      "execution_count": null,
      "outputs": [
        {
          "output_type": "stream",
          "name": "stdout",
          "text": [
            "[[3265   25]\n",
            " [  29 1616]]\n"
          ]
        }
      ]
    },
    {
      "cell_type": "code",
      "source": [
        "#Calculating Accuracy \n",
        "#TP+TN / TP + FP + FN + TN\n",
        "((3265+1616)/(3265+25+29+1616))*100"
      ],
      "metadata": {
        "colab": {
          "base_uri": "https://localhost:8080/"
        },
        "id": "TZi8O3YJAk_h",
        "outputId": "6bdeb927-8f38-4358-effe-c2b0180e4e53"
      },
      "execution_count": null,
      "outputs": [
        {
          "output_type": "execute_result",
          "data": {
            "text/plain": [
              "98.90577507598785"
            ]
          },
          "metadata": {},
          "execution_count": 25
        }
      ]
    },
    {
      "cell_type": "code",
      "source": [
        "#Cross Validation on Entire Data (Smote Data)\n",
        "kfold = KFold(n_splits=5, random_state=10, shuffle=True)\n",
        "scores = cross_val_score(classifier,X,Y,scoring ='roc_auc', cv = kfold)\n",
        "print('Mean ROC AUC: %.3f' % np.mean(scores))"
      ],
      "metadata": {
        "colab": {
          "base_uri": "https://localhost:8080/"
        },
        "id": "l2PUhZqkYIvS",
        "outputId": "3a9b2e0b-c7e9-4219-a56a-587ff0a66e9b"
      },
      "execution_count": null,
      "outputs": [
        {
          "output_type": "stream",
          "name": "stdout",
          "text": [
            "Mean ROC AUC: 0.996\n"
          ]
        }
      ]
    },
    {
      "cell_type": "code",
      "source": [
        "#Recall Score on Smote Data of Final Model\n",
        "recall_score(Y,xgbm.predict(X))"
      ],
      "metadata": {
        "colab": {
          "base_uri": "https://localhost:8080/"
        },
        "id": "RUJC-BADbD6Y",
        "outputId": "46b5a804-b1f9-4d45-e001-e75e0018707c"
      },
      "execution_count": null,
      "outputs": [
        {
          "output_type": "execute_result",
          "data": {
            "text/plain": [
              "0.982370820668693"
            ]
          },
          "metadata": {},
          "execution_count": 27
        }
      ]
    },
    {
      "cell_type": "markdown",
      "source": [
        "##### Inference: Our Final Model Accuracy is 98.90%"
      ],
      "metadata": {
        "id": "XVEnYC1qBP_H"
      }
    },
    {
      "cell_type": "markdown",
      "source": [
        "#####  Model Test Accuarcy on (Imbalanced Data)"
      ],
      "metadata": {
        "id": "EcopPGbm_qkM"
      }
    },
    {
      "cell_type": "code",
      "source": [
        "#Test of Imbalanced Data on Smote Trained Final Model (Imbalanced Data)\n",
        "classifier.score(x_test_scaled,y_test)*100"
      ],
      "metadata": {
        "colab": {
          "base_uri": "https://localhost:8080/"
        },
        "id": "NU3T-WDe-2fb",
        "outputId": "b9786104-4633-4e0c-b8fe-dd9221db7f6e"
      },
      "execution_count": null,
      "outputs": [
        {
          "output_type": "execute_result",
          "data": {
            "text/plain": [
              "88.78999278325715"
            ]
          },
          "metadata": {},
          "execution_count": 29
        }
      ]
    },
    {
      "cell_type": "code",
      "source": [
        "#Cross Validation on Test Data by the Final Model\n",
        "kfold = KFold(n_splits=5, random_state=10, shuffle=True)\n",
        "scores = cross_val_score(classifier,x_test_scaled,y_test,scoring ='roc_auc', cv = kfold)\n",
        "print('Mean ROC AUC: %.3f' % np.mean(scores))"
      ],
      "metadata": {
        "colab": {
          "base_uri": "https://localhost:8080/"
        },
        "id": "1BsH0Oy9_S0F",
        "outputId": "1c05aee9-c568-4a4a-8f22-be2b37393361"
      },
      "execution_count": null,
      "outputs": [
        {
          "output_type": "stream",
          "name": "stdout",
          "text": [
            "Mean ROC AUC: 0.928\n"
          ]
        }
      ]
    },
    {
      "cell_type": "code",
      "source": [
        "#Recall Score on Test Data (Imbalanced Data) of Smote Trained Final Model\n",
        "recall_score(y_test,classifier.predict(x_test_scaled))"
      ],
      "metadata": {
        "colab": {
          "base_uri": "https://localhost:8080/"
        },
        "id": "RlPiSsxx_jGS",
        "outputId": "ae13cf71-b293-4f42-863a-1944029d71bc"
      },
      "execution_count": null,
      "outputs": [
        {
          "output_type": "execute_result",
          "data": {
            "text/plain": [
              "0.8548387096774194"
            ]
          },
          "metadata": {},
          "execution_count": 31
        }
      ]
    },
    {
      "cell_type": "markdown",
      "source": [
        "#### Inference: So XGBM Gave the Best Test Accuracy of 97.56 % On the Smote Data Lets test now this model on Imbalanced Data "
      ],
      "metadata": {
        "id": "AEKEuoyyAGON"
      }
    },
    {
      "cell_type": "code",
      "source": [
        "#Test on Imbalanced Data of Smote Trained Model (Imbalanced Data)\n",
        "xgbm.score(x_test_scaled,y_test)*100"
      ],
      "metadata": {
        "colab": {
          "base_uri": "https://localhost:8080/"
        },
        "id": "TKhxKoUY5FRZ",
        "outputId": "074877d2-0461-48ce-949a-7b33af0d4ddd"
      },
      "execution_count": null,
      "outputs": [
        {
          "output_type": "execute_result",
          "data": {
            "text/plain": [
              "90.8587923983642"
            ]
          },
          "metadata": {},
          "execution_count": 21
        }
      ]
    },
    {
      "cell_type": "code",
      "source": [
        "#Cross Validation on Test Data  (Imbalanced Data)\n",
        "kfold = KFold(n_splits=5, random_state=10, shuffle=True)\n",
        "scores = cross_val_score(xgbm,x_test_scaled,y_test,scoring ='roc_auc', cv = kfold)\n",
        "print('Mean ROC AUC: %.3f' % np.mean(scores))"
      ],
      "metadata": {
        "colab": {
          "base_uri": "https://localhost:8080/"
        },
        "id": "lvtTSGkM5zz3",
        "outputId": "20858d34-b716-4a23-92ee-94bd9b96ebce"
      },
      "execution_count": null,
      "outputs": [
        {
          "output_type": "stream",
          "name": "stdout",
          "text": [
            "Mean ROC AUC: 0.928\n"
          ]
        }
      ]
    },
    {
      "cell_type": "code",
      "source": [
        "#Recall Score on Test Data (Imbalanced Data) of Smote Trained Model\n",
        "recall_score(y_test,xgbm.predict(x_test_scaled))"
      ],
      "metadata": {
        "colab": {
          "base_uri": "https://localhost:8080/"
        },
        "id": "Ao2s4kxM6CWq",
        "outputId": "0930d2f7-f835-4fde-93c0-ab04e1d5a7ce"
      },
      "execution_count": null,
      "outputs": [
        {
          "output_type": "execute_result",
          "data": {
            "text/plain": [
              "0.8548387096774194"
            ]
          },
          "metadata": {},
          "execution_count": 23
        }
      ]
    },
    {
      "cell_type": "markdown",
      "source": [
        "##### Saving the Trained Model"
      ],
      "metadata": {
        "id": "gER40RYLBfo4"
      }
    },
    {
      "cell_type": "code",
      "source": [
        "# .pickle file\n",
        "import pickle\n",
        "with open('detections_model.pickle','wb') as f:\n",
        "    pickle.dump(classifier,f)"
      ],
      "metadata": {
        "id": "ULrZsnHcAlMs"
      },
      "execution_count": null,
      "outputs": []
    },
    {
      "cell_type": "markdown",
      "source": [
        "Summary:\n",
        "\n",
        "**BaseLine Model (Imbalanced Data),**\n",
        "\n",
        "Accuracy = 98.7%\n",
        "ROC = 97.6%,\n",
        "Recall = 29.05% .\n",
        "\n",
        "\n",
        "**Xgbm Model (Built On Entire Smote Data) Training Result,**\n",
        "\n",
        "Accuracy = 98.90%,\n",
        "ROC = 99.6%,\n",
        "Recall = 98.2% .\n",
        "\n",
        "\n",
        "**Xgbm Model (Built On Entire Smote Data) Test Result on Imbalanced Data,**\n",
        "\n",
        "Accuracy = 88.78%,\n",
        "ROC = 92.8%,\n",
        "Recall = 85.4% .\n",
        "\n",
        "\n",
        "**Xgbm Model (Built on Smote Data)(FINAL) Test Result on Imbalanced Data,**\n",
        "\n",
        "Accuracy = 90.85%,\n",
        "ROC = 92.8%,\n",
        "Recall = 85.4% ."
      ],
      "metadata": {
        "id": "Bag866qM7SJz"
      }
    }
  ]
}
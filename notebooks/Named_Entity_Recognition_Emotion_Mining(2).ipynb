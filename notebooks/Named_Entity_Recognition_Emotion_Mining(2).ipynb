{
 "cells": [
  {
   "cell_type": "markdown",
   "metadata": {
    "id": "4xle6UYfIaYs"
   },
   "source": [
    "#### Named Entity Recognition"
   ]
  },
  {
   "cell_type": "code",
   "execution_count": 1,
   "metadata": {
    "colab": {
     "base_uri": "https://localhost:8080/"
    },
    "executionInfo": {
     "elapsed": 7472,
     "status": "ok",
     "timestamp": 1648278040951,
     "user": {
      "displayName": "chirag jhumkhawala",
      "photoUrl": "https://lh3.googleusercontent.com/a-/AOh14GjipYW90uPwuGk-OG3CwVYkOT7gAFDDqMc8bm6r=s64",
      "userId": "08866107897979551593"
     },
     "user_tz": -330
    },
    "id": "QoFa8MxWQqQm",
    "outputId": "a45617cc-de18-4efe-defb-9caae6a5af99"
   },
   "outputs": [
    {
     "name": "stdout",
     "output_type": "stream",
     "text": [
      "Requirement already satisfied: spacy in /usr/local/lib/python3.7/dist-packages (2.2.4)\n",
      "Requirement already satisfied: preshed<3.1.0,>=3.0.2 in /usr/local/lib/python3.7/dist-packages (from spacy) (3.0.6)\n",
      "Requirement already satisfied: srsly<1.1.0,>=1.0.2 in /usr/local/lib/python3.7/dist-packages (from spacy) (1.0.5)\n",
      "Requirement already satisfied: catalogue<1.1.0,>=0.0.7 in /usr/local/lib/python3.7/dist-packages (from spacy) (1.0.0)\n",
      "Requirement already satisfied: tqdm<5.0.0,>=4.38.0 in /usr/local/lib/python3.7/dist-packages (from spacy) (4.63.0)\n",
      "Requirement already satisfied: wasabi<1.1.0,>=0.4.0 in /usr/local/lib/python3.7/dist-packages (from spacy) (0.9.0)\n",
      "Requirement already satisfied: blis<0.5.0,>=0.4.0 in /usr/local/lib/python3.7/dist-packages (from spacy) (0.4.1)\n",
      "Requirement already satisfied: plac<1.2.0,>=0.9.6 in /usr/local/lib/python3.7/dist-packages (from spacy) (1.1.3)\n",
      "Requirement already satisfied: cymem<2.1.0,>=2.0.2 in /usr/local/lib/python3.7/dist-packages (from spacy) (2.0.6)\n",
      "Requirement already satisfied: setuptools in /usr/local/lib/python3.7/dist-packages (from spacy) (57.4.0)\n",
      "Requirement already satisfied: murmurhash<1.1.0,>=0.28.0 in /usr/local/lib/python3.7/dist-packages (from spacy) (1.0.6)\n",
      "Requirement already satisfied: requests<3.0.0,>=2.13.0 in /usr/local/lib/python3.7/dist-packages (from spacy) (2.23.0)\n",
      "Requirement already satisfied: numpy>=1.15.0 in /usr/local/lib/python3.7/dist-packages (from spacy) (1.21.5)\n",
      "Requirement already satisfied: thinc==7.4.0 in /usr/local/lib/python3.7/dist-packages (from spacy) (7.4.0)\n",
      "Requirement already satisfied: importlib-metadata>=0.20 in /usr/local/lib/python3.7/dist-packages (from catalogue<1.1.0,>=0.0.7->spacy) (4.11.3)\n",
      "Requirement already satisfied: typing-extensions>=3.6.4 in /usr/local/lib/python3.7/dist-packages (from importlib-metadata>=0.20->catalogue<1.1.0,>=0.0.7->spacy) (3.10.0.2)\n",
      "Requirement already satisfied: zipp>=0.5 in /usr/local/lib/python3.7/dist-packages (from importlib-metadata>=0.20->catalogue<1.1.0,>=0.0.7->spacy) (3.7.0)\n",
      "Requirement already satisfied: chardet<4,>=3.0.2 in /usr/local/lib/python3.7/dist-packages (from requests<3.0.0,>=2.13.0->spacy) (3.0.4)\n",
      "Requirement already satisfied: idna<3,>=2.5 in /usr/local/lib/python3.7/dist-packages (from requests<3.0.0,>=2.13.0->spacy) (2.10)\n",
      "Requirement already satisfied: certifi>=2017.4.17 in /usr/local/lib/python3.7/dist-packages (from requests<3.0.0,>=2.13.0->spacy) (2021.10.8)\n",
      "Requirement already satisfied: urllib3!=1.25.0,!=1.25.1,<1.26,>=1.21.1 in /usr/local/lib/python3.7/dist-packages (from requests<3.0.0,>=2.13.0->spacy) (1.24.3)\n",
      "Requirement already satisfied: wordcloud in /usr/local/lib/python3.7/dist-packages (1.5.0)\n",
      "Requirement already satisfied: pillow in /usr/local/lib/python3.7/dist-packages (from wordcloud) (7.1.2)\n",
      "Requirement already satisfied: numpy>=1.6.1 in /usr/local/lib/python3.7/dist-packages (from wordcloud) (1.21.5)\n"
     ]
    }
   ],
   "source": [
    "!pip install spacy\n",
    "!pip install wordcloud"
   ]
  },
  {
   "cell_type": "code",
   "execution_count": 2,
   "metadata": {
    "colab": {
     "base_uri": "https://localhost:8080/"
    },
    "executionInfo": {
     "elapsed": 7521,
     "status": "ok",
     "timestamp": 1648278048441,
     "user": {
      "displayName": "chirag jhumkhawala",
      "photoUrl": "https://lh3.googleusercontent.com/a-/AOh14GjipYW90uPwuGk-OG3CwVYkOT7gAFDDqMc8bm6r=s64",
      "userId": "08866107897979551593"
     },
     "user_tz": -330
    },
    "id": "RzduaJKZSjBt",
    "outputId": "6f165e9f-fd07-4f4f-a396-12454895c638"
   },
   "outputs": [
    {
     "name": "stdout",
     "output_type": "stream",
     "text": [
      "Collecting en_core_web_sm==2.2.5\n",
      "  Downloading https://github.com/explosion/spacy-models/releases/download/en_core_web_sm-2.2.5/en_core_web_sm-2.2.5.tar.gz (12.0 MB)\n",
      "\u001b[K     |████████████████████████████████| 12.0 MB 7.3 MB/s \n",
      "\u001b[?25hRequirement already satisfied: spacy>=2.2.2 in /usr/local/lib/python3.7/dist-packages (from en_core_web_sm==2.2.5) (2.2.4)\n",
      "Requirement already satisfied: thinc==7.4.0 in /usr/local/lib/python3.7/dist-packages (from spacy>=2.2.2->en_core_web_sm==2.2.5) (7.4.0)\n",
      "Requirement already satisfied: cymem<2.1.0,>=2.0.2 in /usr/local/lib/python3.7/dist-packages (from spacy>=2.2.2->en_core_web_sm==2.2.5) (2.0.6)\n",
      "Requirement already satisfied: requests<3.0.0,>=2.13.0 in /usr/local/lib/python3.7/dist-packages (from spacy>=2.2.2->en_core_web_sm==2.2.5) (2.23.0)\n",
      "Requirement already satisfied: catalogue<1.1.0,>=0.0.7 in /usr/local/lib/python3.7/dist-packages (from spacy>=2.2.2->en_core_web_sm==2.2.5) (1.0.0)\n",
      "Requirement already satisfied: setuptools in /usr/local/lib/python3.7/dist-packages (from spacy>=2.2.2->en_core_web_sm==2.2.5) (57.4.0)\n",
      "Requirement already satisfied: plac<1.2.0,>=0.9.6 in /usr/local/lib/python3.7/dist-packages (from spacy>=2.2.2->en_core_web_sm==2.2.5) (1.1.3)\n",
      "Requirement already satisfied: wasabi<1.1.0,>=0.4.0 in /usr/local/lib/python3.7/dist-packages (from spacy>=2.2.2->en_core_web_sm==2.2.5) (0.9.0)\n",
      "Requirement already satisfied: tqdm<5.0.0,>=4.38.0 in /usr/local/lib/python3.7/dist-packages (from spacy>=2.2.2->en_core_web_sm==2.2.5) (4.63.0)\n",
      "Requirement already satisfied: numpy>=1.15.0 in /usr/local/lib/python3.7/dist-packages (from spacy>=2.2.2->en_core_web_sm==2.2.5) (1.21.5)\n",
      "Requirement already satisfied: preshed<3.1.0,>=3.0.2 in /usr/local/lib/python3.7/dist-packages (from spacy>=2.2.2->en_core_web_sm==2.2.5) (3.0.6)\n",
      "Requirement already satisfied: murmurhash<1.1.0,>=0.28.0 in /usr/local/lib/python3.7/dist-packages (from spacy>=2.2.2->en_core_web_sm==2.2.5) (1.0.6)\n",
      "Requirement already satisfied: blis<0.5.0,>=0.4.0 in /usr/local/lib/python3.7/dist-packages (from spacy>=2.2.2->en_core_web_sm==2.2.5) (0.4.1)\n",
      "Requirement already satisfied: srsly<1.1.0,>=1.0.2 in /usr/local/lib/python3.7/dist-packages (from spacy>=2.2.2->en_core_web_sm==2.2.5) (1.0.5)\n",
      "Requirement already satisfied: importlib-metadata>=0.20 in /usr/local/lib/python3.7/dist-packages (from catalogue<1.1.0,>=0.0.7->spacy>=2.2.2->en_core_web_sm==2.2.5) (4.11.3)\n",
      "Requirement already satisfied: typing-extensions>=3.6.4 in /usr/local/lib/python3.7/dist-packages (from importlib-metadata>=0.20->catalogue<1.1.0,>=0.0.7->spacy>=2.2.2->en_core_web_sm==2.2.5) (3.10.0.2)\n",
      "Requirement already satisfied: zipp>=0.5 in /usr/local/lib/python3.7/dist-packages (from importlib-metadata>=0.20->catalogue<1.1.0,>=0.0.7->spacy>=2.2.2->en_core_web_sm==2.2.5) (3.7.0)\n",
      "Requirement already satisfied: urllib3!=1.25.0,!=1.25.1,<1.26,>=1.21.1 in /usr/local/lib/python3.7/dist-packages (from requests<3.0.0,>=2.13.0->spacy>=2.2.2->en_core_web_sm==2.2.5) (1.24.3)\n",
      "Requirement already satisfied: certifi>=2017.4.17 in /usr/local/lib/python3.7/dist-packages (from requests<3.0.0,>=2.13.0->spacy>=2.2.2->en_core_web_sm==2.2.5) (2021.10.8)\n",
      "Requirement already satisfied: chardet<4,>=3.0.2 in /usr/local/lib/python3.7/dist-packages (from requests<3.0.0,>=2.13.0->spacy>=2.2.2->en_core_web_sm==2.2.5) (3.0.4)\n",
      "Requirement already satisfied: idna<3,>=2.5 in /usr/local/lib/python3.7/dist-packages (from requests<3.0.0,>=2.13.0->spacy>=2.2.2->en_core_web_sm==2.2.5) (2.10)\n",
      "\u001b[38;5;2m✔ Download and installation successful\u001b[0m\n",
      "You can now load the model via spacy.load('en_core_web_sm')\n",
      "\u001b[38;5;2m✔ Linking successful\u001b[0m\n",
      "/usr/local/lib/python3.7/dist-packages/en_core_web_sm -->\n",
      "/usr/local/lib/python3.7/dist-packages/spacy/data/en\n",
      "You can now load the model via spacy.load('en')\n"
     ]
    }
   ],
   "source": [
    "###Execute below command through anaconda command prompt\n",
    "!python -m spacy download en\n"
   ]
  },
  {
   "cell_type": "code",
   "execution_count": 25,
   "metadata": {
    "executionInfo": {
     "elapsed": 981,
     "status": "ok",
     "timestamp": 1648278049385,
     "user": {
      "displayName": "chirag jhumkhawala",
      "photoUrl": "https://lh3.googleusercontent.com/a-/AOh14GjipYW90uPwuGk-OG3CwVYkOT7gAFDDqMc8bm6r=s64",
      "userId": "08866107897979551593"
     },
     "user_tz": -330
    },
    "id": "KR54eo-MIaYs",
    "tags": []
   },
   "outputs": [],
   "source": [
    "import numpy as np # linear algebra\n",
    "import pandas as pd # data processing, CSV file I/O (e.g. pd.read_csv)\n",
    "import string # special operations on strings\n",
    "import spacy # language models\n",
    "\n",
    "from matplotlib.pyplot import imread\n",
    "from matplotlib import pyplot as plt\n",
    "from wordcloud import WordCloud\n",
    "%matplotlib inline"
   ]
  },
  {
   "cell_type": "code",
   "execution_count": 27,
   "metadata": {
    "colab": {
     "base_uri": "https://localhost:8080/"
    },
    "executionInfo": {
     "elapsed": 34,
     "status": "ok",
     "timestamp": 1648278049387,
     "user": {
      "displayName": "chirag jhumkhawala",
      "photoUrl": "https://lh3.googleusercontent.com/a-/AOh14GjipYW90uPwuGk-OG3CwVYkOT7gAFDDqMc8bm6r=s64",
      "userId": "08866107897979551593"
     },
     "user_tz": -330
    },
    "id": "B9UQFM-kIaYs",
    "outputId": "51103f60-246e-43c2-8488-afa248cb8b7d",
    "tags": []
   },
   "outputs": [
    {
     "name": "stderr",
     "output_type": "stream",
     "text": [
      "/tmp/ipykernel_12554/1198142851.py:2: FutureWarning: The error_bad_lines argument has been deprecated and will be removed in a future version. Use on_bad_lines in the future.\n",
      "\n",
      "\n",
      "  book=pd.read_csv(\"apple.txt\",error_bad_lines=False)\n",
      "Skipping line 6: expected 1 fields, saw 14\n",
      "\n"
     ]
    }
   ],
   "source": [
    "import pandas\n",
    "book=pd.read_csv(\"apple.txt\",error_bad_lines=False)"
   ]
  },
  {
   "cell_type": "code",
   "execution_count": 28,
   "metadata": {
    "colab": {
     "base_uri": "https://localhost:8080/"
    },
    "executionInfo": {
     "elapsed": 795,
     "status": "ok",
     "timestamp": 1648278050159,
     "user": {
      "displayName": "chirag jhumkhawala",
      "photoUrl": "https://lh3.googleusercontent.com/a-/AOh14GjipYW90uPwuGk-OG3CwVYkOT7gAFDDqMc8bm6r=s64",
      "userId": "08866107897979551593"
     },
     "user_tz": -330
    },
    "id": "Wcld8yJKIaYt",
    "outputId": "bf830500-b47d-452d-dad2-6ef357eb37b9",
    "tags": []
   },
   "outputs": [
    {
     "data": {
      "text/plain": [
       "[\"It's amazing..... battery last around 10 -12 hrs.....best laptop for students and coders\",\n",
       " \"Finally a MacBook possession. Got it in 50k in Diwali sale. Technically good laptop.Good News.luxury product, niche technology, good battery life, reliable machine (other laptops crash and become defunct in 6-10 years), no anti-virus required, security of data and transactions much better. Terrific sense of possession & pride.Bad News. Problems will be there if you are switching from windows based system - very less space in hard disk, no CD drive, inability to transfer data from Mac to your existing external hard disc unless you format it, apps are mostly paid and re unreasonably expensive (no free apps which are available otherwise on google play store, even the angry bird costs Rs 400 !!), all printers are not compatible (e.g. the most economical MFD laser printer RICOH SP 111 can't be used), huge compatibility issues with Pages (MS Word) and Keynote (powerpoint) unless you master it by working on these (still mostly the document and slides either do not open in windows environment or have distortion issues). you need to spend extra for an external CD writer and tp buy a carry bag. Mac con not be connected to most of the projectors unless you buy some connectors, which are expensive and theres no clarity which one to buy and from where. you can't connect it to your TV, the ports are different and again theres no clarity - customer support, manuals or help section are silent ! Marketing strategy for Indian market, if at all has been planned, has been very bad. If these critical issues (and a few more not mentioned here) are handled properly, the Mac can sweep away other laptops in India. Presently, it doesn't seem to be happening.Overall Verdict.If compatibility issues mentioned above do not bother you, go for it. Else, think hard.  If its an emotional issue to own a long cherished Mac, then its a different thing. Go ahead and gradually you would figure out most (but not all) of the above problems, like I did.\",\n",
       " \"Best Laptop under 60k. If you don't want any accounting softwares like tally or busy then go for it, better than windows in every term. I just love it's battery life with sleek look 😍Now talking about MS officeIt's available on app store, free for 1 monthAfter that you will have to pay.You cannot install pirated version but if you install Windows 7 or any other version then u can use Ms office for freeBut in MacBook there are other apps which are good substitute for Ms office appsNumbers for ExcelPages for wordKeynote for PowerPointAnd you can convert your numbers file to Excel file or csv fileSame for the pages & keynoteSo no need of Ms office for me.Cons1. U cannot play games, your laptop will just heat up, battery will drain* U cannot play pubg mobile on emulator if you are pubg lover😁2. Storage 128gb, it will work fine but if you want to store movies or TV shows u can't, u have to buy external hard disk\",\n",
       " 'Pros:1. Light weight and super fast response time2. Highly optimize which avoids any kind of process lag.3. Beautiful looks and feels like a prime product.4. Long battery life and awesome sound clarity5. Purchased during Amazon sale cost around 52k.Cons:1. Not enough memory2. Limited softwares available3. Operating system is not that user-friendlyProbably one of the best option for 50k+ laptops',\n",
       " '\"',\n",
       " 'I am very upset about the product as I checked my MacBook 15 days back in December, it didn’t start. It was luckily in warranty . I took it to the service centre and they informed me the mother board and battery collapsed. If it was not in warranty I had to pay 47000/. I asked for replacement of the product and I was refused. They got it fixed for me. I don’t know why should I pay 57000/ for Mac quality. If this is the quality and the service, then I have to go to other product. In January my product expiry was due. They have give an extension of 3 months warranty when I had asked for 1 year. Very disappointed.',\n",
       " 'Reason for 1 star is I ot an defective piece. The sound quality was not good . My laptop started giving issues with power button from  4 months. The screen would flicker and it would shutdown automatically after sometime. Took the mac to service centre. They replaced the motherboard free of cost as it was in warranty. Now my mac is perfectly fine :',\n",
       " 'Got the Apple Macbook air on amazon discount sale.1) The OS is smooth and is a breeze to work with. Ships with macOS sierra but update is available to macOS mojave2) The design and build quality, as you can expect from an apple product is top notch.3) Excellen sound quality, keyboard.Cons:1) 128GB may be low incase you want to have movies and media in your laptop.You need to carry around a hard disk that kind of nullifies the advantage of having a light weight laptop.2) Display resolution is not exactly upto the mark',\n",
       " 'White line coming on screen in just three months of purchase from amazon. Doubting the quality of the products sold on amazon',\n",
       " 'Bought this product recently on 5 April, was working perfectly fine for few days and on 16 April the Mac working charge or turn on. Apple service centre says they can’t fix the product under warranty and amazon in try to come up with a solution ever since , no solid answer . I m stuck with a dead mac after using it for 10days. Request seller , Amazon or apple to take full responsibility.']"
      ]
     },
     "execution_count": 28,
     "metadata": {},
     "output_type": "execute_result"
    }
   ],
   "source": [
    "book = [x.strip() for x in book.x] # remove both the leading and the trailing characters\n",
    "book = [x for x in book if x] # removes empty strings, because they are considered in Python as False\n",
    "book[0:10]"
   ]
  },
  {
   "cell_type": "code",
   "execution_count": 29,
   "metadata": {
    "colab": {
     "base_uri": "https://localhost:8080/"
    },
    "executionInfo": {
     "elapsed": 18,
     "status": "ok",
     "timestamp": 1648278050161,
     "user": {
      "displayName": "chirag jhumkhawala",
      "photoUrl": "https://lh3.googleusercontent.com/a-/AOh14GjipYW90uPwuGk-OG3CwVYkOT7gAFDDqMc8bm6r=s64",
      "userId": "08866107897979551593"
     },
     "user_tz": -330
    },
    "id": "XheJZ3rkM7Up",
    "outputId": "d75fb402-7c59-41df-9014-4a17f07f4a06",
    "tags": []
   },
   "outputs": [
    {
     "data": {
      "text/plain": [
       "[\"It's amazing..... battery last around 10 -12 hrs.....best laptop for students and coders\",\n",
       " \"Finally a MacBook possession. Got it in 50k in Diwali sale. Technically good laptop.Good News.luxury product, niche technology, good battery life, reliable machine (other laptops crash and become defunct in 6-10 years), no anti-virus required, security of data and transactions much better. Terrific sense of possession & pride.Bad News. Problems will be there if you are switching from windows based system - very less space in hard disk, no CD drive, inability to transfer data from Mac to your existing external hard disc unless you format it, apps are mostly paid and re unreasonably expensive (no free apps which are available otherwise on google play store, even the angry bird costs Rs 400 !!), all printers are not compatible (e.g. the most economical MFD laser printer RICOH SP 111 can't be used), huge compatibility issues with Pages (MS Word) and Keynote (powerpoint) unless you master it by working on these (still mostly the document and slides either do not open in windows environment or have distortion issues). you need to spend extra for an external CD writer and tp buy a carry bag. Mac con not be connected to most of the projectors unless you buy some connectors, which are expensive and theres no clarity which one to buy and from where. you can't connect it to your TV, the ports are different and again theres no clarity - customer support, manuals or help section are silent ! Marketing strategy for Indian market, if at all has been planned, has been very bad. If these critical issues (and a few more not mentioned here) are handled properly, the Mac can sweep away other laptops in India. Presently, it doesn't seem to be happening.Overall Verdict.If compatibility issues mentioned above do not bother you, go for it. Else, think hard.  If its an emotional issue to own a long cherished Mac, then its a different thing. Go ahead and gradually you would figure out most (but not all) of the above problems, like I did.\",\n",
       " \"Best Laptop under 60k. If you don't want any accounting softwares like tally or busy then go for it, better than windows in every term. I just love it's battery life with sleek look 😍Now talking about MS officeIt's available on app store, free for 1 monthAfter that you will have to pay.You cannot install pirated version but if you install Windows 7 or any other version then u can use Ms office for freeBut in MacBook there are other apps which are good substitute for Ms office appsNumbers for ExcelPages for wordKeynote for PowerPointAnd you can convert your numbers file to Excel file or csv fileSame for the pages & keynoteSo no need of Ms office for me.Cons1. U cannot play games, your laptop will just heat up, battery will drain* U cannot play pubg mobile on emulator if you are pubg lover😁2. Storage 128gb, it will work fine but if you want to store movies or TV shows u can't, u have to buy external hard disk\",\n",
       " 'Pros:1. Light weight and super fast response time2. Highly optimize which avoids any kind of process lag.3. Beautiful looks and feels like a prime product.4. Long battery life and awesome sound clarity5. Purchased during Amazon sale cost around 52k.Cons:1. Not enough memory2. Limited softwares available3. Operating system is not that user-friendlyProbably one of the best option for 50k+ laptops',\n",
       " '\"',\n",
       " 'I am very upset about the product as I checked my MacBook 15 days back in December, it didn’t start. It was luckily in warranty . I took it to the service centre and they informed me the mother board and battery collapsed. If it was not in warranty I had to pay 47000/. I asked for replacement of the product and I was refused. They got it fixed for me. I don’t know why should I pay 57000/ for Mac quality. If this is the quality and the service, then I have to go to other product. In January my product expiry was due. They have give an extension of 3 months warranty when I had asked for 1 year. Very disappointed.',\n",
       " 'Reason for 1 star is I ot an defective piece. The sound quality was not good . My laptop started giving issues with power button from  4 months. The screen would flicker and it would shutdown automatically after sometime. Took the mac to service centre. They replaced the motherboard free of cost as it was in warranty. Now my mac is perfectly fine :',\n",
       " 'Got the Apple Macbook air on amazon discount sale.1) The OS is smooth and is a breeze to work with. Ships with macOS sierra but update is available to macOS mojave2) The design and build quality, as you can expect from an apple product is top notch.3) Excellen sound quality, keyboard.Cons:1) 128GB may be low incase you want to have movies and media in your laptop.You need to carry around a hard disk that kind of nullifies the advantage of having a light weight laptop.2) Display resolution is not exactly upto the mark',\n",
       " 'White line coming on screen in just three months of purchase from amazon. Doubting the quality of the products sold on amazon',\n",
       " 'Bought this product recently on 5 April, was working perfectly fine for few days and on 16 April the Mac working charge or turn on. Apple service centre says they can’t fix the product under warranty and amazon in try to come up with a solution ever since , no solid answer . I m stuck with a dead mac after using it for 10days. Request seller , Amazon or apple to take full responsibility.',\n",
       " \"Hi, Think thousand time before buying. One calm night i was cuddling in jaipuri blanket while enjoying youtube on this expensive machine. Cold night and little excitement created electrostatic charge which spike though spaceBar button. that's how it went to deep sleep forever. Nothing can bring it back and i am in no mood in spending another fortune on this machine. Apple, of you (i)care, this is the least of security feature included in all electronic devices. And the best part, it was a week after Warranty expiration date.\",\n",
       " \"We buy macbook's expecting that it will lasts at least 3 years, not in my case they are saying it will costs 46000rs to repair.. i bought this in 58000rs.. if i don't want to repair it still I've to pay 2500rs as diagnostic cost.. not recommended..\",\n",
       " 'I use this for music production and it works awesome..however the display is not so good as it should have been in a 63k laptop',\n",
       " 'Never purchase any Apple products. I bought 3 and start giving problems just after 6 months. I need to visit 4 times service station which is far 12 km. Again MacBook start acting dead after 6 more months. Mean a top priced laptop giving problems in every 6 months.I have good experiences with other brands of laptops. I hope this comment can help to save somebody’s money.',\n",
       " 'Good purchase of mineBest for programming...Only some heating issues...but can be ignored!!',\n",
       " 'I bought MacBook air in 2017, it was working fine till last month. It suddenly stopped charging I took it apple care and was shocked to hear the feedback. They told me that the motherboard is dead and i have to buy a new motherboard. The cost was 50k ( i bought at 53k in 2017). We buy Apple products because they are meant to be long-lasting. I am really disappointed and would prefer other companies next time. They earn extra money from selling an extended warranty.',\n",
       " \"Bought it on 9th July, stopped working / not turning power on by 4th Nov. Adding to this disappointment is - Apple's refusal to repair it under warranty stating that there is corrosion in Logic Board. Amazon also did not help. The seller - Appario - does not like to be bothered with it. Sometimes I wonder if buying electronics online is a good idea!\",\n",
       " 'I bought it last year from Amazon during Sale. It worked well for on year and then suddenly stopped working. I am unable to switch it on. I took it to service centre and they told that the logic board has to be replaced. The cost is around 45000. I am helpless. I dont want to invest more into that. I used the laptop very carefully but I think Amazon sent a defected piece on sale.',\n",
       " 'All are Gud.. For now..',\n",
       " \"Apple,apple,apple, thats the first thing that must have flashed in you mind when you saw this product, so here i have a total breif review on the laptop...***Pros***4k Video Editing with Final Cut Pro X on this thing works like butter, there is heating issue that i am going to go to apple service center to get it checkedEveryday works like checking mail and is just gr8The Battery is just OVERPOWERED, works for around 11-12 hours on continuous work and 8-9 hours when editingThe graphics card scores 30 fps in cinebench which is not that badThe performance is also fine, 280 cb processor score on cinebenchSpeakers are really good with perfect bassDisplay brightness is 300 nits, which is fineThe Wi-Fi is extremely good, can get a network even from the living room while the router is in the bedroomVery thin and lightweightMacOS is good for School work if you know all the office applications for mac, for eg.Pages is WordMagSafe 2 is the best partGood Trackpad and Keyboard with backlightThe Storage is fast!, thanks to the M.2 based SSD!***Cons***Display, though the resolution is fairly good for a 13.3 inch display, the viewing angle is not appropriate for a 84k laptopGets heated up (Going to get it checked by apple support). Cooling not appropriate for this cpu, need a better thermal paste and fanRam management on MacOS Mojave is not good, 8 GBs of memory is not well distributed among all tasks running in backgroundMacOS is not made for gaming, you need to boot camp on this mac with Windows if you are really a hard-core gamerIntel HD integrated graphics at the price???, god damn it apple (Though its not bad, have seen GeForce 940MX at the same price)No Force trackpadBezels are way too thick in today's standardsNo thunderbolt 3 or Usb CCan't detect Android Devices until Android Device Explorer is installedThe Storage is less! (128 GB, will upgrade to 256 GB in a few years)***My Verdict***This devices is for them who want Battery and Power, and people who want to do Video Editing on Final Cut Pro X, if anyone has a heat up issue than you should Call apple Support and visit one service center immediately to get your laptop checked! Though the graphics is OK from my view, apple could have given better graphics like the radeon vega 8 graphics or Intel Iris Plus or Pro for a laptop that is so expensive! Everything else is Great! And MacOS is not that hard, i easily use both my Lenovo Gaming PC and my apple macbook air easily! Go for it if you are in the criteria I explained above! For hard-core video editing I would recommend atleast an iMac 4k or MacBook Pro Base Model because of its cooling Fan structure, Better Graphics and CPU! This Air is enough to edit 4k60fps videos but will slow down a bit in 5k60fps! While exporting the 4k60fps video the CPU and GPU went up to 104 degrees, this is the reason i am going to apple support! Thank You if you read the whole review because I spent a lot of time writing this!*Update on 8 Oct, 2019*Apple service did nothing, so I thought of doing my own service! Yes, I changed the thermal paste and dusted the fan, now, everything is running even better than ever, even the heating issua is solved! Now while exporting a 4k 60 fps video, it's just around 80 degrees, hence no thermal throttling, Yay!\",\n",
       " 'After using Windows Operating system for the past 10+ years, I switched to Mac. The switch was inspired by the awesome reviews I got from my friends. I must say that they were all real and that the device and the tech is so very impressive. Be it the design,  be it the processing speed, be it the battery life......all are way ahead than that of a Windows device. I am satisfied to get the marvel of a tech in my hands. It is saving my time every now and then as I am stricken with an idea to pen a couplet, short story or poem.....I simply open the lid, note the idea and then simply close it....no need of shutting the OS down everytime. Working perfectly.',\n",
       " 'MacBook Air is excellent. The build is super strong, the operating systems runs smooth. The trackpad and keyboard are great. The only thing that can be improved is its screen (the visuals). Not as good as expected. The hard disk is too small but if you carry an external hard disk you can solve that problem. Got it at the price of a Dell Windows laptop during Amazon sale. A great deal.',\n",
       " 'Very handy laptop, light weight and portable. Mac OS is super cool. Battery backup was good. Defective product recieved,within 2 months of use, laptop gets switched off suddenly while on battery. Requires power input to restart again.Contacted service centre, they told its motherboard problem and replaced motherboard under warranty, but problem still persisting. Laptop still at service center. Earlier i was using toshiba laptop, satellite 340,lasted 8 yrs without any problem. Paid a premium for macbook air very dissapointed with apple quality of products. And to repair it outside warranty, parts cost as much as the laptop itself🙄',\n",
       " 'I was apprehensive of buying Apple product from Amazon as some reviews suggested that imported items are being sold. However what I got was fresh and genuine product, I checked warranty on Apple site with serial no. All serial no - on bill, box, inner box and in macOS itself were consistent. Display is too good and it feels like butter operating the device. Only thing is that price difference between this and 256GB version is too much.',\n",
       " 'I brought this mac air on sep 2017. From past 1 week I am not able to turn on my mac, went to apple store and after troubleshooting they said it is having motherboard problem and need to replace which cost 50k, I was shocked and said how come in less than 2 year mac will have this issue. So kindly please beawre on this big bug mac air.',\n",
       " \"Don't want to mention anything for apple MAC book :)Super product\",\n",
       " 'I have my worst nightmare with the macbook air I bought. I bought it on theOctober 2018, it got into teouble in the month april 2019. It would turn was trying to restart automatically. I then reoaired it from apple care. It again got dead and woulnt turn onn. I put all the money into water. I dont know what to do with this.',\n",
       " 'Everything about this product seems to be fine as of now. Got an option to upgrade to higher OS and install tools required for my work. Except for not so good sound quality while watching movies through itunes stores, other aspect seems to be fine. Higher storage options (256 GB) may be required for power users who may want to app development on this system. Current configuration suits light - medium heavy user(I belong to this category)- (need xcode debugging feature for my projects ).',\n",
       " 'I was looking for an affordable long lasting light laptop and my search led me to this. I know Apple has launch a new Air but this is still a good performer and with the recent price cut this laptop makes so much sense. I was using MacBook Pro for last 8 years, and after it retired this replaced the Pro and is not doing a bad job at it at all.',\n",
       " \"This is the worst  apple product I have ever seen ...6 month After purchase of this fake book ...some of its keys of keyboard  stopped working ...So the service center  replace my keyboard with the new one ...But after some months with  the new replaced  keyboard some of its key again stopped working .All these things happen in one year and 3 month timeline which is roughly 1.5 years of original purchase date ... ...When I spoke to the service center they told me that the warranty is over you need to pay 12000 rs ...So I don't have any option. The cost is too high. ..So now I m working with the external keyboard which cost me merely 200 rs ... My friend bought the same macbook from the showroom and i must say its really working good and it doesnt show any fault at all .Till now .i wish i also bought this macbook from the showroom ....\",\n",
       " 'Amazing product..it has quality written all over it..great battery, easy to adapt if you are moving from windows..the trackpad, gestures, everything is so damm goodHad read many reviews about the display being bad...it is..if you are trying to look at atomic level details..its a fantastic screen with great audio output..Everything g screams quality and premium about the macbook..love it.',\n",
       " 'From the very beginning the battery life was horrible . hardly 2 hours. And after using it for just a year it just stopped working . and i cannot even charge it. Terrible product sold by Amazon',\n",
       " \"The rating isn't for Apple's performance. I exchanged my old MacBook Air 11' (2013) for MacBook Air 13.3' (2017): and I haven't been disappointed. They both are fantastic machines, there isn't a bit of change except the screen - it is slightly bigger and better...The rating for the seller - I would give 5 star for delivery and 4 star for packaging. However, the product came with multiple scratches. I am unable to conclude whose fault it is- Apple or the reseller (in this case - Cloudtail India Pvt Ltd).I have restored my previous backup and will observe the performance over the week. If it under performs- I will report it to the authorities. If it performs well, the scratches may have been anyone's fault but can be ignored...I shall update this review in a week's time...\",\n",
       " 'I preferred this over other good spec windows laptop, just for reason mac. 128 gb ssd was only concern as it may not be sufficient however adding external hd or flash drive will do the job for u. Overall even the screen is not full hd i did not find it much of the issue, however If u r concern about good display must for consider this as option. Additionaly over 13000 discount in last sale made this perfect deal.',\n",
       " \"When i received, within 15 days i realised the hinges were loose. Then after less than 2 months very rare use i got a line on the display. The replacement window was only 10 days. Now i have given it for service and even apple doesn't have a replacement policy. So i have to use a repaired device inspite of buying new. Very disappointing.\",\n",
       " \"Be careful while buying electronic products through Amazon.I bought this macbook for 56k on March 2018. After 1.5 years of usage, the display stopped working for no reason. The device never had any accidental drop or shock while I was using it through these years. The service center guy told me it would cost around 41k for screen replacement. Now I'm left with no option.If you are buying, I suggest you to buy it along with a protection plan or any extended warranty.\",\n",
       " \"MERITS..IT IS BEST IN ITS PERFORMANCE..SOUND QUALITY IS AMAZING..NICE PICTURE QUALITY...GREAT STABILIZATION..BEST UI(USER INTERFACE)..BEST LAPTOP FOR NORMAL HUMANS🤣 >50KDEMERITSCANNOT BE USED FOR GAMINGbut If You areNot a Productive person Then only You Play games..And...THERE's nothing much bad about\",\n",
       " '3 years and still running! great product',\n",
       " 'The elegant work of apple can be seen in this product. The design, the user friendliness, the compactness can be easily seen in this laptop. Coming to the performance, the speed of this is remarkable, and you can get to know the power of Mac os when you have another apple product. You can get one of the best movie experiences on this . Overall I would it a 4.5/5.',\n",
       " 'I got a great deal on this laptop, which I have been using for almost a year now. I got it not only on discount but also was able to exchange my old laptop with this! Laptop works really well, it was a good purchase!']"
      ]
     },
     "execution_count": 29,
     "metadata": {},
     "output_type": "execute_result"
    }
   ],
   "source": [
    "book"
   ]
  },
  {
   "cell_type": "code",
   "execution_count": 33,
   "metadata": {
    "colab": {
     "base_uri": "https://localhost:8080/",
     "height": 262
    },
    "executionInfo": {
     "elapsed": 1338,
     "status": "ok",
     "timestamp": 1648278051490,
     "user": {
      "displayName": "chirag jhumkhawala",
      "photoUrl": "https://lh3.googleusercontent.com/a-/AOh14GjipYW90uPwuGk-OG3CwVYkOT7gAFDDqMc8bm6r=s64",
      "userId": "08866107897979551593"
     },
     "user_tz": -330
    },
    "id": "1kyy_QSZIaYu",
    "outputId": "be6a99c6-d901-4fcc-9a3a-b28b6686cbad",
    "tags": []
   },
   "outputs": [
    {
     "data": {
      "text/html": [
       "<span class=\"tex2jax_ignore\"><div class=\"entities\" style=\"line-height: 2.5; direction: ltr\">Best Laptop \n",
       "<mark class=\"entity\" style=\"background: #bfe1d9; padding: 0.45em 0.6em; margin: 0 0.25em; line-height: 1; border-radius: 0.35em;\">\n",
       "    under 60k\n",
       "    <span style=\"font-size: 0.8em; font-weight: bold; line-height: 1; border-radius: 0.35em; vertical-align: middle; margin-left: 0.5rem\">DATE</span>\n",
       "</mark>\n",
       ". If you don't want any accounting softwares like tally or busy then go for it, better than windows in every term. I just love it's battery life with sleek look 😍Now talking about \n",
       "<mark class=\"entity\" style=\"background: #7aecec; padding: 0.45em 0.6em; margin: 0 0.25em; line-height: 1; border-radius: 0.35em;\">\n",
       "    MS\n",
       "    <span style=\"font-size: 0.8em; font-weight: bold; line-height: 1; border-radius: 0.35em; vertical-align: middle; margin-left: 0.5rem\">ORG</span>\n",
       "</mark>\n",
       " officeIt's available on app store, free for \n",
       "<mark class=\"entity\" style=\"background: #bfe1d9; padding: 0.45em 0.6em; margin: 0 0.25em; line-height: 1; border-radius: 0.35em;\">\n",
       "    1 monthAfter\n",
       "    <span style=\"font-size: 0.8em; font-weight: bold; line-height: 1; border-radius: 0.35em; vertical-align: middle; margin-left: 0.5rem\">DATE</span>\n",
       "</mark>\n",
       " that you will have to pay.You cannot install pirated version but if you install Windows 7 or any other version then u can use Ms office for freeBut in \n",
       "<mark class=\"entity\" style=\"background: #feca74; padding: 0.45em 0.6em; margin: 0 0.25em; line-height: 1; border-radius: 0.35em;\">\n",
       "    MacBook\n",
       "    <span style=\"font-size: 0.8em; font-weight: bold; line-height: 1; border-radius: 0.35em; vertical-align: middle; margin-left: 0.5rem\">GPE</span>\n",
       "</mark>\n",
       " there are other apps which are good substitute for Ms office appsNumbers for \n",
       "<mark class=\"entity\" style=\"background: #c887fb; padding: 0.45em 0.6em; margin: 0 0.25em; line-height: 1; border-radius: 0.35em;\">\n",
       "    ExcelPages\n",
       "    <span style=\"font-size: 0.8em; font-weight: bold; line-height: 1; border-radius: 0.35em; vertical-align: middle; margin-left: 0.5rem\">NORP</span>\n",
       "</mark>\n",
       " for wordKeynote for PowerPointAnd you can convert your numbers file to \n",
       "<mark class=\"entity\" style=\"background: #bfeeb7; padding: 0.45em 0.6em; margin: 0 0.25em; line-height: 1; border-radius: 0.35em;\">\n",
       "    Excel\n",
       "    <span style=\"font-size: 0.8em; font-weight: bold; line-height: 1; border-radius: 0.35em; vertical-align: middle; margin-left: 0.5rem\">PRODUCT</span>\n",
       "</mark>\n",
       " file or csv fileSame for the pages &amp; keynoteSo no need of Ms office for me.Cons1. U cannot play games, your laptop will just heat up, battery will drain* U cannot play pubg mobile on emulator if you are pubg lover😁\n",
       "<mark class=\"entity\" style=\"background: #e4e7d2; padding: 0.45em 0.6em; margin: 0 0.25em; line-height: 1; border-radius: 0.35em;\">\n",
       "    2\n",
       "    <span style=\"font-size: 0.8em; font-weight: bold; line-height: 1; border-radius: 0.35em; vertical-align: middle; margin-left: 0.5rem\">CARDINAL</span>\n",
       "</mark>\n",
       ". Storage \n",
       "<mark class=\"entity\" style=\"background: #e4e7d2; padding: 0.45em 0.6em; margin: 0 0.25em; line-height: 1; border-radius: 0.35em;\">\n",
       "    128\n",
       "    <span style=\"font-size: 0.8em; font-weight: bold; line-height: 1; border-radius: 0.35em; vertical-align: middle; margin-left: 0.5rem\">CARDINAL</span>\n",
       "</mark>\n",
       "gb, it will work fine but if you want to store movies or TV shows u can't, u have to buy external hard disk</div></span>"
      ],
      "text/plain": [
       "<IPython.core.display.HTML object>"
      ]
     },
     "metadata": {},
     "output_type": "display_data"
    }
   ],
   "source": [
    "##Part Of Speech Tagging\n",
    "#nlp = spacy.load('en')\n",
    "nlp = spacy.load('en_core_web_sm')\n",
    "\n",
    "one_block = book[2]\n",
    "doc_block = nlp(one_block)\n",
    "spacy.displacy.render(doc_block, style='ent', jupyter=True)"
   ]
  },
  {
   "cell_type": "code",
   "execution_count": 34,
   "metadata": {
    "colab": {
     "base_uri": "https://localhost:8080/",
     "height": 144
    },
    "executionInfo": {
     "elapsed": 134,
     "status": "ok",
     "timestamp": 1648278051498,
     "user": {
      "displayName": "chirag jhumkhawala",
      "photoUrl": "https://lh3.googleusercontent.com/a-/AOh14GjipYW90uPwuGk-OG3CwVYkOT7gAFDDqMc8bm6r=s64",
      "userId": "08866107897979551593"
     },
     "user_tz": -330
    },
    "id": "kEarLyAMIaYu",
    "outputId": "ca288efa-27b6-41a2-eca5-456284ed6999",
    "tags": []
   },
   "outputs": [
    {
     "data": {
      "text/plain": [
       "\"Best Laptop under 60k. If you don't want any accounting softwares like tally or busy then go for it, better than windows in every term. I just love it's battery life with sleek look 😍Now talking about MS officeIt's available on app store, free for 1 monthAfter that you will have to pay.You cannot install pirated version but if you install Windows 7 or any other version then u can use Ms office for freeBut in MacBook there are other apps which are good substitute for Ms office appsNumbers for ExcelPages for wordKeynote for PowerPointAnd you can convert your numbers file to Excel file or csv fileSame for the pages & keynoteSo no need of Ms office for me.Cons1. U cannot play games, your laptop will just heat up, battery will drain* U cannot play pubg mobile on emulator if you are pubg lover😁2. Storage 128gb, it will work fine but if you want to store movies or TV shows u can't, u have to buy external hard disk\""
      ]
     },
     "execution_count": 34,
     "metadata": {},
     "output_type": "execute_result"
    }
   ],
   "source": [
    "one_block"
   ]
  },
  {
   "cell_type": "code",
   "execution_count": 35,
   "metadata": {
    "colab": {
     "base_uri": "https://localhost:8080/"
    },
    "executionInfo": {
     "elapsed": 134,
     "status": "ok",
     "timestamp": 1648278051501,
     "user": {
      "displayName": "chirag jhumkhawala",
      "photoUrl": "https://lh3.googleusercontent.com/a-/AOh14GjipYW90uPwuGk-OG3CwVYkOT7gAFDDqMc8bm6r=s64",
      "userId": "08866107897979551593"
     },
     "user_tz": -330
    },
    "id": "nOzOl8b3IaYu",
    "outputId": "920d4042-50ca-4ef1-d213-3a21102a8636",
    "tags": []
   },
   "outputs": [
    {
     "name": "stdout",
     "output_type": "stream",
     "text": [
      "Best ADJ\n",
      "Laptop PROPN\n",
      "under ADP\n",
      "60k NOUN\n",
      ". PUNCT\n",
      "If SCONJ\n",
      "you PRON\n",
      "do AUX\n",
      "n't PART\n",
      "want VERB\n",
      "any DET\n",
      "accounting NOUN\n",
      "softwares NOUN\n",
      "like ADP\n",
      "tally NOUN\n",
      "or CCONJ\n",
      "busy ADJ\n",
      "then ADV\n",
      "go VERB\n",
      "for ADP\n"
     ]
    }
   ],
   "source": [
    "for token in doc_block[0:20]:\n",
    "    print(token, token.pos_)"
   ]
  },
  {
   "cell_type": "code",
   "execution_count": 36,
   "metadata": {
    "colab": {
     "base_uri": "https://localhost:8080/"
    },
    "executionInfo": {
     "elapsed": 115,
     "status": "ok",
     "timestamp": 1648278051502,
     "user": {
      "displayName": "chirag jhumkhawala",
      "photoUrl": "https://lh3.googleusercontent.com/a-/AOh14GjipYW90uPwuGk-OG3CwVYkOT7gAFDDqMc8bm6r=s64",
      "userId": "08866107897979551593"
     },
     "user_tz": -330
    },
    "id": "Rntdt4F_IaYu",
    "outputId": "6aa2aa15-bf33-4e8e-a4ee-5b9aa2cb4817",
    "tags": []
   },
   "outputs": [
    {
     "name": "stdout",
     "output_type": "stream",
     "text": [
      "['go', 'windows', 'term', 'love', 'battery', 'life', 'look', 'talking', 'app', 'store', 'have', 'pay', 'install', 'pirated', 'version', 'install', 'version', 'use', 'office', 'are']\n"
     ]
    }
   ],
   "source": [
    "#Filtering for nouns and verbs only\n",
    "nouns_verbs = [token.text for token in doc_block if token.pos_ in ('NOUN', 'VERB')]\n",
    "print(nouns_verbs[5:25])"
   ]
  },
  {
   "cell_type": "code",
   "execution_count": 37,
   "metadata": {
    "colab": {
     "base_uri": "https://localhost:8080/",
     "height": 363
    },
    "executionInfo": {
     "elapsed": 858,
     "status": "ok",
     "timestamp": 1648278052264,
     "user": {
      "displayName": "chirag jhumkhawala",
      "photoUrl": "https://lh3.googleusercontent.com/a-/AOh14GjipYW90uPwuGk-OG3CwVYkOT7gAFDDqMc8bm6r=s64",
      "userId": "08866107897979551593"
     },
     "user_tz": -330
    },
    "id": "w0n9LITfIaYu",
    "outputId": "523007ed-1be4-4d87-9a9e-db85768bc2a6",
    "tags": []
   },
   "outputs": [
    {
     "data": {
      "text/html": [
       "<div>\n",
       "<style scoped>\n",
       "    .dataframe tbody tr th:only-of-type {\n",
       "        vertical-align: middle;\n",
       "    }\n",
       "\n",
       "    .dataframe tbody tr th {\n",
       "        vertical-align: top;\n",
       "    }\n",
       "\n",
       "    .dataframe thead th {\n",
       "        text-align: right;\n",
       "    }\n",
       "</style>\n",
       "<table border=\"1\" class=\"dataframe\">\n",
       "  <thead>\n",
       "    <tr style=\"text-align: right;\">\n",
       "      <th></th>\n",
       "      <th>word</th>\n",
       "      <th>count</th>\n",
       "    </tr>\n",
       "  </thead>\n",
       "  <tbody>\n",
       "    <tr>\n",
       "      <th>0</th>\n",
       "      <td>office</td>\n",
       "      <td>3</td>\n",
       "    </tr>\n",
       "    <tr>\n",
       "      <th>1</th>\n",
       "      <td>want</td>\n",
       "      <td>2</td>\n",
       "    </tr>\n",
       "    <tr>\n",
       "      <th>2</th>\n",
       "      <td>battery</td>\n",
       "      <td>2</td>\n",
       "    </tr>\n",
       "    <tr>\n",
       "      <th>3</th>\n",
       "      <td>store</td>\n",
       "      <td>2</td>\n",
       "    </tr>\n",
       "    <tr>\n",
       "      <th>4</th>\n",
       "      <td>have</td>\n",
       "      <td>2</td>\n",
       "    </tr>\n",
       "    <tr>\n",
       "      <th>5</th>\n",
       "      <td>install</td>\n",
       "      <td>2</td>\n",
       "    </tr>\n",
       "    <tr>\n",
       "      <th>6</th>\n",
       "      <td>version</td>\n",
       "      <td>2</td>\n",
       "    </tr>\n",
       "    <tr>\n",
       "      <th>7</th>\n",
       "      <td>file</td>\n",
       "      <td>2</td>\n",
       "    </tr>\n",
       "    <tr>\n",
       "      <th>8</th>\n",
       "      <td>play</td>\n",
       "      <td>2</td>\n",
       "    </tr>\n",
       "    <tr>\n",
       "      <th>9</th>\n",
       "      <td>60k</td>\n",
       "      <td>1</td>\n",
       "    </tr>\n",
       "  </tbody>\n",
       "</table>\n",
       "</div>"
      ],
      "text/plain": [
       "      word  count\n",
       "0   office      3\n",
       "1     want      2\n",
       "2  battery      2\n",
       "3    store      2\n",
       "4     have      2\n",
       "5  install      2\n",
       "6  version      2\n",
       "7     file      2\n",
       "8     play      2\n",
       "9      60k      1"
      ]
     },
     "execution_count": 37,
     "metadata": {},
     "output_type": "execute_result"
    }
   ],
   "source": [
    "#Counting tokens again\n",
    "from sklearn.feature_extraction.text import CountVectorizer\n",
    "cv = CountVectorizer()\n",
    "\n",
    "X = cv.fit_transform(nouns_verbs)\n",
    "sum_words = X.sum(axis=0)\n",
    "words_freq = [(word, sum_words[0, idx]) for word, idx in cv.vocabulary_.items()]\n",
    "words_freq =sorted(words_freq, key = lambda x: x[1], reverse=True)\n",
    "wf_df = pd.DataFrame(words_freq)\n",
    "wf_df.columns = ['word', 'count']\n",
    "\n",
    "wf_df[0:10]"
   ]
  },
  {
   "cell_type": "code",
   "execution_count": 38,
   "metadata": {
    "colab": {
     "base_uri": "https://localhost:8080/",
     "height": 557
    },
    "executionInfo": {
     "elapsed": 181,
     "status": "ok",
     "timestamp": 1648278052266,
     "user": {
      "displayName": "chirag jhumkhawala",
      "photoUrl": "https://lh3.googleusercontent.com/a-/AOh14GjipYW90uPwuGk-OG3CwVYkOT7gAFDDqMc8bm6r=s64",
      "userId": "08866107897979551593"
     },
     "user_tz": -330
    },
    "id": "KTNrkuimIaYu",
    "outputId": "82e3ad68-009e-40eb-f02d-fcacba22f8a6",
    "tags": []
   },
   "outputs": [
    {
     "data": {
      "text/plain": [
       "<Axes: title={'center': 'Top verbs and nouns'}, xlabel='word'>"
      ]
     },
     "execution_count": 38,
     "metadata": {},
     "output_type": "execute_result"
    },
    {
     "data": {
      "image/png": "[encoded data removed]",
      "text/plain": [
       "<Figure size 1200x800 with 1 Axes>"
      ]
     },
     "metadata": {},
     "output_type": "display_data"
    }
   ],
   "source": [
    "##Visualizing results\n",
    "#Barchart for top 10 nouns + verbs\n",
    "wf_df[0:10].plot.bar(x='word', figsize=(12,8), title='Top verbs and nouns')"
   ]
  },
  {
   "cell_type": "markdown",
   "metadata": {
    "id": "CdOogyK5IaYv"
   },
   "source": [
    "#### Emotion Mining"
   ]
  },
  {
   "cell_type": "code",
   "execution_count": 39,
   "metadata": {
    "colab": {
     "base_uri": "https://localhost:8080/"
    },
    "executionInfo": {
     "elapsed": 429,
     "status": "ok",
     "timestamp": 1648278357991,
     "user": {
      "displayName": "chirag jhumkhawala",
      "photoUrl": "https://lh3.googleusercontent.com/a-/AOh14GjipYW90uPwuGk-OG3CwVYkOT7gAFDDqMc8bm6r=s64",
      "userId": "08866107897979551593"
     },
     "user_tz": -330
    },
    "id": "xzmJ2qtXIaYv",
    "outputId": "030f5ef0-d966-448f-9576-64433efb6d96",
    "tags": []
   },
   "outputs": [
    {
     "name": "stderr",
     "output_type": "stream",
     "text": [
      "/tmp/ipykernel_12554/2050022519.py:3: FutureWarning: The error_bad_lines argument has been deprecated and will be removed in a future version. Use on_bad_lines in the future.\n",
      "\n",
      "\n",
      "  afinn = pd.read_csv('apple.txt',error_bad_lines=False)\n",
      "Skipping line 6: expected 1 fields, saw 14\n",
      "\n"
     ]
    },
    {
     "data": {
      "text/plain": [
       "(40, 1)"
      ]
     },
     "execution_count": 39,
     "metadata": {},
     "output_type": "execute_result"
    }
   ],
   "source": [
    "#Sentiment analysis\n",
    "import pandas as pd\n",
    "afinn = pd.read_csv('apple.txt',error_bad_lines=False)\n",
    "afinn.shape"
   ]
  },
  {
   "cell_type": "code",
   "execution_count": 49,
   "metadata": {
    "colab": {
     "base_uri": "https://localhost:8080/",
     "height": 49
    },
    "executionInfo": {
     "elapsed": 20,
     "status": "ok",
     "timestamp": 1648278359787,
     "user": {
      "displayName": "chirag jhumkhawala",
      "photoUrl": "https://lh3.googleusercontent.com/a-/AOh14GjipYW90uPwuGk-OG3CwVYkOT7gAFDDqMc8bm6r=s64",
      "userId": "08866107897979551593"
     },
     "user_tz": -330
    },
    "id": "d27chQomIaYv",
    "outputId": "bf404c97-bf8e-439d-d118-abacc47a8338",
    "tags": []
   },
   "outputs": [
    {
     "data": {
      "text/html": [
       "<div>\n",
       "<style scoped>\n",
       "    .dataframe tbody tr th:only-of-type {\n",
       "        vertical-align: middle;\n",
       "    }\n",
       "\n",
       "    .dataframe tbody tr th {\n",
       "        vertical-align: top;\n",
       "    }\n",
       "\n",
       "    .dataframe thead th {\n",
       "        text-align: right;\n",
       "    }\n",
       "</style>\n",
       "<table border=\"1\" class=\"dataframe\">\n",
       "  <thead>\n",
       "    <tr style=\"text-align: right;\">\n",
       "      <th></th>\n",
       "      <th>x</th>\n",
       "    </tr>\n",
       "  </thead>\n",
       "  <tbody>\n",
       "    <tr>\n",
       "      <th>0</th>\n",
       "      <td>It's amazing..... battery last around 10 -12 h...</td>\n",
       "    </tr>\n",
       "    <tr>\n",
       "      <th>1</th>\n",
       "      <td>Finally a MacBook possession. Got it in 50k in...</td>\n",
       "    </tr>\n",
       "    <tr>\n",
       "      <th>2</th>\n",
       "      <td>Best Laptop under 60k. If you don't want any a...</td>\n",
       "    </tr>\n",
       "    <tr>\n",
       "      <th>3</th>\n",
       "      <td>Pros:1. Light weight and super fast response t...</td>\n",
       "    </tr>\n",
       "    <tr>\n",
       "      <th>4</th>\n",
       "      <td>\"</td>\n",
       "    </tr>\n",
       "  </tbody>\n",
       "</table>\n",
       "</div>"
      ],
      "text/plain": [
       "                                                   x\n",
       "0  It's amazing..... battery last around 10 -12 h...\n",
       "1  Finally a MacBook possession. Got it in 50k in...\n",
       "2  Best Laptop under 60k. If you don't want any a...\n",
       "3  Pros:1. Light weight and super fast response t...\n",
       "4                                                  \""
      ]
     },
     "execution_count": 49,
     "metadata": {},
     "output_type": "execute_result"
    }
   ],
   "source": [
    "afinn[1500:]\n",
    "afinn.head()"
   ]
  },
  {
   "cell_type": "code",
   "execution_count": 41,
   "metadata": {
    "tags": []
   },
   "outputs": [
    {
     "name": "stdout",
     "output_type": "stream",
     "text": [
      "Requirement already satisfied: wordcloud in /home/chirag/.config/jupyterlab-desktop/jlab_server/lib/python3.8/site-packages (1.9.2)\n",
      "Requirement already satisfied: matplotlib in /home/chirag/.config/jupyterlab-desktop/jlab_server/lib/python3.8/site-packages (from wordcloud) (3.7.0)\n",
      "Requirement already satisfied: pillow in /home/chirag/.config/jupyterlab-desktop/jlab_server/lib/python3.8/site-packages (from wordcloud) (9.4.0)\n",
      "Requirement already satisfied: numpy>=1.6.1 in /home/chirag/.config/jupyterlab-desktop/jlab_server/lib/python3.8/site-packages (from wordcloud) (1.24.2)\n",
      "Requirement already satisfied: python-dateutil>=2.7 in /home/chirag/.config/jupyterlab-desktop/jlab_server/lib/python3.8/site-packages (from matplotlib->wordcloud) (2.8.2)\n",
      "Requirement already satisfied: fonttools>=4.22.0 in /home/chirag/.config/jupyterlab-desktop/jlab_server/lib/python3.8/site-packages (from matplotlib->wordcloud) (4.38.0)\n",
      "Requirement already satisfied: pyparsing>=2.3.1 in /home/chirag/.config/jupyterlab-desktop/jlab_server/lib/python3.8/site-packages (from matplotlib->wordcloud) (3.0.9)\n",
      "Requirement already satisfied: packaging>=20.0 in /home/chirag/.config/jupyterlab-desktop/jlab_server/lib/python3.8/site-packages (from matplotlib->wordcloud) (23.0)\n",
      "Requirement already satisfied: kiwisolver>=1.0.1 in /home/chirag/.config/jupyterlab-desktop/jlab_server/lib/python3.8/site-packages (from matplotlib->wordcloud) (1.4.4)\n",
      "Requirement already satisfied: cycler>=0.10 in /home/chirag/.config/jupyterlab-desktop/jlab_server/lib/python3.8/site-packages (from matplotlib->wordcloud) (0.11.0)\n",
      "Requirement already satisfied: importlib-resources>=3.2.0 in /home/chirag/.config/jupyterlab-desktop/jlab_server/lib/python3.8/site-packages (from matplotlib->wordcloud) (5.10.2)\n",
      "Requirement already satisfied: contourpy>=1.0.1 in /home/chirag/.config/jupyterlab-desktop/jlab_server/lib/python3.8/site-packages (from matplotlib->wordcloud) (1.0.7)\n",
      "Requirement already satisfied: zipp>=3.1.0 in /home/chirag/.config/jupyterlab-desktop/jlab_server/lib/python3.8/site-packages (from importlib-resources>=3.2.0->matplotlib->wordcloud) (3.12.1)\n",
      "Requirement already satisfied: six>=1.5 in /home/chirag/.config/jupyterlab-desktop/jlab_server/lib/python3.8/site-packages (from python-dateutil>=2.7->matplotlib->wordcloud) (1.16.0)\n"
     ]
    }
   ],
   "source": [
    "!pip install wordcloud"
   ]
  },
  {
   "cell_type": "code",
   "execution_count": 42,
   "metadata": {
    "colab": {
     "base_uri": "https://localhost:8080/"
    },
    "executionInfo": {
     "elapsed": 30,
     "status": "ok",
     "timestamp": 1648278361862,
     "user": {
      "displayName": "chirag jhumkhawala",
      "photoUrl": "https://lh3.googleusercontent.com/a-/AOh14GjipYW90uPwuGk-OG3CwVYkOT7gAFDDqMc8bm6r=s64",
      "userId": "08866107897979551593"
     },
     "user_tz": -330
    },
    "id": "6izfLk6UIaYv",
    "outputId": "9dc5f364-00d4-4fc7-cd81-fab1439ef853",
    "tags": []
   },
   "outputs": [
    {
     "name": "stderr",
     "output_type": "stream",
     "text": [
      "/tmp/ipykernel_12554/1727419687.py:12: FutureWarning: The error_bad_lines argument has been deprecated and will be removed in a future version. Use on_bad_lines in the future.\n",
      "\n",
      "\n",
      "  book=pd.read_csv(\"apple.txt\",error_bad_lines=False)\n",
      "Skipping line 6: expected 1 fields, saw 14\n",
      "\n"
     ]
    }
   ],
   "source": [
    "import numpy as np # linear algebra\n",
    "import pandas as pd # data processing, CSV file I/O (e.g. pd.read_csv)\n",
    "import string # special operations on strings\n",
    "import spacy # language models\n",
    "\n",
    "from matplotlib.pyplot import imread\n",
    "from matplotlib import pyplot as plt\n",
    "from wordcloud import WordCloud\n",
    "%matplotlib inline\n",
    "\n",
    "import pandas\n",
    "book=pd.read_csv(\"apple.txt\",error_bad_lines=False)\n",
    "book = [x.strip() for x in book.x] # remove both the leading and the trailing characters\n",
    "book = [x for x in book if x] # removes empty strings, because they are considered in Python as False"
   ]
  },
  {
   "cell_type": "code",
   "execution_count": 43,
   "metadata": {
    "colab": {
     "base_uri": "https://localhost:8080/"
    },
    "executionInfo": {
     "elapsed": 427,
     "status": "ok",
     "timestamp": 1648278364317,
     "user": {
      "displayName": "chirag jhumkhawala",
      "photoUrl": "https://lh3.googleusercontent.com/a-/AOh14GjipYW90uPwuGk-OG3CwVYkOT7gAFDDqMc8bm6r=s64",
      "userId": "08866107897979551593"
     },
     "user_tz": -330
    },
    "id": "vVNytlqGJx8N",
    "outputId": "ddb94275-a4f9-418d-eead-e1e7585fb2da",
    "tags": []
   },
   "outputs": [
    {
     "name": "stdout",
     "output_type": "stream",
     "text": [
      "Requirement already satisfied: nltk in /home/chirag/.config/jupyterlab-desktop/jlab_server/lib/python3.8/site-packages (3.8.1)\n",
      "Requirement already satisfied: tqdm in /home/chirag/.config/jupyterlab-desktop/jlab_server/lib/python3.8/site-packages (from nltk) (4.64.1)\n",
      "Requirement already satisfied: regex>=2021.8.3 in /home/chirag/.config/jupyterlab-desktop/jlab_server/lib/python3.8/site-packages (from nltk) (2023.6.3)\n",
      "Requirement already satisfied: click in /home/chirag/.config/jupyterlab-desktop/jlab_server/lib/python3.8/site-packages (from nltk) (8.1.3)\n",
      "Requirement already satisfied: joblib in /home/chirag/.config/jupyterlab-desktop/jlab_server/lib/python3.8/site-packages (from nltk) (1.2.0)\n"
     ]
    },
    {
     "name": "stderr",
     "output_type": "stream",
     "text": [
      "[nltk_data] Downloading package punkt to /home/chirag/nltk_data...\n",
      "[nltk_data]   Package punkt is already up-to-date!\n"
     ]
    },
    {
     "data": {
      "text/plain": [
       "True"
      ]
     },
     "execution_count": 43,
     "metadata": {},
     "output_type": "execute_result"
    }
   ],
   "source": [
    "!pip install nltk\n",
    "import nltk\n",
    "\n",
    "nltk.download('punkt')"
   ]
  },
  {
   "cell_type": "code",
   "execution_count": 44,
   "metadata": {
    "colab": {
     "base_uri": "https://localhost:8080/"
    },
    "executionInfo": {
     "elapsed": 17,
     "status": "ok",
     "timestamp": 1648278366140,
     "user": {
      "displayName": "chirag jhumkhawala",
      "photoUrl": "https://lh3.googleusercontent.com/a-/AOh14GjipYW90uPwuGk-OG3CwVYkOT7gAFDDqMc8bm6r=s64",
      "userId": "08866107897979551593"
     },
     "user_tz": -330
    },
    "id": "DwYOXYMiIaYv",
    "outputId": "af1b44e8-6b6e-421f-e7eb-a7a53e36796f",
    "tags": []
   },
   "outputs": [
    {
     "data": {
      "text/plain": [
       "['!',\n",
       " '), all printers are not compatible (e.g.',\n",
       " \"the most economical MFD laser printer RICOH SP 111 can't be used), huge compatibility issues with Pages (MS Word) and Keynote (powerpoint) unless you master it by working on these (still mostly the document and slides either do not open in windows environment or have distortion issues).\",\n",
       " 'you need to spend extra for an external CD writer and tp buy a carry bag.',\n",
       " 'Mac con not be connected to most of the projectors unless you buy some connectors, which are expensive and theres no clarity which one to buy and from where.',\n",
       " \"you can't connect it to your TV, the ports are different and again theres no clarity - customer support, manuals or help section are silent !\",\n",
       " 'Marketing strategy for Indian market, if at all has been planned, has been very bad.',\n",
       " 'If these critical issues (and a few more not mentioned here) are handled properly, the Mac can sweep away other laptops in India.',\n",
       " \"Presently, it doesn't seem to be happening.Overall Verdict.If compatibility issues mentioned above do not bother you, go for it.\",\n",
       " 'Else, think hard.']"
      ]
     },
     "execution_count": 44,
     "metadata": {},
     "output_type": "execute_result"
    }
   ],
   "source": [
    "from nltk import tokenize\n",
    "sentences = tokenize.sent_tokenize(\" \".join(book))\n",
    "sentences[5:15]"
   ]
  },
  {
   "cell_type": "code",
   "execution_count": 45,
   "metadata": {
    "colab": {
     "base_uri": "https://localhost:8080/",
     "height": 423
    },
    "executionInfo": {
     "elapsed": 533,
     "status": "ok",
     "timestamp": 1648278369021,
     "user": {
      "displayName": "chirag jhumkhawala",
      "photoUrl": "https://lh3.googleusercontent.com/a-/AOh14GjipYW90uPwuGk-OG3CwVYkOT7gAFDDqMc8bm6r=s64",
      "userId": "08866107897979551593"
     },
     "user_tz": -330
    },
    "id": "AXwOf2nrIaYv",
    "outputId": "c03430af-7d3c-4655-c5d5-2240ebad9ab0",
    "tags": []
   },
   "outputs": [
    {
     "data": {
      "text/html": [
       "<div>\n",
       "<style scoped>\n",
       "    .dataframe tbody tr th:only-of-type {\n",
       "        vertical-align: middle;\n",
       "    }\n",
       "\n",
       "    .dataframe tbody tr th {\n",
       "        vertical-align: top;\n",
       "    }\n",
       "\n",
       "    .dataframe thead th {\n",
       "        text-align: right;\n",
       "    }\n",
       "</style>\n",
       "<table border=\"1\" class=\"dataframe\">\n",
       "  <thead>\n",
       "    <tr style=\"text-align: right;\">\n",
       "      <th></th>\n",
       "      <th>sentence</th>\n",
       "    </tr>\n",
       "  </thead>\n",
       "  <tbody>\n",
       "    <tr>\n",
       "      <th>0</th>\n",
       "      <td>It's amazing..... battery last around 10 -12 h...</td>\n",
       "    </tr>\n",
       "    <tr>\n",
       "      <th>1</th>\n",
       "      <td>Got it in 50k in Diwali sale.</td>\n",
       "    </tr>\n",
       "    <tr>\n",
       "      <th>2</th>\n",
       "      <td>Technically good laptop.Good News.luxury produ...</td>\n",
       "    </tr>\n",
       "    <tr>\n",
       "      <th>3</th>\n",
       "      <td>Terrific sense of possession &amp; pride.Bad News.</td>\n",
       "    </tr>\n",
       "    <tr>\n",
       "      <th>4</th>\n",
       "      <td>Problems will be there if you are switching fr...</td>\n",
       "    </tr>\n",
       "    <tr>\n",
       "      <th>...</th>\n",
       "      <td>...</td>\n",
       "    </tr>\n",
       "    <tr>\n",
       "      <th>183</th>\n",
       "      <td>You can get one of the best movie experiences ...</td>\n",
       "    </tr>\n",
       "    <tr>\n",
       "      <th>184</th>\n",
       "      <td>Overall I would it a 4.5/5.</td>\n",
       "    </tr>\n",
       "    <tr>\n",
       "      <th>185</th>\n",
       "      <td>I got a great deal on this laptop, which I hav...</td>\n",
       "    </tr>\n",
       "    <tr>\n",
       "      <th>186</th>\n",
       "      <td>I got it not only on discount but also was abl...</td>\n",
       "    </tr>\n",
       "    <tr>\n",
       "      <th>187</th>\n",
       "      <td>Laptop works really well, it was a good purchase!</td>\n",
       "    </tr>\n",
       "  </tbody>\n",
       "</table>\n",
       "<p>188 rows × 1 columns</p>\n",
       "</div>"
      ],
      "text/plain": [
       "                                              sentence\n",
       "0    It's amazing..... battery last around 10 -12 h...\n",
       "1                        Got it in 50k in Diwali sale.\n",
       "2    Technically good laptop.Good News.luxury produ...\n",
       "3       Terrific sense of possession & pride.Bad News.\n",
       "4    Problems will be there if you are switching fr...\n",
       "..                                                 ...\n",
       "183  You can get one of the best movie experiences ...\n",
       "184                        Overall I would it a 4.5/5.\n",
       "185  I got a great deal on this laptop, which I hav...\n",
       "186  I got it not only on discount but also was abl...\n",
       "187  Laptop works really well, it was a good purchase!\n",
       "\n",
       "[188 rows x 1 columns]"
      ]
     },
     "execution_count": 45,
     "metadata": {},
     "output_type": "execute_result"
    }
   ],
   "source": [
    "sent_df = pd.DataFrame(sentences, columns=['sentence'])\n",
    "sent_df"
   ]
  },
  {
   "cell_type": "code",
   "execution_count": 50,
   "metadata": {
    "colab": {
     "base_uri": "https://localhost:8080/",
     "height": 320
    },
    "executionInfo": {
     "elapsed": 419,
     "status": "error",
     "timestamp": 1648278327252,
     "user": {
      "displayName": "chirag jhumkhawala",
      "photoUrl": "https://lh3.googleusercontent.com/a-/AOh14GjipYW90uPwuGk-OG3CwVYkOT7gAFDDqMc8bm6r=s64",
      "userId": "08866107897979551593"
     },
     "user_tz": -330
    },
    "id": "hCOX-qjTIaYv",
    "outputId": "8cdc36f2-9c07-4098-beed-4124785c820c",
    "tags": []
   },
   "outputs": [],
   "source": [
    "affinity_scores = wf_df.set_index('word')['count'].to_dict()"
   ]
  },
  {
   "cell_type": "code",
   "execution_count": 51,
   "metadata": {
    "executionInfo": {
     "elapsed": 132,
     "status": "aborted",
     "timestamp": 1648278053105,
     "user": {
      "displayName": "chirag jhumkhawala",
      "photoUrl": "https://lh3.googleusercontent.com/a-/AOh14GjipYW90uPwuGk-OG3CwVYkOT7gAFDDqMc8bm6r=s64",
      "userId": "08866107897979551593"
     },
     "user_tz": -330
    },
    "id": "TSf-SSPpw4V-",
    "tags": []
   },
   "outputs": [
    {
     "data": {
      "text/plain": [
       "{'office': 3,\n",
       " 'want': 2,\n",
       " 'battery': 2,\n",
       " 'store': 2,\n",
       " 'have': 2,\n",
       " 'install': 2,\n",
       " 'version': 2,\n",
       " 'file': 2,\n",
       " 'play': 2,\n",
       " '60k': 1,\n",
       " 'accounting': 1,\n",
       " 'softwares': 1,\n",
       " 'tally': 1,\n",
       " 'go': 1,\n",
       " 'windows': 1,\n",
       " 'term': 1,\n",
       " 'love': 1,\n",
       " 'life': 1,\n",
       " 'look': 1,\n",
       " 'talking': 1,\n",
       " 'app': 1,\n",
       " 'pay': 1,\n",
       " 'pirated': 1,\n",
       " 'use': 1,\n",
       " 'are': 1,\n",
       " 'apps': 1,\n",
       " 'substitute': 1,\n",
       " 'appsnumbers': 1,\n",
       " 'wordkeynote': 1,\n",
       " 'convert': 1,\n",
       " 'numbers': 1,\n",
       " 'filesame': 1,\n",
       " 'pages': 1,\n",
       " 'need': 1,\n",
       " 'cons1': 1,\n",
       " 'games': 1,\n",
       " 'laptop': 1,\n",
       " 'heat': 1,\n",
       " 'drain': 1,\n",
       " 'mobile': 1,\n",
       " 'emulator': 1,\n",
       " 'storage': 1,\n",
       " 'gb': 1,\n",
       " 'work': 1,\n",
       " 'movies': 1,\n",
       " 'tv': 1,\n",
       " 'shows': 1,\n",
       " 'buy': 1,\n",
       " 'disk': 1}"
      ]
     },
     "execution_count": 51,
     "metadata": {},
     "output_type": "execute_result"
    }
   ],
   "source": [
    "affinity_scores\n",
    "\n",
    "\n"
   ]
  },
  {
   "cell_type": "code",
   "execution_count": 52,
   "metadata": {
    "colab": {
     "base_uri": "https://localhost:8080/",
     "height": 242
    },
    "executionInfo": {
     "elapsed": 1167,
     "status": "error",
     "timestamp": 1648278266700,
     "user": {
      "displayName": "chirag jhumkhawala",
      "photoUrl": "https://lh3.googleusercontent.com/a-/AOh14GjipYW90uPwuGk-OG3CwVYkOT7gAFDDqMc8bm6r=s64",
      "userId": "08866107897979551593"
     },
     "user_tz": -330
    },
    "id": "b1IZL55WIaYv",
    "outputId": "3136dd5a-ab12-4f3b-c913-b9ce5cb5ce79",
    "tags": []
   },
   "outputs": [],
   "source": [
    "#Custom function :score each word in a sentence in lemmatised form, \n",
    "#but calculate the score for the whole original sentence.\n",
    "nlp = spacy.load('en_core_web_sm')\n",
    "sentiment_lexicon = affinity_scores\n",
    "\n",
    "def calculate_sentiment(text: str = None):\n",
    "    sent_score = 0\n",
    "    if text:\n",
    "        \n",
    "        sentence = nlp(text)\n",
    "        print(sentence)\n",
    "        for word in sentence:\n",
    "            sent_score += sentiment_lexicon.get(word.lemma_, 0)\n",
    "    return sent_score"
   ]
  },
  {
   "cell_type": "code",
   "execution_count": 53,
   "metadata": {
    "executionInfo": {
     "elapsed": 140,
     "status": "aborted",
     "timestamp": 1648278053123,
     "user": {
      "displayName": "chirag jhumkhawala",
      "photoUrl": "https://lh3.googleusercontent.com/a-/AOh14GjipYW90uPwuGk-OG3CwVYkOT7gAFDDqMc8bm6r=s64",
      "userId": "08866107897979551593"
     },
     "user_tz": -330
    },
    "id": "aHIcKrl3IaYv",
    "tags": []
   },
   "outputs": [
    {
     "name": "stdout",
     "output_type": "stream",
     "text": [
      "Amazed\n"
     ]
    },
    {
     "data": {
      "text/plain": [
       "0"
      ]
     },
     "execution_count": 53,
     "metadata": {},
     "output_type": "execute_result"
    }
   ],
   "source": [
    "# test that it works\n",
    "calculate_sentiment(text = 'Amazed')"
   ]
  },
  {
   "cell_type": "code",
   "execution_count": null,
   "metadata": {
    "executionInfo": {
     "elapsed": 143,
     "status": "aborted",
     "timestamp": 1648278053127,
     "user": {
      "displayName": "chirag jhumkhawala",
      "photoUrl": "https://lh3.googleusercontent.com/a-/AOh14GjipYW90uPwuGk-OG3CwVYkOT7gAFDDqMc8bm6r=s64",
      "userId": "08866107897979551593"
     },
     "user_tz": -330
    },
    "id": "VYqKJG6ZyrwF"
   },
   "outputs": [],
   "source": []
  },
  {
   "cell_type": "code",
   "execution_count": 54,
   "metadata": {
    "collapsed": true,
    "executionInfo": {
     "elapsed": 149,
     "status": "aborted",
     "timestamp": 1648278053134,
     "user": {
      "displayName": "chirag jhumkhawala",
      "photoUrl": "https://lh3.googleusercontent.com/a-/AOh14GjipYW90uPwuGk-OG3CwVYkOT7gAFDDqMc8bm6r=s64",
      "userId": "08866107897979551593"
     },
     "user_tz": -330
    },
    "id": "JgMG93cLIaYv",
    "jupyter": {
     "outputs_hidden": true
    },
    "tags": []
   },
   "outputs": [
    {
     "name": "stdout",
     "output_type": "stream",
     "text": [
      "It's amazing..... battery last around 10 -12 hrs.....best laptop for students and coders Finally a MacBook possession.\n",
      "Got it in 50k in Diwali sale.\n",
      "Technically good laptop.Good News.luxury product, niche technology, good battery life, reliable machine (other laptops crash and become defunct in 6-10 years), no anti-virus required, security of data and transactions much better.\n",
      "Terrific sense of possession & pride.Bad News.\n",
      "Problems will be there if you are switching from windows based system - very less space in hard disk, no CD drive, inability to transfer data from Mac to your existing external hard disc unless you format it, apps are mostly paid and re unreasonably expensive (no free apps which are available otherwise on google play store, even the angry bird costs Rs 400 !\n",
      "!\n",
      "), all printers are not compatible (e.g.\n",
      "the most economical MFD laser printer RICOH SP 111 can't be used), huge compatibility issues with Pages (MS Word) and Keynote (powerpoint) unless you master it by working on these (still mostly the document and slides either do not open in windows environment or have distortion issues).\n",
      "you need to spend extra for an external CD writer and tp buy a carry bag.\n",
      "Mac con not be connected to most of the projectors unless you buy some connectors, which are expensive and theres no clarity which one to buy and from where.\n",
      "you can't connect it to your TV, the ports are different and again theres no clarity - customer support, manuals or help section are silent !\n",
      "Marketing strategy for Indian market, if at all has been planned, has been very bad.\n",
      "If these critical issues (and a few more not mentioned here) are handled properly, the Mac can sweep away other laptops in India.\n",
      "Presently, it doesn't seem to be happening.Overall Verdict.If compatibility issues mentioned above do not bother you, go for it.\n",
      "Else, think hard.\n",
      "If its an emotional issue to own a long cherished Mac, then its a different thing.\n",
      "Go ahead and gradually you would figure out most (but not all) of the above problems, like I did.\n",
      "Best Laptop under 60k.\n",
      "If you don't want any accounting softwares like tally or busy then go for it, better than windows in every term.\n",
      "I just love it's battery life with sleek look 😍Now talking about MS officeIt's available on app store, free for 1 monthAfter that you will have to pay.You cannot install pirated version but if you install Windows 7 or any other version then u can use Ms office for freeBut in MacBook there are other apps which are good substitute for Ms office appsNumbers for ExcelPages for wordKeynote for PowerPointAnd you can convert your numbers file to Excel file or csv fileSame for the pages & keynoteSo no need of Ms office for me.Cons1.\n",
      "U cannot play games, your laptop will just heat up, battery will drain* U cannot play pubg mobile on emulator if you are pubg lover😁2.\n",
      "Storage 128gb, it will work fine but if you want to store movies or TV shows u can't, u have to buy external hard disk Pros:1.\n",
      "Light weight and super fast response time2.\n",
      "Highly optimize which avoids any kind of process lag.3.\n",
      "Beautiful looks and feels like a prime product.4.\n",
      "Long battery life and awesome sound clarity5.\n",
      "Purchased during Amazon sale cost around 52k.Cons:1.\n",
      "Not enough memory2.\n",
      "Limited softwares available3.\n",
      "Operating system is not that user-friendlyProbably one of the best option for 50k+ laptops \" I am very upset about the product as I checked my MacBook 15 days back in December, it didn’t start.\n",
      "It was luckily in warranty .\n",
      "I took it to the service centre and they informed me the mother board and battery collapsed.\n",
      "If it was not in warranty I had to pay 47000/.\n",
      "I asked for replacement of the product and I was refused.\n",
      "They got it fixed for me.\n",
      "I don’t know why should I pay 57000/ for Mac quality.\n",
      "If this is the quality and the service, then I have to go to other product.\n",
      "In January my product expiry was due.\n",
      "They have give an extension of 3 months warranty when I had asked for 1 year.\n",
      "Very disappointed.\n",
      "Reason for 1 star is I ot an defective piece.\n",
      "The sound quality was not good .\n",
      "My laptop started giving issues with power button from  4 months.\n",
      "The screen would flicker and it would shutdown automatically after sometime.\n",
      "Took the mac to service centre.\n",
      "They replaced the motherboard free of cost as it was in warranty.\n",
      "Now my mac is perfectly fine : Got the Apple Macbook air on amazon discount sale.1) The OS is smooth and is a breeze to work with.\n",
      "Ships with macOS sierra but update is available to macOS mojave2) The design and build quality, as you can expect from an apple product is top notch.3) Excellen sound quality, keyboard.Cons:1) 128GB may be low incase you want to have movies and media in your laptop.You need to carry around a hard disk that kind of nullifies the advantage of having a light weight laptop.2) Display resolution is not exactly upto the mark White line coming on screen in just three months of purchase from amazon.\n",
      "Doubting the quality of the products sold on amazon Bought this product recently on 5 April, was working perfectly fine for few days and on 16 April the Mac working charge or turn on.\n",
      "Apple service centre says they can’t fix the product under warranty and amazon in try to come up with a solution ever since , no solid answer .\n",
      "I m stuck with a dead mac after using it for 10days.\n",
      "Request seller , Amazon or apple to take full responsibility.\n",
      "Hi, Think thousand time before buying.\n",
      "One calm night i was cuddling in jaipuri blanket while enjoying youtube on this expensive machine.\n",
      "Cold night and little excitement created electrostatic charge which spike though spaceBar button.\n",
      "that's how it went to deep sleep forever.\n",
      "Nothing can bring it back and i am in no mood in spending another fortune on this machine.\n",
      "Apple, of you (i)care, this is the least of security feature included in all electronic devices.\n",
      "And the best part, it was a week after Warranty expiration date.\n",
      "We buy macbook's expecting that it will lasts at least 3 years, not in my case they are saying it will costs 46000rs to repair.. i bought this in 58000rs.. if i don't want to repair it still I've to pay 2500rs as diagnostic cost.. not recommended..\n",
      "I use this for music production and it works awesome..however the display is not so good as it should have been in a 63k laptop Never purchase any Apple products.\n",
      "I bought 3 and start giving problems just after 6 months.\n",
      "I need to visit 4 times service station which is far 12 km.\n",
      "Again MacBook start acting dead after 6 more months.\n",
      "Mean a top priced laptop giving problems in every 6 months.I have good experiences with other brands of laptops.\n",
      "I hope this comment can help to save somebody’s money.\n",
      "Good purchase of mineBest for programming...Only some heating issues...but can be ignored!!\n",
      "I bought MacBook air in 2017, it was working fine till last month.\n",
      "It suddenly stopped charging I took it apple care and was shocked to hear the feedback.\n",
      "They told me that the motherboard is dead and i have to buy a new motherboard.\n",
      "The cost was 50k ( i bought at 53k in 2017).\n",
      "We buy Apple products because they are meant to be long-lasting.\n",
      "I am really disappointed and would prefer other companies next time.\n",
      "They earn extra money from selling an extended warranty.\n",
      "Bought it on 9th July, stopped working / not turning power on by 4th Nov.\n",
      "Adding to this disappointment is - Apple's refusal to repair it under warranty stating that there is corrosion in Logic Board.\n",
      "Amazon also did not help.\n",
      "The seller - Appario - does not like to be bothered with it.\n",
      "Sometimes I wonder if buying electronics online is a good idea!\n",
      "I bought it last year from Amazon during Sale.\n",
      "It worked well for on year and then suddenly stopped working.\n",
      "I am unable to switch it on.\n",
      "I took it to service centre and they told that the logic board has to be replaced.\n",
      "The cost is around 45000.\n",
      "I am helpless.\n",
      "I dont want to invest more into that.\n",
      "I used the laptop very carefully but I think Amazon sent a defected piece on sale.\n",
      "All are Gud.. For now.. Apple,apple,apple, thats the first thing that must have flashed in you mind when you saw this product, so here i have a total breif review on the laptop...***Pros***4k Video Editing with Final Cut Pro X on this thing works like butter, there is heating issue that i am going to go to apple service center to get it checkedEveryday works like checking mail and is just gr8The Battery is just OVERPOWERED, works for around 11-12 hours on continuous work and 8-9 hours when editingThe graphics card scores 30 fps in cinebench which is not that badThe performance is also fine, 280 cb processor score on cinebenchSpeakers are really good with perfect bassDisplay brightness is 300 nits, which is fineThe Wi-Fi is extremely good, can get a network even from the living room while the router is in the bedroomVery thin and lightweightMacOS is good for School work if you know all the office applications for mac, for eg.Pages is WordMagSafe 2 is the best partGood Trackpad and Keyboard with backlightThe Storage is fast!, thanks to the M.2 based SSD!\n",
      "***Cons***Display, though the resolution is fairly good for a 13.3 inch display, the viewing angle is not appropriate for a 84k laptopGets heated up (Going to get it checked by apple support).\n",
      "Cooling not appropriate for this cpu, need a better thermal paste and fanRam management on MacOS Mojave is not good, 8 GBs of memory is not well distributed among all tasks running in backgroundMacOS is not made for gaming, you need to boot camp on this mac with Windows if you are really a hard-core gamerIntel HD integrated graphics at the price??\n",
      "?, god damn it apple (Though its not bad, have seen GeForce 940MX at the same price)No Force trackpadBezels are way too thick in today's standardsNo thunderbolt 3 or Usb CCan't detect Android Devices until Android Device Explorer is installedThe Storage is less!\n",
      "(128 GB, will upgrade to 256 GB in a few years)***My Verdict***This devices is for them who want Battery and Power, and people who want to do Video Editing on Final Cut Pro X, if anyone has a heat up issue than you should Call apple Support and visit one service center immediately to get your laptop checked!\n",
      "Though the graphics is OK from my view, apple could have given better graphics like the radeon vega 8 graphics or Intel Iris Plus or Pro for a laptop that is so expensive!\n",
      "Everything else is Great!\n",
      "And MacOS is not that hard, i easily use both my Lenovo Gaming PC and my apple macbook air easily!\n",
      "Go for it if you are in the criteria I explained above!\n",
      "For hard-core video editing I would recommend atleast an iMac 4k or MacBook Pro Base Model because of its cooling Fan structure, Better Graphics and CPU!\n",
      "This Air is enough to edit 4k60fps videos but will slow down a bit in 5k60fps!\n",
      "While exporting the 4k60fps video the CPU and GPU went up to 104 degrees, this is the reason i am going to apple support!\n",
      "Thank You if you read the whole review because I spent a lot of time writing this!\n",
      "*Update on 8 Oct, 2019*Apple service did nothing, so I thought of doing my own service!\n",
      "Yes, I changed the thermal paste and dusted the fan, now, everything is running even better than ever, even the heating issua is solved!\n",
      "Now while exporting a 4k 60 fps video, it's just around 80 degrees, hence no thermal throttling, Yay!\n",
      "After using Windows Operating system for the past 10+ years, I switched to Mac.\n",
      "The switch was inspired by the awesome reviews I got from my friends.\n",
      "I must say that they were all real and that the device and the tech is so very impressive.\n",
      "Be it the design,  be it the processing speed, be it the battery life......all are way ahead than that of a Windows device.\n",
      "I am satisfied to get the marvel of a tech in my hands.\n",
      "It is saving my time every now and then as I am stricken with an idea to pen a couplet, short story or poem.....I simply open the lid, note the idea and then simply close it....no need of shutting the OS down everytime.\n",
      "Working perfectly.\n",
      "MacBook Air is excellent.\n",
      "The build is super strong, the operating systems runs smooth.\n",
      "The trackpad and keyboard are great.\n",
      "The only thing that can be improved is its screen (the visuals).\n",
      "Not as good as expected.\n",
      "The hard disk is too small but if you carry an external hard disk you can solve that problem.\n",
      "Got it at the price of a Dell Windows laptop during Amazon sale.\n",
      "A great deal.\n",
      "Very handy laptop, light weight and portable.\n",
      "Mac OS is super cool.\n",
      "Battery backup was good.\n",
      "Defective product recieved,within 2 months of use, laptop gets switched off suddenly while on battery.\n",
      "Requires power input to restart again.Contacted service centre, they told its motherboard problem and replaced motherboard under warranty, but problem still persisting.\n",
      "Laptop still at service center.\n",
      "Earlier i was using toshiba laptop, satellite 340,lasted 8 yrs without any problem.\n",
      "Paid a premium for macbook air very dissapointed with apple quality of products.\n",
      "And to repair it outside warranty, parts cost as much as the laptop itself🙄 I was apprehensive of buying Apple product from Amazon as some reviews suggested that imported items are being sold.\n",
      "However what I got was fresh and genuine product, I checked warranty on Apple site with serial no.\n",
      "All serial no - on bill, box, inner box and in macOS itself were consistent.\n",
      "Display is too good and it feels like butter operating the device.\n",
      "Only thing is that price difference between this and 256GB version is too much.\n",
      "I brought this mac air on sep 2017.\n",
      "From past 1 week I am not able to turn on my mac, went to apple store and after troubleshooting they said it is having motherboard problem and need to replace which cost 50k, I was shocked and said how come in less than 2 year mac will have this issue.\n",
      "So kindly please beawre on this big bug mac air.\n",
      "Don't want to mention anything for apple MAC book :)Super product I have my worst nightmare with the macbook air I bought.\n",
      "I bought it on theOctober 2018, it got into teouble in the month april 2019.\n",
      "It would turn was trying to restart automatically.\n",
      "I then reoaired it from apple care.\n",
      "It again got dead and woulnt turn onn.\n",
      "I put all the money into water.\n",
      "I dont know what to do with this.\n",
      "Everything about this product seems to be fine as of now.\n",
      "Got an option to upgrade to higher OS and install tools required for my work.\n",
      "Except for not so good sound quality while watching movies through itunes stores, other aspect seems to be fine.\n",
      "Higher storage options (256 GB) may be required for power users who may want to app development on this system.\n",
      "Current configuration suits light - medium heavy user(I belong to this category)- (need xcode debugging feature for my projects ).\n",
      "I was looking for an affordable long lasting light laptop and my search led me to this.\n",
      "I know Apple has launch a new Air but this is still a good performer and with the recent price cut this laptop makes so much sense.\n",
      "I was using MacBook Pro for last 8 years, and after it retired this replaced the Pro and is not doing a bad job at it at all.\n",
      "This is the worst  apple product I have ever seen ...6 month After purchase of this fake book ...some of its keys of keyboard  stopped working ...So the service center  replace my keyboard with the new one ...But after some months with  the new replaced  keyboard some of its key again stopped working .All these things happen in one year and 3 month timeline which is roughly 1.5 years of original purchase date ...\n",
      "...When I spoke to the service center they told me that the warranty is over you need to pay 12000 rs ...So I don't have any option.\n",
      "The cost is too high.\n",
      "..So now I m working with the external keyboard which cost me merely 200 rs ... My friend bought the same macbook from the showroom and i must say its really working good and it doesnt show any fault at all .Till now .i wish i also bought this macbook from the showroom .... Amazing product..it has quality written all over it..great battery, easy to adapt if you are moving from windows..the trackpad, gestures, everything is so damm goodHad read many reviews about the display being bad...it is..if you are trying to look at atomic level details..its a fantastic screen with great audio output..Everything g screams quality and premium about the macbook..love it.\n",
      "From the very beginning the battery life was horrible .\n",
      "hardly 2 hours.\n",
      "And after using it for just a year it just stopped working .\n",
      "and i cannot even charge it.\n",
      "Terrible product sold by Amazon The rating isn't for Apple's performance.\n",
      "I exchanged my old MacBook Air 11' (2013) for MacBook Air 13.3' (2017): and I haven't been disappointed.\n",
      "They both are fantastic machines, there isn't a bit of change except the screen - it is slightly bigger and better...The rating for the seller - I would give 5 star for delivery and 4 star for packaging.\n",
      "However, the product came with multiple scratches.\n",
      "I am unable to conclude whose fault it is- Apple or the reseller (in this case - Cloudtail India Pvt Ltd).I have restored my previous backup and will observe the performance over the week.\n",
      "If it under performs- I will report it to the authorities.\n",
      "If it performs well, the scratches may have been anyone's fault but can be ignored...I shall update this review in a week's time...\n",
      "I preferred this over other good spec windows laptop, just for reason mac.\n",
      "128 gb ssd was only concern as it may not be sufficient however adding external hd or flash drive will do the job for u.\n",
      "Overall even the screen is not full hd i did not find it much of the issue, however If u r concern about good display must for consider this as option.\n",
      "Additionaly over 13000 discount in last sale made this perfect deal.\n",
      "When i received, within 15 days i realised the hinges were loose.\n",
      "Then after less than 2 months very rare use i got a line on the display.\n",
      "The replacement window was only 10 days.\n",
      "Now i have given it for service and even apple doesn't have a replacement policy.\n",
      "So i have to use a repaired device inspite of buying new.\n",
      "Very disappointing.\n",
      "Be careful while buying electronic products through Amazon.I bought this macbook for 56k on March 2018.\n",
      "After 1.5 years of usage, the display stopped working for no reason.\n",
      "The device never had any accidental drop or shock while I was using it through these years.\n",
      "The service center guy told me it would cost around 41k for screen replacement.\n",
      "Now I'm left with no option.If you are buying, I suggest you to buy it along with a protection plan or any extended warranty.\n",
      "MERITS..IT IS BEST IN ITS PERFORMANCE..SOUND QUALITY IS AMAZING..NICE PICTURE QUALITY...GREAT STABILIZATION..BEST UI(USER INTERFACE)..BEST LAPTOP FOR NORMAL HUMANS🤣 >50KDEMERITSCANNOT BE USED FOR GAMINGbut If You areNot a Productive person Then only You Play games..And...THERE's nothing much bad about 3 years and still running!\n",
      "great product The elegant work of apple can be seen in this product.\n",
      "The design, the user friendliness, the compactness can be easily seen in this laptop.\n",
      "Coming to the performance, the speed of this is remarkable, and you can get to know the power of Mac os when you have another apple product.\n",
      "You can get one of the best movie experiences on this .\n",
      "Overall I would it a 4.5/5.\n",
      "I got a great deal on this laptop, which I have been using for almost a year now.\n",
      "I got it not only on discount but also was able to exchange my old laptop with this!\n",
      "Laptop works really well, it was a good purchase!\n"
     ]
    }
   ],
   "source": [
    "sent_df['sentiment_value'] = sent_df['sentence'].apply(calculate_sentiment)"
   ]
  },
  {
   "cell_type": "code",
   "execution_count": 55,
   "metadata": {
    "executionInfo": {
     "elapsed": 156,
     "status": "aborted",
     "timestamp": 1648278053141,
     "user": {
      "displayName": "chirag jhumkhawala",
      "photoUrl": "https://lh3.googleusercontent.com/a-/AOh14GjipYW90uPwuGk-OG3CwVYkOT7gAFDDqMc8bm6r=s64",
      "userId": "08866107897979551593"
     },
     "user_tz": -330
    },
    "id": "beMlrPKUzTaL",
    "tags": []
   },
   "outputs": [
    {
     "data": {
      "text/html": [
       "<div>\n",
       "<style scoped>\n",
       "    .dataframe tbody tr th:only-of-type {\n",
       "        vertical-align: middle;\n",
       "    }\n",
       "\n",
       "    .dataframe tbody tr th {\n",
       "        vertical-align: top;\n",
       "    }\n",
       "\n",
       "    .dataframe thead th {\n",
       "        text-align: right;\n",
       "    }\n",
       "</style>\n",
       "<table border=\"1\" class=\"dataframe\">\n",
       "  <thead>\n",
       "    <tr style=\"text-align: right;\">\n",
       "      <th></th>\n",
       "      <th>sentence</th>\n",
       "      <th>sentiment_value</th>\n",
       "    </tr>\n",
       "  </thead>\n",
       "  <tbody>\n",
       "    <tr>\n",
       "      <th>0</th>\n",
       "      <td>It's amazing..... battery last around 10 -12 h...</td>\n",
       "      <td>3</td>\n",
       "    </tr>\n",
       "    <tr>\n",
       "      <th>1</th>\n",
       "      <td>Got it in 50k in Diwali sale.</td>\n",
       "      <td>0</td>\n",
       "    </tr>\n",
       "    <tr>\n",
       "      <th>2</th>\n",
       "      <td>Technically good laptop.Good News.luxury produ...</td>\n",
       "      <td>5</td>\n",
       "    </tr>\n",
       "    <tr>\n",
       "      <th>3</th>\n",
       "      <td>Terrific sense of possession &amp; pride.Bad News.</td>\n",
       "      <td>0</td>\n",
       "    </tr>\n",
       "    <tr>\n",
       "      <th>4</th>\n",
       "      <td>Problems will be there if you are switching fr...</td>\n",
       "      <td>8</td>\n",
       "    </tr>\n",
       "    <tr>\n",
       "      <th>...</th>\n",
       "      <td>...</td>\n",
       "      <td>...</td>\n",
       "    </tr>\n",
       "    <tr>\n",
       "      <th>183</th>\n",
       "      <td>You can get one of the best movie experiences ...</td>\n",
       "      <td>0</td>\n",
       "    </tr>\n",
       "    <tr>\n",
       "      <th>184</th>\n",
       "      <td>Overall I would it a 4.5/5.</td>\n",
       "      <td>0</td>\n",
       "    </tr>\n",
       "    <tr>\n",
       "      <th>185</th>\n",
       "      <td>I got a great deal on this laptop, which I hav...</td>\n",
       "      <td>4</td>\n",
       "    </tr>\n",
       "    <tr>\n",
       "      <th>186</th>\n",
       "      <td>I got it not only on discount but also was abl...</td>\n",
       "      <td>1</td>\n",
       "    </tr>\n",
       "    <tr>\n",
       "      <th>187</th>\n",
       "      <td>Laptop works really well, it was a good purchase!</td>\n",
       "      <td>2</td>\n",
       "    </tr>\n",
       "  </tbody>\n",
       "</table>\n",
       "<p>188 rows × 2 columns</p>\n",
       "</div>"
      ],
      "text/plain": [
       "                                              sentence  sentiment_value\n",
       "0    It's amazing..... battery last around 10 -12 h...                3\n",
       "1                        Got it in 50k in Diwali sale.                0\n",
       "2    Technically good laptop.Good News.luxury produ...                5\n",
       "3       Terrific sense of possession & pride.Bad News.                0\n",
       "4    Problems will be there if you are switching fr...                8\n",
       "..                                                 ...              ...\n",
       "183  You can get one of the best movie experiences ...                0\n",
       "184                        Overall I would it a 4.5/5.                0\n",
       "185  I got a great deal on this laptop, which I hav...                4\n",
       "186  I got it not only on discount but also was abl...                1\n",
       "187  Laptop works really well, it was a good purchase!                2\n",
       "\n",
       "[188 rows x 2 columns]"
      ]
     },
     "execution_count": 55,
     "metadata": {},
     "output_type": "execute_result"
    }
   ],
   "source": [
    "sent_df"
   ]
  },
  {
   "cell_type": "code",
   "execution_count": 56,
   "metadata": {
    "executionInfo": {
     "elapsed": 156,
     "status": "aborted",
     "timestamp": 1648278053142,
     "user": {
      "displayName": "chirag jhumkhawala",
      "photoUrl": "https://lh3.googleusercontent.com/a-/AOh14GjipYW90uPwuGk-OG3CwVYkOT7gAFDDqMc8bm6r=s64",
      "userId": "08866107897979551593"
     },
     "user_tz": -330
    },
    "id": "ViXBNIk_IaYv",
    "tags": []
   },
   "outputs": [
    {
     "data": {
      "text/plain": [
       "0    17\n",
       "1     7\n",
       "2    31\n",
       "3     7\n",
       "4    65\n",
       "5     1\n",
       "6     7\n",
       "7    47\n",
       "8    16\n",
       "9    29\n",
       "Name: word_count, dtype: int64"
      ]
     },
     "execution_count": 56,
     "metadata": {},
     "output_type": "execute_result"
    }
   ],
   "source": [
    "# how many words are in the sentence?\n",
    "sent_df['word_count'] = sent_df['sentence'].str.split().apply(len)\n",
    "sent_df['word_count'].head(10)"
   ]
  },
  {
   "cell_type": "code",
   "execution_count": 57,
   "metadata": {
    "executionInfo": {
     "elapsed": 159,
     "status": "aborted",
     "timestamp": 1648278053145,
     "user": {
      "displayName": "chirag jhumkhawala",
      "photoUrl": "https://lh3.googleusercontent.com/a-/AOh14GjipYW90uPwuGk-OG3CwVYkOT7gAFDDqMc8bm6r=s64",
      "userId": "08866107897979551593"
     },
     "user_tz": -330
    },
    "id": "Ju6kybVAIaYv",
    "tags": []
   },
   "outputs": [
    {
     "data": {
      "text/html": [
       "<div>\n",
       "<style scoped>\n",
       "    .dataframe tbody tr th:only-of-type {\n",
       "        vertical-align: middle;\n",
       "    }\n",
       "\n",
       "    .dataframe tbody tr th {\n",
       "        vertical-align: top;\n",
       "    }\n",
       "\n",
       "    .dataframe thead th {\n",
       "        text-align: right;\n",
       "    }\n",
       "</style>\n",
       "<table border=\"1\" class=\"dataframe\">\n",
       "  <thead>\n",
       "    <tr style=\"text-align: right;\">\n",
       "      <th></th>\n",
       "      <th>sentence</th>\n",
       "      <th>sentiment_value</th>\n",
       "      <th>word_count</th>\n",
       "    </tr>\n",
       "  </thead>\n",
       "  <tbody>\n",
       "    <tr>\n",
       "      <th>18</th>\n",
       "      <td>If you don't want any accounting softwares lik...</td>\n",
       "      <td>6</td>\n",
       "      <td>21</td>\n",
       "    </tr>\n",
       "    <tr>\n",
       "      <th>4</th>\n",
       "      <td>Problems will be there if you are switching fr...</td>\n",
       "      <td>8</td>\n",
       "      <td>65</td>\n",
       "    </tr>\n",
       "    <tr>\n",
       "      <th>132</th>\n",
       "      <td>From past 1 week I am not able to turn on my m...</td>\n",
       "      <td>8</td>\n",
       "      <td>51</td>\n",
       "    </tr>\n",
       "    <tr>\n",
       "      <th>91</th>\n",
       "      <td>(128 GB, will upgrade to 256 GB in a few years...</td>\n",
       "      <td>8</td>\n",
       "      <td>58</td>\n",
       "    </tr>\n",
       "    <tr>\n",
       "      <th>47</th>\n",
       "      <td>Ships with macOS sierra but update is availabl...</td>\n",
       "      <td>9</td>\n",
       "      <td>86</td>\n",
       "    </tr>\n",
       "    <tr>\n",
       "      <th>152</th>\n",
       "      <td>..So now I m working with the external keyboar...</td>\n",
       "      <td>10</td>\n",
       "      <td>113</td>\n",
       "    </tr>\n",
       "    <tr>\n",
       "      <th>20</th>\n",
       "      <td>U cannot play games, your laptop will just hea...</td>\n",
       "      <td>11</td>\n",
       "      <td>25</td>\n",
       "    </tr>\n",
       "    <tr>\n",
       "      <th>21</th>\n",
       "      <td>Storage 128gb, it will work fine but if you wa...</td>\n",
       "      <td>12</td>\n",
       "      <td>26</td>\n",
       "    </tr>\n",
       "    <tr>\n",
       "      <th>87</th>\n",
       "      <td>All are Gud.. For now.. Apple,apple,apple, tha...</td>\n",
       "      <td>15</td>\n",
       "      <td>184</td>\n",
       "    </tr>\n",
       "    <tr>\n",
       "      <th>19</th>\n",
       "      <td>I just love it's battery life with sleek look ...</td>\n",
       "      <td>39</td>\n",
       "      <td>94</td>\n",
       "    </tr>\n",
       "  </tbody>\n",
       "</table>\n",
       "</div>"
      ],
      "text/plain": [
       "                                              sentence  sentiment_value  \\\n",
       "18   If you don't want any accounting softwares lik...                6   \n",
       "4    Problems will be there if you are switching fr...                8   \n",
       "132  From past 1 week I am not able to turn on my m...                8   \n",
       "91   (128 GB, will upgrade to 256 GB in a few years...                8   \n",
       "47   Ships with macOS sierra but update is availabl...                9   \n",
       "152  ..So now I m working with the external keyboar...               10   \n",
       "20   U cannot play games, your laptop will just hea...               11   \n",
       "21   Storage 128gb, it will work fine but if you wa...               12   \n",
       "87   All are Gud.. For now.. Apple,apple,apple, tha...               15   \n",
       "19   I just love it's battery life with sleek look ...               39   \n",
       "\n",
       "     word_count  \n",
       "18           21  \n",
       "4            65  \n",
       "132          51  \n",
       "91           58  \n",
       "47           86  \n",
       "152         113  \n",
       "20           25  \n",
       "21           26  \n",
       "87          184  \n",
       "19           94  "
      ]
     },
     "execution_count": 57,
     "metadata": {},
     "output_type": "execute_result"
    }
   ],
   "source": [
    "sent_df.sort_values(by='sentiment_value').tail(10)"
   ]
  },
  {
   "cell_type": "code",
   "execution_count": 58,
   "metadata": {
    "executionInfo": {
     "elapsed": 161,
     "status": "aborted",
     "timestamp": 1648278053148,
     "user": {
      "displayName": "chirag jhumkhawala",
      "photoUrl": "https://lh3.googleusercontent.com/a-/AOh14GjipYW90uPwuGk-OG3CwVYkOT7gAFDDqMc8bm6r=s64",
      "userId": "08866107897979551593"
     },
     "user_tz": -330
    },
    "id": "hAGFBNlBIaYv",
    "tags": []
   },
   "outputs": [
    {
     "data": {
      "text/plain": [
       "count    188.000000\n",
       "mean       1.718085\n",
       "std        3.594454\n",
       "min        0.000000\n",
       "25%        0.000000\n",
       "50%        1.000000\n",
       "75%        2.000000\n",
       "max       39.000000\n",
       "Name: sentiment_value, dtype: float64"
      ]
     },
     "execution_count": 58,
     "metadata": {},
     "output_type": "execute_result"
    }
   ],
   "source": [
    "# Sentiment score of the whole review\n",
    "sent_df['sentiment_value'].describe()"
   ]
  },
  {
   "cell_type": "code",
   "execution_count": 59,
   "metadata": {
    "executionInfo": {
     "elapsed": 162,
     "status": "aborted",
     "timestamp": 1648278053150,
     "user": {
      "displayName": "chirag jhumkhawala",
      "photoUrl": "https://lh3.googleusercontent.com/a-/AOh14GjipYW90uPwuGk-OG3CwVYkOT7gAFDDqMc8bm6r=s64",
      "userId": "08866107897979551593"
     },
     "user_tz": -330
    },
    "id": "cDg4T2EnIaYw",
    "tags": []
   },
   "outputs": [
    {
     "data": {
      "text/html": [
       "<div>\n",
       "<style scoped>\n",
       "    .dataframe tbody tr th:only-of-type {\n",
       "        vertical-align: middle;\n",
       "    }\n",
       "\n",
       "    .dataframe tbody tr th {\n",
       "        vertical-align: top;\n",
       "    }\n",
       "\n",
       "    .dataframe thead th {\n",
       "        text-align: right;\n",
       "    }\n",
       "</style>\n",
       "<table border=\"1\" class=\"dataframe\">\n",
       "  <thead>\n",
       "    <tr style=\"text-align: right;\">\n",
       "      <th></th>\n",
       "      <th>sentence</th>\n",
       "      <th>sentiment_value</th>\n",
       "      <th>word_count</th>\n",
       "    </tr>\n",
       "  </thead>\n",
       "  <tbody>\n",
       "    <tr>\n",
       "      <th>1</th>\n",
       "      <td>Got it in 50k in Diwali sale.</td>\n",
       "      <td>0</td>\n",
       "      <td>7</td>\n",
       "    </tr>\n",
       "    <tr>\n",
       "      <th>3</th>\n",
       "      <td>Terrific sense of possession &amp; pride.Bad News.</td>\n",
       "      <td>0</td>\n",
       "      <td>7</td>\n",
       "    </tr>\n",
       "    <tr>\n",
       "      <th>5</th>\n",
       "      <td>!</td>\n",
       "      <td>0</td>\n",
       "      <td>1</td>\n",
       "    </tr>\n",
       "    <tr>\n",
       "      <th>6</th>\n",
       "      <td>), all printers are not compatible (e.g.</td>\n",
       "      <td>0</td>\n",
       "      <td>7</td>\n",
       "    </tr>\n",
       "    <tr>\n",
       "      <th>14</th>\n",
       "      <td>Else, think hard.</td>\n",
       "      <td>0</td>\n",
       "      <td>3</td>\n",
       "    </tr>\n",
       "  </tbody>\n",
       "</table>\n",
       "</div>"
      ],
      "text/plain": [
       "                                          sentence  sentiment_value  \\\n",
       "1                    Got it in 50k in Diwali sale.                0   \n",
       "3   Terrific sense of possession & pride.Bad News.                0   \n",
       "5                                                !                0   \n",
       "6         ), all printers are not compatible (e.g.                0   \n",
       "14                               Else, think hard.                0   \n",
       "\n",
       "    word_count  \n",
       "1            7  \n",
       "3            7  \n",
       "5            1  \n",
       "6            7  \n",
       "14           3  "
      ]
     },
     "execution_count": 59,
     "metadata": {},
     "output_type": "execute_result"
    }
   ],
   "source": [
    "# Sentiment score of the whole review\n",
    "sent_df[sent_df['sentiment_value']<=0].head()"
   ]
  },
  {
   "cell_type": "code",
   "execution_count": 60,
   "metadata": {
    "executionInfo": {
     "elapsed": 170,
     "status": "aborted",
     "timestamp": 1648278053164,
     "user": {
      "displayName": "chirag jhumkhawala",
      "photoUrl": "https://lh3.googleusercontent.com/a-/AOh14GjipYW90uPwuGk-OG3CwVYkOT7gAFDDqMc8bm6r=s64",
      "userId": "08866107897979551593"
     },
     "user_tz": -330
    },
    "id": "wVDlmVhUIaYw",
    "tags": []
   },
   "outputs": [
    {
     "ename": "IndexError",
     "evalue": "list index out of range",
     "output_type": "error",
     "traceback": [
      "\u001b[0;31m---------------------------------------------------------------------------\u001b[0m",
      "\u001b[0;31mIndexError\u001b[0m                                Traceback (most recent call last)",
      "Cell \u001b[0;32mIn[60], line 1\u001b[0m\n\u001b[0;32m----> 1\u001b[0m \u001b[43msent_df\u001b[49m\u001b[43m[\u001b[49m\u001b[43msent_df\u001b[49m\u001b[43m[\u001b[49m\u001b[38;5;124;43m'\u001b[39;49m\u001b[38;5;124;43msentiment_value\u001b[39;49m\u001b[38;5;124;43m'\u001b[39;49m\u001b[43m]\u001b[49m\u001b[38;5;241;43m<\u001b[39;49m\u001b[38;5;241;43m-\u001b[39;49m\u001b[38;5;241;43m5\u001b[39;49m\u001b[43m]\u001b[49m\u001b[38;5;241;43m.\u001b[39;49m\u001b[43mhead\u001b[49m\u001b[43m(\u001b[49m\u001b[43m)\u001b[49m\u001b[43m[\u001b[49m\u001b[38;5;124;43m'\u001b[39;49m\u001b[38;5;124;43msentence\u001b[39;49m\u001b[38;5;124;43m'\u001b[39;49m\u001b[43m]\u001b[49m\u001b[38;5;241;43m.\u001b[39;49m\u001b[43mtolist\u001b[49m\u001b[43m(\u001b[49m\u001b[43m)\u001b[49m\u001b[43m[\u001b[49m\u001b[38;5;241;43m0\u001b[39;49m\u001b[43m]\u001b[49m\n",
      "\u001b[0;31mIndexError\u001b[0m: list index out of range"
     ]
    }
   ],
   "source": [
    "sent_df[sent_df['sentiment_value']<-5].head()['sentence'].tolist()[0]"
   ]
  },
  {
   "cell_type": "code",
   "execution_count": null,
   "metadata": {
    "executionInfo": {
     "elapsed": 178,
     "status": "aborted",
     "timestamp": 1648278053174,
     "user": {
      "displayName": "chirag jhumkhawala",
      "photoUrl": "https://lh3.googleusercontent.com/a-/AOh14GjipYW90uPwuGk-OG3CwVYkOT7gAFDDqMc8bm6r=s64",
      "userId": "08866107897979551593"
     },
     "user_tz": -330
    },
    "id": "-mc8yfN7IaYw"
   },
   "outputs": [],
   "source": [
    "sent_df['index']=range(0,len(sent_df))"
   ]
  },
  {
   "cell_type": "code",
   "execution_count": null,
   "metadata": {
    "executionInfo": {
     "elapsed": 181,
     "status": "aborted",
     "timestamp": 1648278053178,
     "user": {
      "displayName": "chirag jhumkhawala",
      "photoUrl": "https://lh3.googleusercontent.com/a-/AOh14GjipYW90uPwuGk-OG3CwVYkOT7gAFDDqMc8bm6r=s64",
      "userId": "08866107897979551593"
     },
     "user_tz": -330
    },
    "id": "dFsUR-i3IaYw"
   },
   "outputs": [],
   "source": [
    "import seaborn as sns\n",
    "import matplotlib.pyplot as plt\n",
    "sns.distplot(sent_df['sentiment_value'])"
   ]
  },
  {
   "cell_type": "code",
   "execution_count": null,
   "metadata": {
    "executionInfo": {
     "elapsed": 185,
     "status": "aborted",
     "timestamp": 1648278053184,
     "user": {
      "displayName": "chirag jhumkhawala",
      "photoUrl": "https://lh3.googleusercontent.com/a-/AOh14GjipYW90uPwuGk-OG3CwVYkOT7gAFDDqMc8bm6r=s64",
      "userId": "08866107897979551593"
     },
     "user_tz": -330
    },
    "id": "TCuDSnvqIaYw"
   },
   "outputs": [],
   "source": [
    "plt.figure(figsize=(15, 10))\n",
    "sns.lineplot(y='sentiment_value',x='index',data=sent_df)"
   ]
  },
  {
   "cell_type": "code",
   "execution_count": null,
   "metadata": {
    "executionInfo": {
     "elapsed": 187,
     "status": "aborted",
     "timestamp": 1648278053187,
     "user": {
      "displayName": "chirag jhumkhawala",
      "photoUrl": "https://lh3.googleusercontent.com/a-/AOh14GjipYW90uPwuGk-OG3CwVYkOT7gAFDDqMc8bm6r=s64",
      "userId": "08866107897979551593"
     },
     "user_tz": -330
    },
    "id": "WHePZ2ieIaYw"
   },
   "outputs": [],
   "source": [
    "sent_df.plot.scatter(x='word_count', y='sentiment_value', figsize=(8,8), title='Sentence sentiment value to sentence word count')"
   ]
  },
  {
   "cell_type": "code",
   "execution_count": null,
   "metadata": {
    "executionInfo": {
     "elapsed": 189,
     "status": "aborted",
     "timestamp": 1648278053190,
     "user": {
      "displayName": "chirag jhumkhawala",
      "photoUrl": "https://lh3.googleusercontent.com/a-/AOh14GjipYW90uPwuGk-OG3CwVYkOT7gAFDDqMc8bm6r=s64",
      "userId": "08866107897979551593"
     },
     "user_tz": -330
    },
    "id": "mhRNdwmkUilP"
   },
   "outputs": [],
   "source": [
    "from google.colab import drive\n",
    "drive.mount('/content/drive')"
   ]
  },
  {
   "cell_type": "code",
   "execution_count": null,
   "metadata": {
    "executionInfo": {
     "elapsed": 195,
     "status": "aborted",
     "timestamp": 1648278053196,
     "user": {
      "displayName": "chirag jhumkhawala",
      "photoUrl": "https://lh3.googleusercontent.com/a-/AOh14GjipYW90uPwuGk-OG3CwVYkOT7gAFDDqMc8bm6r=s64",
      "userId": "08866107897979551593"
     },
     "user_tz": -330
    },
    "id": "IxbbrZhYIaYw"
   },
   "outputs": [],
   "source": []
  }
 ],
 "metadata": {
  "colab": {
   "collapsed_sections": [],
   "name": "Named_Entity_Recognition_Emotion_Mining.ipynb",
   "provenance": []
  },
  "kernelspec": {
   "display_name": "Python 3 (ipykernel)",
   "language": "python",
   "name": "python3"
  },
  "language_info": {
   "codemirror_mode": {
    "name": "ipython",
    "version": 3
   },
   "file_extension": ".py",
   "mimetype": "text/x-python",
   "name": "python",
   "nbconvert_exporter": "python",
   "pygments_lexer": "ipython3",
   "version": "3.11.2"
  }
 },
 "nbformat": 4,
 "nbformat_minor": 4
}

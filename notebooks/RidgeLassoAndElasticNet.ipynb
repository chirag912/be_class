{
 "cells": [
  {
   "cell_type": "code",
   "execution_count": 20,
   "id": "f6928da4-c65a-4754-849f-0a42457aa418",
   "metadata": {},
   "outputs": [],
   "source": [
    "#importing libraries\n",
    "\n",
    "import pandas as pd\n",
    "import numpy as np\n",
    "import matplotlib.pyplot as plt\n",
    "\n",
    "from sklearn import datasets\n",
    "from sklearn.model_selection import train_test_split\n",
    "from sklearn.linear_model import LinearRegression\n",
    "\n"
   ]
  },
  {
   "cell_type": "code",
   "execution_count": 22,
   "id": "f645480b-0074-4530-83fd-927d26118aaf",
   "metadata": {},
   "outputs": [
    {
     "name": "stdout",
     "output_type": "stream",
     "text": [
      ".. _boston_dataset:\n",
      "\n",
      "Boston house prices dataset\n",
      "---------------------------\n",
      "\n",
      "**Data Set Characteristics:**  \n",
      "\n",
      "    :Number of Instances: 506 \n",
      "\n",
      "    :Number of Attributes: 13 numeric/categorical predictive. Median Value (attribute 14) is usually the target.\n",
      "\n",
      "    :Attribute Information (in order):\n",
      "        - CRIM     per capita crime rate by town\n",
      "        - ZN       proportion of residential land zoned for lots over 25,000 sq.ft.\n",
      "        - INDUS    proportion of non-retail business acres per town\n",
      "        - CHAS     Charles River dummy variable (= 1 if tract bounds river; 0 otherwise)\n",
      "        - NOX      nitric oxides concentration (parts per 10 million)\n",
      "        - RM       average number of rooms per dwelling\n",
      "        - AGE      proportion of owner-occupied units built prior to 1940\n",
      "        - DIS      weighted distances to five Boston employment centres\n",
      "        - RAD      index of accessibility to radial highways\n",
      "        - TAX      full-value property-tax rate per $10,000\n",
      "        - PTRATIO  pupil-teacher ratio by town\n",
      "        - B        1000(Bk - 0.63)^2 where Bk is the proportion of blacks by town\n",
      "        - LSTAT    % lower status of the population\n",
      "        - MEDV     Median value of owner-occupied homes in $1000's\n",
      "\n",
      "    :Missing Attribute Values: None\n",
      "\n",
      "    :Creator: Harrison, D. and Rubinfeld, D.L.\n",
      "\n",
      "This is a copy of UCI ML housing dataset.\n",
      "https://archive.ics.uci.edu/ml/machine-learning-databases/housing/\n",
      "\n",
      "\n",
      "This dataset was taken from the StatLib library which is maintained at Carnegie Mellon University.\n",
      "\n",
      "The Boston house-price data of Harrison, D. and Rubinfeld, D.L. 'Hedonic\n",
      "prices and the demand for clean air', J. Environ. Economics & Management,\n",
      "vol.5, 81-102, 1978.   Used in Belsley, Kuh & Welsch, 'Regression diagnostics\n",
      "...', Wiley, 1980.   N.B. Various transformations are used in the table on\n",
      "pages 244-261 of the latter.\n",
      "\n",
      "The Boston house-price data has been used in many machine learning papers that address regression\n",
      "problems.   \n",
      "     \n",
      ".. topic:: References\n",
      "\n",
      "   - Belsley, Kuh & Welsch, 'Regression diagnostics: Identifying Influential Data and Sources of Collinearity', Wiley, 1980. 244-261.\n",
      "   - Quinlan,R. (1993). Combining Instance-Based and Model-Based Learning. In Proceedings on the Tenth International Conference of Machine Learning, 236-243, University of Massachusetts, Amherst. Morgan Kaufmann.\n",
      "\n"
     ]
    }
   ],
   "source": [
    "#Load the predfined dataset\n",
    "\n",
    "boston_dataset = datasets.load_boston()\n",
    "print(boston_dataset.DESCR)"
   ]
  },
  {
   "cell_type": "code",
   "execution_count": 24,
   "id": "baa813d1-42ad-4354-8e64-643c29bcafa3",
   "metadata": {},
   "outputs": [
    {
     "data": {
      "text/plain": [
       "array([24. , 21.6, 34.7, 33.4, 36.2, 28.7, 22.9, 27.1, 16.5, 18.9, 15. ,\n",
       "       18.9, 21.7, 20.4, 18.2, 19.9, 23.1, 17.5, 20.2, 18.2, 13.6, 19.6,\n",
       "       15.2, 14.5, 15.6, 13.9, 16.6, 14.8, 18.4, 21. , 12.7, 14.5, 13.2,\n",
       "       13.1, 13.5, 18.9, 20. , 21. , 24.7, 30.8, 34.9, 26.6, 25.3, 24.7,\n",
       "       21.2, 19.3, 20. , 16.6, 14.4, 19.4, 19.7, 20.5, 25. , 23.4, 18.9,\n",
       "       35.4, 24.7, 31.6, 23.3, 19.6, 18.7, 16. , 22.2, 25. , 33. , 23.5,\n",
       "       19.4, 22. , 17.4, 20.9, 24.2, 21.7, 22.8, 23.4, 24.1, 21.4, 20. ,\n",
       "       20.8, 21.2, 20.3, 28. , 23.9, 24.8, 22.9, 23.9, 26.6, 22.5, 22.2,\n",
       "       23.6, 28.7, 22.6, 22. , 22.9, 25. , 20.6, 28.4, 21.4, 38.7, 43.8,\n",
       "       33.2, 27.5, 26.5, 18.6, 19.3, 20.1, 19.5, 19.5, 20.4, 19.8, 19.4,\n",
       "       21.7, 22.8, 18.8, 18.7, 18.5, 18.3, 21.2, 19.2, 20.4, 19.3, 22. ,\n",
       "       20.3, 20.5, 17.3, 18.8, 21.4, 15.7, 16.2, 18. , 14.3, 19.2, 19.6,\n",
       "       23. , 18.4, 15.6, 18.1, 17.4, 17.1, 13.3, 17.8, 14. , 14.4, 13.4,\n",
       "       15.6, 11.8, 13.8, 15.6, 14.6, 17.8, 15.4, 21.5, 19.6, 15.3, 19.4,\n",
       "       17. , 15.6, 13.1, 41.3, 24.3, 23.3, 27. , 50. , 50. , 50. , 22.7,\n",
       "       25. , 50. , 23.8, 23.8, 22.3, 17.4, 19.1, 23.1, 23.6, 22.6, 29.4,\n",
       "       23.2, 24.6, 29.9, 37.2, 39.8, 36.2, 37.9, 32.5, 26.4, 29.6, 50. ,\n",
       "       32. , 29.8, 34.9, 37. , 30.5, 36.4, 31.1, 29.1, 50. , 33.3, 30.3,\n",
       "       34.6, 34.9, 32.9, 24.1, 42.3, 48.5, 50. , 22.6, 24.4, 22.5, 24.4,\n",
       "       20. , 21.7, 19.3, 22.4, 28.1, 23.7, 25. , 23.3, 28.7, 21.5, 23. ,\n",
       "       26.7, 21.7, 27.5, 30.1, 44.8, 50. , 37.6, 31.6, 46.7, 31.5, 24.3,\n",
       "       31.7, 41.7, 48.3, 29. , 24. , 25.1, 31.5, 23.7, 23.3, 22. , 20.1,\n",
       "       22.2, 23.7, 17.6, 18.5, 24.3, 20.5, 24.5, 26.2, 24.4, 24.8, 29.6,\n",
       "       42.8, 21.9, 20.9, 44. , 50. , 36. , 30.1, 33.8, 43.1, 48.8, 31. ,\n",
       "       36.5, 22.8, 30.7, 50. , 43.5, 20.7, 21.1, 25.2, 24.4, 35.2, 32.4,\n",
       "       32. , 33.2, 33.1, 29.1, 35.1, 45.4, 35.4, 46. , 50. , 32.2, 22. ,\n",
       "       20.1, 23.2, 22.3, 24.8, 28.5, 37.3, 27.9, 23.9, 21.7, 28.6, 27.1,\n",
       "       20.3, 22.5, 29. , 24.8, 22. , 26.4, 33.1, 36.1, 28.4, 33.4, 28.2,\n",
       "       22.8, 20.3, 16.1, 22.1, 19.4, 21.6, 23.8, 16.2, 17.8, 19.8, 23.1,\n",
       "       21. , 23.8, 23.1, 20.4, 18.5, 25. , 24.6, 23. , 22.2, 19.3, 22.6,\n",
       "       19.8, 17.1, 19.4, 22.2, 20.7, 21.1, 19.5, 18.5, 20.6, 19. , 18.7,\n",
       "       32.7, 16.5, 23.9, 31.2, 17.5, 17.2, 23.1, 24.5, 26.6, 22.9, 24.1,\n",
       "       18.6, 30.1, 18.2, 20.6, 17.8, 21.7, 22.7, 22.6, 25. , 19.9, 20.8,\n",
       "       16.8, 21.9, 27.5, 21.9, 23.1, 50. , 50. , 50. , 50. , 50. , 13.8,\n",
       "       13.8, 15. , 13.9, 13.3, 13.1, 10.2, 10.4, 10.9, 11.3, 12.3,  8.8,\n",
       "        7.2, 10.5,  7.4, 10.2, 11.5, 15.1, 23.2,  9.7, 13.8, 12.7, 13.1,\n",
       "       12.5,  8.5,  5. ,  6.3,  5.6,  7.2, 12.1,  8.3,  8.5,  5. , 11.9,\n",
       "       27.9, 17.2, 27.5, 15. , 17.2, 17.9, 16.3,  7. ,  7.2,  7.5, 10.4,\n",
       "        8.8,  8.4, 16.7, 14.2, 20.8, 13.4, 11.7,  8.3, 10.2, 10.9, 11. ,\n",
       "        9.5, 14.5, 14.1, 16.1, 14.3, 11.7, 13.4,  9.6,  8.7,  8.4, 12.8,\n",
       "       10.5, 17.1, 18.4, 15.4, 10.8, 11.8, 14.9, 12.6, 14.1, 13. , 13.4,\n",
       "       15.2, 16.1, 17.8, 14.9, 14.1, 12.7, 13.5, 14.9, 20. , 16.4, 17.7,\n",
       "       19.5, 20.2, 21.4, 19.9, 19. , 19.1, 19.1, 20.1, 19.9, 19.6, 23.2,\n",
       "       29.8, 13.8, 13.3, 16.7, 12. , 14.6, 21.4, 23. , 23.7, 25. , 21.8,\n",
       "       20.6, 21.2, 19.1, 20.6, 15.2,  7. ,  8.1, 13.6, 20.1, 21.8, 24.5,\n",
       "       23.1, 19.7, 18.3, 21.2, 17.5, 16.8, 22.4, 20.6, 23.9, 22. , 11.9])"
      ]
     },
     "execution_count": 24,
     "metadata": {},
     "output_type": "execute_result"
    }
   ],
   "source": [
    "boston_dataset.feature_names\n",
    "boston_dataset.target"
   ]
  },
  {
   "cell_type": "code",
   "execution_count": 26,
   "id": "a51cedd7-c325-4333-a229-f79155e96cee",
   "metadata": {},
   "outputs": [],
   "source": [
    "#Load the data and divde them into X and Y\n",
    "\n",
    "boston_pd = pd.DataFrame(boston_dataset.data)\n",
    "boston_pd.columns = boston_dataset.feature_names\n",
    "\n",
    "boston_pd_target = np.asarray(boston_dataset.target)\n",
    "boston_pd['House Price'] = pd.Series(boston_pd_target)"
   ]
  },
  {
   "cell_type": "code",
   "execution_count": 27,
   "id": "0097f399-585d-42ae-9957-52e60a0e7c33",
   "metadata": {},
   "outputs": [
    {
     "data": {
      "text/html": [
       "<div>\n",
       "<style scoped>\n",
       "    .dataframe tbody tr th:only-of-type {\n",
       "        vertical-align: middle;\n",
       "    }\n",
       "\n",
       "    .dataframe tbody tr th {\n",
       "        vertical-align: top;\n",
       "    }\n",
       "\n",
       "    .dataframe thead th {\n",
       "        text-align: right;\n",
       "    }\n",
       "</style>\n",
       "<table border=\"1\" class=\"dataframe\">\n",
       "  <thead>\n",
       "    <tr style=\"text-align: right;\">\n",
       "      <th></th>\n",
       "      <th>CRIM</th>\n",
       "      <th>ZN</th>\n",
       "      <th>INDUS</th>\n",
       "      <th>CHAS</th>\n",
       "      <th>NOX</th>\n",
       "      <th>RM</th>\n",
       "      <th>AGE</th>\n",
       "      <th>DIS</th>\n",
       "      <th>RAD</th>\n",
       "      <th>TAX</th>\n",
       "      <th>PTRATIO</th>\n",
       "      <th>B</th>\n",
       "      <th>LSTAT</th>\n",
       "      <th>House Price</th>\n",
       "    </tr>\n",
       "  </thead>\n",
       "  <tbody>\n",
       "    <tr>\n",
       "      <th>0</th>\n",
       "      <td>0.00632</td>\n",
       "      <td>18.0</td>\n",
       "      <td>2.31</td>\n",
       "      <td>0.0</td>\n",
       "      <td>0.538</td>\n",
       "      <td>6.575</td>\n",
       "      <td>65.2</td>\n",
       "      <td>4.0900</td>\n",
       "      <td>1.0</td>\n",
       "      <td>296.0</td>\n",
       "      <td>15.3</td>\n",
       "      <td>396.90</td>\n",
       "      <td>4.98</td>\n",
       "      <td>24.0</td>\n",
       "    </tr>\n",
       "    <tr>\n",
       "      <th>1</th>\n",
       "      <td>0.02731</td>\n",
       "      <td>0.0</td>\n",
       "      <td>7.07</td>\n",
       "      <td>0.0</td>\n",
       "      <td>0.469</td>\n",
       "      <td>6.421</td>\n",
       "      <td>78.9</td>\n",
       "      <td>4.9671</td>\n",
       "      <td>2.0</td>\n",
       "      <td>242.0</td>\n",
       "      <td>17.8</td>\n",
       "      <td>396.90</td>\n",
       "      <td>9.14</td>\n",
       "      <td>21.6</td>\n",
       "    </tr>\n",
       "    <tr>\n",
       "      <th>2</th>\n",
       "      <td>0.02729</td>\n",
       "      <td>0.0</td>\n",
       "      <td>7.07</td>\n",
       "      <td>0.0</td>\n",
       "      <td>0.469</td>\n",
       "      <td>7.185</td>\n",
       "      <td>61.1</td>\n",
       "      <td>4.9671</td>\n",
       "      <td>2.0</td>\n",
       "      <td>242.0</td>\n",
       "      <td>17.8</td>\n",
       "      <td>392.83</td>\n",
       "      <td>4.03</td>\n",
       "      <td>34.7</td>\n",
       "    </tr>\n",
       "    <tr>\n",
       "      <th>3</th>\n",
       "      <td>0.03237</td>\n",
       "      <td>0.0</td>\n",
       "      <td>2.18</td>\n",
       "      <td>0.0</td>\n",
       "      <td>0.458</td>\n",
       "      <td>6.998</td>\n",
       "      <td>45.8</td>\n",
       "      <td>6.0622</td>\n",
       "      <td>3.0</td>\n",
       "      <td>222.0</td>\n",
       "      <td>18.7</td>\n",
       "      <td>394.63</td>\n",
       "      <td>2.94</td>\n",
       "      <td>33.4</td>\n",
       "    </tr>\n",
       "    <tr>\n",
       "      <th>4</th>\n",
       "      <td>0.06905</td>\n",
       "      <td>0.0</td>\n",
       "      <td>2.18</td>\n",
       "      <td>0.0</td>\n",
       "      <td>0.458</td>\n",
       "      <td>7.147</td>\n",
       "      <td>54.2</td>\n",
       "      <td>6.0622</td>\n",
       "      <td>3.0</td>\n",
       "      <td>222.0</td>\n",
       "      <td>18.7</td>\n",
       "      <td>396.90</td>\n",
       "      <td>5.33</td>\n",
       "      <td>36.2</td>\n",
       "    </tr>\n",
       "  </tbody>\n",
       "</table>\n",
       "</div>"
      ],
      "text/plain": [
       "      CRIM    ZN  INDUS  CHAS    NOX     RM   AGE     DIS  RAD    TAX  \\\n",
       "0  0.00632  18.0   2.31   0.0  0.538  6.575  65.2  4.0900  1.0  296.0   \n",
       "1  0.02731   0.0   7.07   0.0  0.469  6.421  78.9  4.9671  2.0  242.0   \n",
       "2  0.02729   0.0   7.07   0.0  0.469  7.185  61.1  4.9671  2.0  242.0   \n",
       "3  0.03237   0.0   2.18   0.0  0.458  6.998  45.8  6.0622  3.0  222.0   \n",
       "4  0.06905   0.0   2.18   0.0  0.458  7.147  54.2  6.0622  3.0  222.0   \n",
       "\n",
       "   PTRATIO       B  LSTAT  House Price  \n",
       "0     15.3  396.90   4.98         24.0  \n",
       "1     17.8  396.90   9.14         21.6  \n",
       "2     17.8  392.83   4.03         34.7  \n",
       "3     18.7  394.63   2.94         33.4  \n",
       "4     18.7  396.90   5.33         36.2  "
      ]
     },
     "execution_count": 27,
     "metadata": {},
     "output_type": "execute_result"
    }
   ],
   "source": [
    "boston_pd.head()"
   ]
  },
  {
   "cell_type": "code",
   "execution_count": 28,
   "id": "a2463b16-e9fc-4fc9-8255-659c89219d78",
   "metadata": {},
   "outputs": [],
   "source": [
    "#input\n",
    "\n",
    "x = boston_pd.iloc[:,:-1]\n",
    "\n",
    "#output\n",
    "\n",
    "y = boston_pd.iloc[:,-1]"
   ]
  },
  {
   "cell_type": "code",
   "execution_count": 30,
   "id": "959e150d-2a0c-49d0-928f-169c4650a440",
   "metadata": {},
   "outputs": [],
   "source": [
    "# Dividing the dataset into train and test\n",
    "\n",
    "x_train, x_test,y_train,y_test = train_test_split(x,y,test_size=0.25,random_state=4)"
   ]
  },
  {
   "cell_type": "code",
   "execution_count": 31,
   "id": "d1d111b3-caa4-4c24-ada9-11752bd2cf5f",
   "metadata": {},
   "outputs": [
    {
     "data": {
      "text/plain": [
       "((379, 13), (127, 13), (379,), (127,))"
      ]
     },
     "execution_count": 31,
     "metadata": {},
     "output_type": "execute_result"
    }
   ],
   "source": [
    "(x_train.shape,x_test.shape,y_train.shape,y_test.shape)"
   ]
  },
  {
   "cell_type": "code",
   "execution_count": 32,
   "id": "29506ed8-d3c0-47d4-b524-0ecfa77a61a0",
   "metadata": {},
   "outputs": [
    {
     "data": {
      "text/plain": [
       "LinearRegression()"
      ]
     },
     "execution_count": 32,
     "metadata": {},
     "output_type": "execute_result"
    }
   ],
   "source": [
    "# Apply multiple linear regression model\n",
    "\n",
    "lreg = LinearRegression()\n",
    "lreg.fit(x_train,y_train)"
   ]
  },
  {
   "cell_type": "code",
   "execution_count": 33,
   "id": "2e594e4a-1f1f-466b-8e83-9c8b250463b1",
   "metadata": {},
   "outputs": [],
   "source": [
    "#generate prediction on Test Set\n",
    "lreg_y_pred = lreg.predict(x_test)"
   ]
  },
  {
   "cell_type": "code",
   "execution_count": 34,
   "id": "8e61f735-94d4-42ce-bdd2-4db91b924334",
   "metadata": {},
   "outputs": [
    {
     "name": "stdout",
     "output_type": "stream",
     "text": [
      "Mean Squared Error for Linear Regression is  26.95142562423582\n"
     ]
    }
   ],
   "source": [
    "#Calculate the Mean Squared Error\n",
    "\n",
    "mean_squared_error = np.mean((lreg_y_pred-y_test)**2)\n",
    "\n",
    "print(\"Mean Squared Error for Linear Regression is \", mean_squared_error)"
   ]
  },
  {
   "cell_type": "code",
   "execution_count": 35,
   "id": "d092d8c3-df57-4339-be8f-f00319742cce",
   "metadata": {},
   "outputs": [
    {
     "name": "stdout",
     "output_type": "stream",
     "text": [
      "    Columns  Coefficient Estimate\n",
      "0      CRIM             -0.118902\n",
      "1        ZN              0.050569\n",
      "2     INDUS             -0.010743\n",
      "3      CHAS              3.661849\n",
      "4       NOX            -15.295733\n",
      "5        RM              3.393162\n",
      "6       AGE             -0.005912\n",
      "7       DIS             -1.492344\n",
      "8       RAD              0.333696\n",
      "9       TAX             -0.015059\n",
      "10  PTRATIO             -0.869475\n",
      "11        B              0.008806\n",
      "12    LSTAT             -0.492763\n"
     ]
    }
   ],
   "source": [
    "# putting together  the coefficient and their corresponding variable names \n",
    "\n",
    "lreg_coefficient = pd.DataFrame()\n",
    "lreg_coefficient['Columns'] = x_train.columns\n",
    "lreg_coefficient['Coefficient Estimate'] = pd.Series(lreg.coef_)\n",
    "\n",
    "print(lreg_coefficient)"
   ]
  },
  {
   "cell_type": "code",
   "execution_count": 38,
   "id": "b2bde6f8-530f-495f-ab83-e97863164669",
   "metadata": {},
   "outputs": [
    {
     "data": {
      "text/plain": [
       "<AxesSubplot:xlabel='Coefficient Estimate', ylabel='Columns'>"
      ]
     },
     "execution_count": 38,
     "metadata": {},
     "output_type": "execute_result"
    },
    {
     "data": {
      "image/png": "[encoded data removed]",
      "text/plain": [
       "<Figure size 432x288 with 1 Axes>"
      ]
     },
     "metadata": {
      "needs_background": "light"
     },
     "output_type": "display_data"
    }
   ],
   "source": [
    "import seaborn as sns\n",
    "\n",
    "sns.barplot(x='Coefficient Estimate',y='Columns',data=lreg_coefficient)"
   ]
  },
  {
   "cell_type": "code",
   "execution_count": 39,
   "id": "6c47408f-398c-4853-9f9e-124752c7a7c0",
   "metadata": {},
   "outputs": [],
   "source": [
    "# Check with Ridge\n",
    "\n",
    "from sklearn.linear_model import Ridge\n"
   ]
  },
  {
   "cell_type": "code",
   "execution_count": 40,
   "id": "b00d7932-4a7f-4fa1-aeaf-a3f6fb35f0f0",
   "metadata": {},
   "outputs": [],
   "source": [
    "# Train the model \n",
    "\n",
    "ridgeR = Ridge(alpha =0.1)\n",
    "ridgeR.fit(x_train,y_train)\n",
    "y_pred = ridgeR.predict(x_test)"
   ]
  },
  {
   "cell_type": "code",
   "execution_count": 41,
   "id": "0bc33fa7-492d-4ee9-8505-844d4c77f5e7",
   "metadata": {},
   "outputs": [
    {
     "name": "stdout",
     "output_type": "stream",
     "text": [
      "Mean sqaured error for Ridge Regression is  27.021143024914817\n"
     ]
    }
   ],
   "source": [
    "# Calculting the Mean Squared Error for Ridge \n",
    "\n",
    "mean_squared_error_ridge = np.mean((y_pred-y_test)**2)\n",
    "print(\"Mean sqaured error for Ridge Regression is \",mean_squared_error_ridge)"
   ]
  },
  {
   "cell_type": "code",
   "execution_count": 43,
   "id": "9e90c1c8-3651-4b72-9e38-2a60dfe4ad67",
   "metadata": {},
   "outputs": [
    {
     "name": "stdout",
     "output_type": "stream",
     "text": [
      "    Columns  Coefficient Estimate\n",
      "0      CRIM             -0.118340\n",
      "1        ZN              0.050664\n",
      "2     INDUS             -0.016279\n",
      "3      CHAS              3.622296\n",
      "4       NOX            -14.107073\n",
      "5        RM              3.397932\n",
      "6       AGE             -0.006980\n",
      "7       DIS             -1.475193\n",
      "8       RAD              0.331178\n",
      "9       TAX             -0.015143\n",
      "10  PTRATIO             -0.857380\n",
      "11        B              0.008860\n",
      "12    LSTAT             -0.494360\n"
     ]
    }
   ],
   "source": [
    "ridge_coefficient = pd.DataFrame()\n",
    "ridge_coefficient['Columns'] = x_train.columns\n",
    "ridge_coefficient['Coefficient Estimate'] = pd.Series(ridgeR.coef_)\n",
    "\n",
    "print(ridge_coefficient)"
   ]
  },
  {
   "cell_type": "code",
   "execution_count": 44,
   "id": "278b8fc7-a804-4b7b-966c-5fb793e5311b",
   "metadata": {},
   "outputs": [],
   "source": [
    "# Check with Lasso \n",
    "\n",
    "from sklearn.linear_model import Lasso\n"
   ]
  },
  {
   "cell_type": "code",
   "execution_count": 45,
   "id": "3d01b207-b651-473b-81cc-0821d8158688",
   "metadata": {},
   "outputs": [],
   "source": [
    "# Train the model\n",
    "\n",
    "lassoR = Lasso(alpha =0.1)\n",
    "lassoR.fit(x_train,y_train)\n",
    "y_pred = lassoR.predict(x_test)"
   ]
  },
  {
   "cell_type": "code",
   "execution_count": 46,
   "id": "ccec338e-2a26-4537-a811-306a66c96a58",
   "metadata": {},
   "outputs": [
    {
     "name": "stdout",
     "output_type": "stream",
     "text": [
      "Mean sqaured error for Lasso Regression is  28.424573542223296\n"
     ]
    }
   ],
   "source": [
    "# Calculate the mean squared error with Lasso\n",
    "\n",
    "mean_squared_error_lasso = np.mean((y_pred-y_test)**2)\n",
    "print(\"Mean sqaured error for Lasso Regression is \",mean_squared_error_lasso)"
   ]
  },
  {
   "cell_type": "code",
   "execution_count": 47,
   "id": "4d06fd28-e83b-4e70-9be6-e5df3f1c1f1b",
   "metadata": {},
   "outputs": [
    {
     "name": "stdout",
     "output_type": "stream",
     "text": [
      "    Columns  Coefficient Estimate\n",
      "0      CRIM             -0.110870\n",
      "1        ZN              0.051777\n",
      "2     INDUS             -0.066433\n",
      "3      CHAS              1.476784\n",
      "4       NOX             -0.000000\n",
      "5        RM              3.255138\n",
      "6       AGE             -0.014520\n",
      "7       DIS             -1.213800\n",
      "8       RAD              0.312164\n",
      "9       TAX             -0.016815\n",
      "10  PTRATIO             -0.721543\n",
      "11        B              0.009561\n",
      "12    LSTAT             -0.536189\n"
     ]
    }
   ],
   "source": [
    "lasso_coefficient = pd.DataFrame()\n",
    "lasso_coefficient['Columns'] = x_train.columns\n",
    "lasso_coefficient['Coefficient Estimate'] = pd.Series(lassoR.coef_)\n",
    "\n",
    "print(lasso_coefficient)\n"
   ]
  },
  {
   "cell_type": "code",
   "execution_count": 48,
   "id": "99224a34-c1e3-4b1f-8ceb-b8de95348a90",
   "metadata": {},
   "outputs": [],
   "source": [
    "# check with elastic Net \n",
    "\n",
    "from sklearn.linear_model import ElasticNet"
   ]
  },
  {
   "cell_type": "code",
   "execution_count": 50,
   "id": "6fd13c14-ec03-4dcc-a4e2-45443799321c",
   "metadata": {},
   "outputs": [],
   "source": [
    "\n",
    "#Train the model \n",
    "e_net = ElasticNet(alpha = .01, l1_ratio=0.3)\n",
    "e_net.fit(x_train,y_train)\n",
    "y_pred = e_net.predict(x_test)"
   ]
  },
  {
   "cell_type": "code",
   "execution_count": 51,
   "id": "2f7e1f4f-8f87-4100-ae19-4d4b919c7f50",
   "metadata": {},
   "outputs": [
    {
     "name": "stdout",
     "output_type": "stream",
     "text": [
      "Mean sqaured error for Elastic Net Regression is  27.860131296081555\n"
     ]
    }
   ],
   "source": [
    "# Calculate the mean squared error with Lasso\n",
    "\n",
    "mean_squared_error_e_net = np.mean((y_pred-y_test)**2)\n",
    "print(\"Mean sqaured error for Elastic Net Regression is \",mean_squared_error_e_net)"
   ]
  },
  {
   "cell_type": "code",
   "execution_count": 52,
   "id": "c4907426-3088-4876-a419-84f9cf7b0ab3",
   "metadata": {},
   "outputs": [
    {
     "name": "stdout",
     "output_type": "stream",
     "text": [
      "    Columns  Coefficient Estimate\n",
      "0      CRIM             -0.114201\n",
      "1        ZN              0.051656\n",
      "2     INDUS             -0.060207\n",
      "3      CHAS              3.005555\n",
      "4       NOX             -4.398617\n",
      "5        RM              3.382665\n",
      "6       AGE             -0.014888\n",
      "7       DIS             -1.332536\n",
      "8       RAD              0.314173\n",
      "9       TAX             -0.015979\n",
      "10  PTRATIO             -0.762946\n",
      "11        B              0.009314\n",
      "12    LSTAT             -0.512547\n"
     ]
    }
   ],
   "source": [
    "e_net_coefficient = pd.DataFrame()\n",
    "e_net_coefficient['Columns'] = x_train.columns\n",
    "e_net_coefficient['Coefficient Estimate'] = pd.Series(e_net.coef_)\n",
    "\n",
    "print(e_net_coefficient)"
   ]
  },
  {
   "cell_type": "code",
   "execution_count": null,
   "id": "632fd0ef-6261-4444-b799-f19e710096bf",
   "metadata": {},
   "outputs": [],
   "source": []
  }
 ],
 "metadata": {
  "kernelspec": {
   "display_name": "Python 3",
   "language": "python",
   "name": "python3"
  },
  "language_info": {
   "codemirror_mode": {
    "name": "ipython",
    "version": 3
   },
   "file_extension": ".py",
   "mimetype": "text/x-python",
   "name": "python",
   "nbconvert_exporter": "python",
   "pygments_lexer": "ipython3",
   "version": "3.8.8"
  }
 },
 "nbformat": 4,
 "nbformat_minor": 5
}

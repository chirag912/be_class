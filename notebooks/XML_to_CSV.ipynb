{
 "cells": [
  {
   "cell_type": "code",
   "execution_count": 2,
   "id": "7cfec47c-6381-4cd3-bddf-c9d2ad3abd3c",
   "metadata": {},
   "outputs": [],
   "source": [
    "#importing the Libraries\n",
    "\n",
    "import glob\n",
    "import csv\n",
    "\n",
    "from bs4 import BeautifulSoup\n"
   ]
  },
  {
   "cell_type": "code",
   "execution_count": 7,
   "id": "0b82cb04-874e-40f0-b29c-b09409a2b2a4",
   "metadata": {},
   "outputs": [],
   "source": [
    "#Create and Define CSV variables\n",
    "\n",
    "csv_file = open('D:/work1/Tutorac/XML_To_CSV/scrape.csv','w')\n",
    "first_line = [\"filename\",\"width\",\"height\",\"class\",\"xmin\",\"ymin\",\"xmax\",\"ymax\",\"source\"]\n"
   ]
  },
  {
   "cell_type": "code",
   "execution_count": 8,
   "id": "63d6ee0e-e659-4f18-90d2-786fd18026b2",
   "metadata": {},
   "outputs": [
    {
     "data": {
      "text/plain": [
       "56"
      ]
     },
     "execution_count": 8,
     "metadata": {},
     "output_type": "execute_result"
    }
   ],
   "source": [
    "#CSV writer \n",
    "\n",
    "csv_writer = csv.writer(csv_file)\n",
    "csv_writer.writerow(first_line)"
   ]
  },
  {
   "cell_type": "code",
   "execution_count": 10,
   "id": "5c3c27e9-94cb-4690-8c1d-90ab9c4833c5",
   "metadata": {},
   "outputs": [],
   "source": [
    "# Crteating a User Defined function fro fetching the text from XML files.\n",
    "\n",
    "def handle_soup(soup,csv_writer):\n",
    "    filename = soup.find('filename').text\n",
    "    print(filename)\n",
    "    \n",
    "    width = soup.find('width').text\n",
    "    \n",
    "    height = soup.find('height').text\n",
    "    \n",
    "    class1 = soup.find('name').text\n",
    "    \n",
    "    xmin = soup.find('xmin').text\n",
    "    \n",
    "    ymin = soup.find('ymin').text\n",
    "    \n",
    "    xmax = soup.find('xmax').text\n",
    "    \n",
    "    ymax = soup.find('ymax').text\n",
    "    \n",
    "    source = soup.find('source').text\n",
    "    \n",
    "    csv_writer.writerow([filename,width,height,class1,xmin,ymin,xmax,ymax,source])"
   ]
  },
  {
   "cell_type": "code",
   "execution_count": 14,
   "id": "c30c449a-b05e-41dc-a0e6-a4c581a811c3",
   "metadata": {},
   "outputs": [],
   "source": [
    "#Using glob to extract all the XML files\n",
    "\n",
    "\n",
    "for filename in glob.glob(\"D:/work1/Tutorac/XML_To_CSV/*.xml\"):\n",
    "    with open(filename) as open_file:\n",
    "        content = open_file.read()\n",
    "        soup = BeautifulSoup(content,'lxml')\n",
    "        handle_soup(soup,csv_writer)\n",
    "        \n"
   ]
  },
  {
   "cell_type": "code",
   "execution_count": 16,
   "id": "76e8cd23-e724-427a-8fd9-25d141dc20e0",
   "metadata": {},
   "outputs": [],
   "source": [
    "csv_file.close()"
   ]
  },
  {
   "cell_type": "code",
   "execution_count": null,
   "id": "e6fa754c-3b9f-4a1c-a081-09a3e6d70fb7",
   "metadata": {},
   "outputs": [],
   "source": []
  }
 ],
 "metadata": {
  "kernelspec": {
   "display_name": "Python 3",
   "language": "python",
   "name": "python3"
  },
  "language_info": {
   "codemirror_mode": {
    "name": "ipython",
    "version": 3
   },
   "file_extension": ".py",
   "mimetype": "text/x-python",
   "name": "python",
   "nbconvert_exporter": "python",
   "pygments_lexer": "ipython3",
   "version": "3.8.8"
  }
 },
 "nbformat": 4,
 "nbformat_minor": 5
}

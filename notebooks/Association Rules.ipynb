{
 "cells": [
  {
   "cell_type": "markdown",
   "metadata": {
    "id": "fpP7kKdGbJoN"
   },
   "source": [
    "# Import libraries "
   ]
  },
  {
   "cell_type": "code",
   "execution_count": 3,
   "metadata": {},
   "outputs": [
    {
     "name": "stdout",
     "output_type": "stream",
     "text": [
      "Collecting mlxtend\n",
      "  Downloading mlxtend-0.19.0-py2.py3-none-any.whl (1.3 MB)\n",
      "Requirement already satisfied: numpy>=1.16.2 in c:\\users\\chira\\anaconda3\\lib\\site-packages (from mlxtend) (1.20.1)\n",
      "Requirement already satisfied: joblib>=0.13.2 in c:\\users\\chira\\anaconda3\\lib\\site-packages (from mlxtend) (1.0.1)\n",
      "Requirement already satisfied: matplotlib>=3.0.0 in c:\\users\\chira\\anaconda3\\lib\\site-packages (from mlxtend) (3.3.4)\n",
      "Requirement already satisfied: scikit-learn>=0.20.3 in c:\\users\\chira\\anaconda3\\lib\\site-packages (from mlxtend) (0.24.1)\n",
      "Requirement already satisfied: scipy>=1.2.1 in c:\\users\\chira\\anaconda3\\lib\\site-packages (from mlxtend) (1.6.2)\n",
      "Requirement already satisfied: setuptools in c:\\users\\chira\\anaconda3\\lib\\site-packages (from mlxtend) (52.0.0.post20210125)\n",
      "Requirement already satisfied: pandas>=0.24.2 in c:\\users\\chira\\anaconda3\\lib\\site-packages (from mlxtend) (1.2.4)\n",
      "Requirement already satisfied: python-dateutil>=2.1 in c:\\users\\chira\\anaconda3\\lib\\site-packages (from matplotlib>=3.0.0->mlxtend) (2.8.1)\n",
      "Requirement already satisfied: cycler>=0.10 in c:\\users\\chira\\anaconda3\\lib\\site-packages (from matplotlib>=3.0.0->mlxtend) (0.10.0)\n",
      "Requirement already satisfied: pyparsing!=2.0.4,!=2.1.2,!=2.1.6,>=2.0.3 in c:\\users\\chira\\anaconda3\\lib\\site-packages (from matplotlib>=3.0.0->mlxtend) (2.4.7)\n",
      "Requirement already satisfied: kiwisolver>=1.0.1 in c:\\users\\chira\\anaconda3\\lib\\site-packages (from matplotlib>=3.0.0->mlxtend) (1.3.1)\n",
      "Requirement already satisfied: pillow>=6.2.0 in c:\\users\\chira\\anaconda3\\lib\\site-packages (from matplotlib>=3.0.0->mlxtend) (8.2.0)\n",
      "Requirement already satisfied: six in c:\\users\\chira\\anaconda3\\lib\\site-packages (from cycler>=0.10->matplotlib>=3.0.0->mlxtend) (1.15.0)\n",
      "Requirement already satisfied: pytz>=2017.3 in c:\\users\\chira\\anaconda3\\lib\\site-packages (from pandas>=0.24.2->mlxtend) (2021.1)\n",
      "Requirement already satisfied: threadpoolctl>=2.0.0 in c:\\users\\chira\\anaconda3\\lib\\site-packages (from scikit-learn>=0.20.3->mlxtend) (2.1.0)\n",
      "Installing collected packages: mlxtend\n",
      "Successfully installed mlxtend-0.19.0\n"
     ]
    }
   ],
   "source": [
    "!pip install mlxtend"
   ]
  },
  {
   "cell_type": "code",
   "execution_count": 2,
   "metadata": {
    "colab": {
     "base_uri": "https://localhost:8080/"
    },
    "executionInfo": {
     "elapsed": 3137,
     "status": "ok",
     "timestamp": 1624765059177,
     "user": {
      "displayName": "Jaspal Singh Jhass",
      "photoUrl": "",
      "userId": "14870781376371902378"
     },
     "user_tz": -330
    },
    "id": "fl6W-NcMbJoX",
    "outputId": "cc43d24f-c1eb-40c8-fe85-052c7b231e97"
   },
   "outputs": [],
   "source": [
    "import pandas as pd\n",
    "from mlxtend.frequent_patterns import apriori,association_rules\n",
    "from mlxtend.preprocessing import TransactionEncoder\n"
   ]
  },
  {
   "cell_type": "code",
   "execution_count": 3,
   "metadata": {
    "colab": {
     "base_uri": "https://localhost:8080/",
     "height": 417
    },
    "executionInfo": {
     "elapsed": 28,
     "status": "ok",
     "timestamp": 1624765059178,
     "user": {
      "displayName": "Jaspal Singh Jhass",
      "photoUrl": "",
      "userId": "14870781376371902378"
     },
     "user_tz": -330
    },
    "id": "qeHH6kPubJoY",
    "outputId": "dad3ac94-7bb2-4d43-b62e-f7285ca55959"
   },
   "outputs": [
    {
     "data": {
      "text/html": [
       "<div>\n",
       "<style scoped>\n",
       "    .dataframe tbody tr th:only-of-type {\n",
       "        vertical-align: middle;\n",
       "    }\n",
       "\n",
       "    .dataframe tbody tr th {\n",
       "        vertical-align: top;\n",
       "    }\n",
       "\n",
       "    .dataframe thead th {\n",
       "        text-align: right;\n",
       "    }\n",
       "</style>\n",
       "<table border=\"1\" class=\"dataframe\">\n",
       "  <thead>\n",
       "    <tr style=\"text-align: right;\">\n",
       "      <th></th>\n",
       "      <th>Class</th>\n",
       "      <th>Gender</th>\n",
       "      <th>Age</th>\n",
       "      <th>Survived</th>\n",
       "    </tr>\n",
       "  </thead>\n",
       "  <tbody>\n",
       "    <tr>\n",
       "      <th>0</th>\n",
       "      <td>3rd</td>\n",
       "      <td>Male</td>\n",
       "      <td>Child</td>\n",
       "      <td>No</td>\n",
       "    </tr>\n",
       "    <tr>\n",
       "      <th>1</th>\n",
       "      <td>3rd</td>\n",
       "      <td>Male</td>\n",
       "      <td>Child</td>\n",
       "      <td>No</td>\n",
       "    </tr>\n",
       "    <tr>\n",
       "      <th>2</th>\n",
       "      <td>3rd</td>\n",
       "      <td>Male</td>\n",
       "      <td>Child</td>\n",
       "      <td>No</td>\n",
       "    </tr>\n",
       "    <tr>\n",
       "      <th>3</th>\n",
       "      <td>3rd</td>\n",
       "      <td>Male</td>\n",
       "      <td>Child</td>\n",
       "      <td>No</td>\n",
       "    </tr>\n",
       "    <tr>\n",
       "      <th>4</th>\n",
       "      <td>3rd</td>\n",
       "      <td>Male</td>\n",
       "      <td>Child</td>\n",
       "      <td>No</td>\n",
       "    </tr>\n",
       "    <tr>\n",
       "      <th>...</th>\n",
       "      <td>...</td>\n",
       "      <td>...</td>\n",
       "      <td>...</td>\n",
       "      <td>...</td>\n",
       "    </tr>\n",
       "    <tr>\n",
       "      <th>2196</th>\n",
       "      <td>Crew</td>\n",
       "      <td>Female</td>\n",
       "      <td>Adult</td>\n",
       "      <td>Yes</td>\n",
       "    </tr>\n",
       "    <tr>\n",
       "      <th>2197</th>\n",
       "      <td>Crew</td>\n",
       "      <td>Female</td>\n",
       "      <td>Adult</td>\n",
       "      <td>Yes</td>\n",
       "    </tr>\n",
       "    <tr>\n",
       "      <th>2198</th>\n",
       "      <td>Crew</td>\n",
       "      <td>Female</td>\n",
       "      <td>Adult</td>\n",
       "      <td>Yes</td>\n",
       "    </tr>\n",
       "    <tr>\n",
       "      <th>2199</th>\n",
       "      <td>Crew</td>\n",
       "      <td>Female</td>\n",
       "      <td>Adult</td>\n",
       "      <td>Yes</td>\n",
       "    </tr>\n",
       "    <tr>\n",
       "      <th>2200</th>\n",
       "      <td>Crew</td>\n",
       "      <td>Female</td>\n",
       "      <td>Adult</td>\n",
       "      <td>Yes</td>\n",
       "    </tr>\n",
       "  </tbody>\n",
       "</table>\n",
       "<p>2201 rows × 4 columns</p>\n",
       "</div>"
      ],
      "text/plain": [
       "     Class  Gender    Age Survived\n",
       "0      3rd    Male  Child       No\n",
       "1      3rd    Male  Child       No\n",
       "2      3rd    Male  Child       No\n",
       "3      3rd    Male  Child       No\n",
       "4      3rd    Male  Child       No\n",
       "...    ...     ...    ...      ...\n",
       "2196  Crew  Female  Adult      Yes\n",
       "2197  Crew  Female  Adult      Yes\n",
       "2198  Crew  Female  Adult      Yes\n",
       "2199  Crew  Female  Adult      Yes\n",
       "2200  Crew  Female  Adult      Yes\n",
       "\n",
       "[2201 rows x 4 columns]"
      ]
     },
     "execution_count": 3,
     "metadata": {},
     "output_type": "execute_result"
    }
   ],
   "source": [
    "titanic = pd.read_csv(\"C:/Users/chira/Downloads/Titanic.csv\")\n",
    "titanic\n",
    "\n"
   ]
  },
  {
   "cell_type": "markdown",
   "metadata": {
    "id": "40y3B1A0bJoY"
   },
   "source": [
    "# Pre-Processing\n",
    "As the data is not in transaction formation \n",
    "We are using transaction Encoder"
   ]
  },
  {
   "cell_type": "code",
   "execution_count": 4,
   "metadata": {
    "colab": {
     "base_uri": "https://localhost:8080/",
     "height": 203
    },
    "executionInfo": {
     "elapsed": 25,
     "status": "ok",
     "timestamp": 1624765059179,
     "user": {
      "displayName": "Jaspal Singh Jhass",
      "photoUrl": "",
      "userId": "14870781376371902378"
     },
     "user_tz": -330
    },
    "id": "pZ067yRcbJoZ",
    "outputId": "5eb09a48-00e5-4e54-b21b-7a703fa316b4"
   },
   "outputs": [
    {
     "data": {
      "text/html": [
       "<div>\n",
       "<style scoped>\n",
       "    .dataframe tbody tr th:only-of-type {\n",
       "        vertical-align: middle;\n",
       "    }\n",
       "\n",
       "    .dataframe tbody tr th {\n",
       "        vertical-align: top;\n",
       "    }\n",
       "\n",
       "    .dataframe thead th {\n",
       "        text-align: right;\n",
       "    }\n",
       "</style>\n",
       "<table border=\"1\" class=\"dataframe\">\n",
       "  <thead>\n",
       "    <tr style=\"text-align: right;\">\n",
       "      <th></th>\n",
       "      <th>Class_1st</th>\n",
       "      <th>Class_2nd</th>\n",
       "      <th>Class_3rd</th>\n",
       "      <th>Class_Crew</th>\n",
       "      <th>Gender_Female</th>\n",
       "      <th>Gender_Male</th>\n",
       "      <th>Age_Adult</th>\n",
       "      <th>Age_Child</th>\n",
       "      <th>Survived_No</th>\n",
       "      <th>Survived_Yes</th>\n",
       "    </tr>\n",
       "  </thead>\n",
       "  <tbody>\n",
       "    <tr>\n",
       "      <th>0</th>\n",
       "      <td>0</td>\n",
       "      <td>0</td>\n",
       "      <td>1</td>\n",
       "      <td>0</td>\n",
       "      <td>0</td>\n",
       "      <td>1</td>\n",
       "      <td>0</td>\n",
       "      <td>1</td>\n",
       "      <td>1</td>\n",
       "      <td>0</td>\n",
       "    </tr>\n",
       "    <tr>\n",
       "      <th>1</th>\n",
       "      <td>0</td>\n",
       "      <td>0</td>\n",
       "      <td>1</td>\n",
       "      <td>0</td>\n",
       "      <td>0</td>\n",
       "      <td>1</td>\n",
       "      <td>0</td>\n",
       "      <td>1</td>\n",
       "      <td>1</td>\n",
       "      <td>0</td>\n",
       "    </tr>\n",
       "    <tr>\n",
       "      <th>2</th>\n",
       "      <td>0</td>\n",
       "      <td>0</td>\n",
       "      <td>1</td>\n",
       "      <td>0</td>\n",
       "      <td>0</td>\n",
       "      <td>1</td>\n",
       "      <td>0</td>\n",
       "      <td>1</td>\n",
       "      <td>1</td>\n",
       "      <td>0</td>\n",
       "    </tr>\n",
       "    <tr>\n",
       "      <th>3</th>\n",
       "      <td>0</td>\n",
       "      <td>0</td>\n",
       "      <td>1</td>\n",
       "      <td>0</td>\n",
       "      <td>0</td>\n",
       "      <td>1</td>\n",
       "      <td>0</td>\n",
       "      <td>1</td>\n",
       "      <td>1</td>\n",
       "      <td>0</td>\n",
       "    </tr>\n",
       "    <tr>\n",
       "      <th>4</th>\n",
       "      <td>0</td>\n",
       "      <td>0</td>\n",
       "      <td>1</td>\n",
       "      <td>0</td>\n",
       "      <td>0</td>\n",
       "      <td>1</td>\n",
       "      <td>0</td>\n",
       "      <td>1</td>\n",
       "      <td>1</td>\n",
       "      <td>0</td>\n",
       "    </tr>\n",
       "  </tbody>\n",
       "</table>\n",
       "</div>"
      ],
      "text/plain": [
       "   Class_1st  Class_2nd  Class_3rd  Class_Crew  Gender_Female  Gender_Male  \\\n",
       "0          0          0          1           0              0            1   \n",
       "1          0          0          1           0              0            1   \n",
       "2          0          0          1           0              0            1   \n",
       "3          0          0          1           0              0            1   \n",
       "4          0          0          1           0              0            1   \n",
       "\n",
       "   Age_Adult  Age_Child  Survived_No  Survived_Yes  \n",
       "0          0          1            1             0  \n",
       "1          0          1            1             0  \n",
       "2          0          1            1             0  \n",
       "3          0          1            1             0  \n",
       "4          0          1            1             0  "
      ]
     },
     "execution_count": 4,
     "metadata": {},
     "output_type": "execute_result"
    }
   ],
   "source": [
    "df=pd.get_dummies(titanic)\n",
    "df.head()\n",
    "\n",
    "\n",
    "\n"
   ]
  },
  {
   "cell_type": "markdown",
   "metadata": {
    "id": "JxZKcTqAbJoZ"
   },
   "source": [
    "# Apriori Algorithm "
   ]
  },
  {
   "cell_type": "code",
   "execution_count": 45,
   "metadata": {
    "colab": {
     "base_uri": "https://localhost:8080/",
     "height": 1000
    },
    "executionInfo": {
     "elapsed": 23,
     "status": "ok",
     "timestamp": 1624765059180,
     "user": {
      "displayName": "Jaspal Singh Jhass",
      "photoUrl": "",
      "userId": "14870781376371902378"
     },
     "user_tz": -330
    },
    "id": "3s6vFM_nbJoa",
    "outputId": "ec2b4151-3e8c-4226-ff4f-9a54ec95b6b4"
   },
   "outputs": [
    {
     "data": {
      "text/html": [
       "<div>\n",
       "<style scoped>\n",
       "    .dataframe tbody tr th:only-of-type {\n",
       "        vertical-align: middle;\n",
       "    }\n",
       "\n",
       "    .dataframe tbody tr th {\n",
       "        vertical-align: top;\n",
       "    }\n",
       "\n",
       "    .dataframe thead th {\n",
       "        text-align: right;\n",
       "    }\n",
       "</style>\n",
       "<table border=\"1\" class=\"dataframe\">\n",
       "  <thead>\n",
       "    <tr style=\"text-align: right;\">\n",
       "      <th></th>\n",
       "      <th>support</th>\n",
       "      <th>itemsets</th>\n",
       "    </tr>\n",
       "  </thead>\n",
       "  <tbody>\n",
       "    <tr>\n",
       "      <th>0</th>\n",
       "      <td>0.786461</td>\n",
       "      <td>(Gender_Male)</td>\n",
       "    </tr>\n",
       "    <tr>\n",
       "      <th>1</th>\n",
       "      <td>0.950477</td>\n",
       "      <td>(Age_Adult)</td>\n",
       "    </tr>\n",
       "    <tr>\n",
       "      <th>2</th>\n",
       "      <td>0.676965</td>\n",
       "      <td>(Survived_No)</td>\n",
       "    </tr>\n",
       "    <tr>\n",
       "      <th>3</th>\n",
       "      <td>0.757383</td>\n",
       "      <td>(Gender_Male, Age_Adult)</td>\n",
       "    </tr>\n",
       "    <tr>\n",
       "      <th>4</th>\n",
       "      <td>0.619718</td>\n",
       "      <td>(Gender_Male, Survived_No)</td>\n",
       "    </tr>\n",
       "    <tr>\n",
       "      <th>5</th>\n",
       "      <td>0.653339</td>\n",
       "      <td>(Age_Adult, Survived_No)</td>\n",
       "    </tr>\n",
       "    <tr>\n",
       "      <th>6</th>\n",
       "      <td>0.603816</td>\n",
       "      <td>(Gender_Male, Age_Adult, Survived_No)</td>\n",
       "    </tr>\n",
       "  </tbody>\n",
       "</table>\n",
       "</div>"
      ],
      "text/plain": [
       "    support                               itemsets\n",
       "0  0.786461                          (Gender_Male)\n",
       "1  0.950477                            (Age_Adult)\n",
       "2  0.676965                          (Survived_No)\n",
       "3  0.757383               (Gender_Male, Age_Adult)\n",
       "4  0.619718             (Gender_Male, Survived_No)\n",
       "5  0.653339               (Age_Adult, Survived_No)\n",
       "6  0.603816  (Gender_Male, Age_Adult, Survived_No)"
      ]
     },
     "execution_count": 45,
     "metadata": {},
     "output_type": "execute_result"
    }
   ],
   "source": [
    "frequent_itemsets = apriori(df, min_support=0.6, use_colnames=True)\n",
    "frequent_itemsets"
   ]
  },
  {
   "cell_type": "code",
   "execution_count": 5,
   "metadata": {
    "colab": {
     "base_uri": "https://localhost:8080/",
     "height": 467
    },
    "executionInfo": {
     "elapsed": 20,
     "status": "ok",
     "timestamp": 1624765059180,
     "user": {
      "displayName": "Jaspal Singh Jhass",
      "photoUrl": "",
      "userId": "14870781376371902378"
     },
     "user_tz": -330
    },
    "id": "nbaeotAcbJoa",
    "outputId": "1901c33a-51c8-4ddc-e17e-cb5bebf98438"
   },
   "outputs": [
    {
     "ename": "NameError",
     "evalue": "name 'frequent_itemsets' is not defined",
     "output_type": "error",
     "traceback": [
      "\u001b[1;31m---------------------------------------------------------------------------\u001b[0m",
      "\u001b[1;31mNameError\u001b[0m                                 Traceback (most recent call last)",
      "\u001b[1;32m<ipython-input-5-2639c61db0d8>\u001b[0m in \u001b[0;36m<module>\u001b[1;34m\u001b[0m\n\u001b[1;32m----> 1\u001b[1;33m \u001b[0mrules\u001b[0m \u001b[1;33m=\u001b[0m \u001b[0massociation_rules\u001b[0m\u001b[1;33m(\u001b[0m\u001b[0mfrequent_itemsets\u001b[0m\u001b[1;33m,\u001b[0m \u001b[0mmetric\u001b[0m\u001b[1;33m=\u001b[0m\u001b[1;34m\"lift\"\u001b[0m\u001b[1;33m,\u001b[0m \u001b[0mmin_threshold\u001b[0m\u001b[1;33m=\u001b[0m\u001b[1;36m1\u001b[0m\u001b[1;33m)\u001b[0m\u001b[1;33m\u001b[0m\u001b[1;33m\u001b[0m\u001b[0m\n\u001b[0m\u001b[0;32m      2\u001b[0m \u001b[0mrules\u001b[0m\u001b[1;33m\u001b[0m\u001b[1;33m\u001b[0m\u001b[0m\n\u001b[0;32m      3\u001b[0m \u001b[0mrules\u001b[0m\u001b[1;33m.\u001b[0m\u001b[0msort_values\u001b[0m\u001b[1;33m(\u001b[0m\u001b[1;34m'lift'\u001b[0m\u001b[1;33m,\u001b[0m\u001b[0mascending\u001b[0m \u001b[1;33m=\u001b[0m \u001b[1;32mFalse\u001b[0m\u001b[1;33m)\u001b[0m\u001b[1;33m\u001b[0m\u001b[1;33m\u001b[0m\u001b[0m\n",
      "\u001b[1;31mNameError\u001b[0m: name 'frequent_itemsets' is not defined"
     ]
    }
   ],
   "source": [
    "rules = association_rules(frequent_itemsets, metric=\"lift\", min_threshold=1)\n",
    "rules\n",
    "rules.sort_values('lift',ascending = False)"
   ]
  },
  {
   "cell_type": "markdown",
   "metadata": {
    "id": "aFuVeTacbJoa"
   },
   "source": [
    "#####  An leverage value of 0 indicates independence. Range will be [-1 1]\n",
    "A high conviction value means that the consequent is highly depending on the antecedent and range [0 inf]"
   ]
  },
  {
   "cell_type": "code",
   "execution_count": 47,
   "metadata": {
    "colab": {
     "base_uri": "https://localhost:8080/",
     "height": 749
    },
    "executionInfo": {
     "elapsed": 19,
     "status": "ok",
     "timestamp": 1624765059181,
     "user": {
      "displayName": "Jaspal Singh Jhass",
      "photoUrl": "",
      "userId": "14870781376371902378"
     },
     "user_tz": -330
    },
    "id": "PiJ0wRgmbJob",
    "outputId": "0c806ea8-de47-47b5-80a5-4666d29c1572"
   },
   "outputs": [
    {
     "data": {
      "text/html": [
       "<div>\n",
       "<style scoped>\n",
       "    .dataframe tbody tr th:only-of-type {\n",
       "        vertical-align: middle;\n",
       "    }\n",
       "\n",
       "    .dataframe tbody tr th {\n",
       "        vertical-align: top;\n",
       "    }\n",
       "\n",
       "    .dataframe thead th {\n",
       "        text-align: right;\n",
       "    }\n",
       "</style>\n",
       "<table border=\"1\" class=\"dataframe\">\n",
       "  <thead>\n",
       "    <tr style=\"text-align: right;\">\n",
       "      <th></th>\n",
       "      <th>antecedents</th>\n",
       "      <th>consequents</th>\n",
       "      <th>antecedent support</th>\n",
       "      <th>consequent support</th>\n",
       "      <th>support</th>\n",
       "      <th>confidence</th>\n",
       "      <th>lift</th>\n",
       "      <th>leverage</th>\n",
       "      <th>conviction</th>\n",
       "    </tr>\n",
       "  </thead>\n",
       "  <tbody>\n",
       "    <tr>\n",
       "      <th>6</th>\n",
       "      <td>(Gender_Male, Age_Adult)</td>\n",
       "      <td>(Survived_No)</td>\n",
       "      <td>0.757383</td>\n",
       "      <td>0.676965</td>\n",
       "      <td>0.603816</td>\n",
       "      <td>0.797241</td>\n",
       "      <td>1.177669</td>\n",
       "      <td>0.091095</td>\n",
       "      <td>1.593193</td>\n",
       "    </tr>\n",
       "    <tr>\n",
       "      <th>11</th>\n",
       "      <td>(Survived_No)</td>\n",
       "      <td>(Gender_Male, Age_Adult)</td>\n",
       "      <td>0.676965</td>\n",
       "      <td>0.757383</td>\n",
       "      <td>0.603816</td>\n",
       "      <td>0.891946</td>\n",
       "      <td>1.177669</td>\n",
       "      <td>0.091095</td>\n",
       "      <td>2.245337</td>\n",
       "    </tr>\n",
       "    <tr>\n",
       "      <th>8</th>\n",
       "      <td>(Age_Adult, Survived_No)</td>\n",
       "      <td>(Gender_Male)</td>\n",
       "      <td>0.653339</td>\n",
       "      <td>0.786461</td>\n",
       "      <td>0.603816</td>\n",
       "      <td>0.924200</td>\n",
       "      <td>1.175139</td>\n",
       "      <td>0.089991</td>\n",
       "      <td>2.817152</td>\n",
       "    </tr>\n",
       "    <tr>\n",
       "      <th>9</th>\n",
       "      <td>(Gender_Male)</td>\n",
       "      <td>(Age_Adult, Survived_No)</td>\n",
       "      <td>0.786461</td>\n",
       "      <td>0.653339</td>\n",
       "      <td>0.603816</td>\n",
       "      <td>0.767764</td>\n",
       "      <td>1.175139</td>\n",
       "      <td>0.089991</td>\n",
       "      <td>1.492710</td>\n",
       "    </tr>\n",
       "    <tr>\n",
       "      <th>2</th>\n",
       "      <td>(Gender_Male)</td>\n",
       "      <td>(Survived_No)</td>\n",
       "      <td>0.786461</td>\n",
       "      <td>0.676965</td>\n",
       "      <td>0.619718</td>\n",
       "      <td>0.787984</td>\n",
       "      <td>1.163995</td>\n",
       "      <td>0.087312</td>\n",
       "      <td>1.523634</td>\n",
       "    </tr>\n",
       "    <tr>\n",
       "      <th>3</th>\n",
       "      <td>(Survived_No)</td>\n",
       "      <td>(Gender_Male)</td>\n",
       "      <td>0.676965</td>\n",
       "      <td>0.786461</td>\n",
       "      <td>0.619718</td>\n",
       "      <td>0.915436</td>\n",
       "      <td>1.163995</td>\n",
       "      <td>0.087312</td>\n",
       "      <td>2.525187</td>\n",
       "    </tr>\n",
       "    <tr>\n",
       "      <th>7</th>\n",
       "      <td>(Gender_Male, Survived_No)</td>\n",
       "      <td>(Age_Adult)</td>\n",
       "      <td>0.619718</td>\n",
       "      <td>0.950477</td>\n",
       "      <td>0.603816</td>\n",
       "      <td>0.974340</td>\n",
       "      <td>1.025106</td>\n",
       "      <td>0.014788</td>\n",
       "      <td>1.929980</td>\n",
       "    </tr>\n",
       "    <tr>\n",
       "      <th>10</th>\n",
       "      <td>(Age_Adult)</td>\n",
       "      <td>(Gender_Male, Survived_No)</td>\n",
       "      <td>0.950477</td>\n",
       "      <td>0.619718</td>\n",
       "      <td>0.603816</td>\n",
       "      <td>0.635277</td>\n",
       "      <td>1.025106</td>\n",
       "      <td>0.014788</td>\n",
       "      <td>1.042660</td>\n",
       "    </tr>\n",
       "    <tr>\n",
       "      <th>4</th>\n",
       "      <td>(Age_Adult)</td>\n",
       "      <td>(Survived_No)</td>\n",
       "      <td>0.950477</td>\n",
       "      <td>0.676965</td>\n",
       "      <td>0.653339</td>\n",
       "      <td>0.687380</td>\n",
       "      <td>1.015386</td>\n",
       "      <td>0.009900</td>\n",
       "      <td>1.033317</td>\n",
       "    </tr>\n",
       "    <tr>\n",
       "      <th>5</th>\n",
       "      <td>(Survived_No)</td>\n",
       "      <td>(Age_Adult)</td>\n",
       "      <td>0.676965</td>\n",
       "      <td>0.950477</td>\n",
       "      <td>0.653339</td>\n",
       "      <td>0.965101</td>\n",
       "      <td>1.015386</td>\n",
       "      <td>0.009900</td>\n",
       "      <td>1.419023</td>\n",
       "    </tr>\n",
       "    <tr>\n",
       "      <th>0</th>\n",
       "      <td>(Gender_Male)</td>\n",
       "      <td>(Age_Adult)</td>\n",
       "      <td>0.786461</td>\n",
       "      <td>0.950477</td>\n",
       "      <td>0.757383</td>\n",
       "      <td>0.963027</td>\n",
       "      <td>1.013204</td>\n",
       "      <td>0.009870</td>\n",
       "      <td>1.339441</td>\n",
       "    </tr>\n",
       "    <tr>\n",
       "      <th>1</th>\n",
       "      <td>(Age_Adult)</td>\n",
       "      <td>(Gender_Male)</td>\n",
       "      <td>0.950477</td>\n",
       "      <td>0.786461</td>\n",
       "      <td>0.757383</td>\n",
       "      <td>0.796845</td>\n",
       "      <td>1.013204</td>\n",
       "      <td>0.009870</td>\n",
       "      <td>1.051116</td>\n",
       "    </tr>\n",
       "  </tbody>\n",
       "</table>\n",
       "</div>"
      ],
      "text/plain": [
       "                   antecedents                 consequents  \\\n",
       "6     (Gender_Male, Age_Adult)               (Survived_No)   \n",
       "11               (Survived_No)    (Gender_Male, Age_Adult)   \n",
       "8     (Age_Adult, Survived_No)               (Gender_Male)   \n",
       "9                (Gender_Male)    (Age_Adult, Survived_No)   \n",
       "2                (Gender_Male)               (Survived_No)   \n",
       "3                (Survived_No)               (Gender_Male)   \n",
       "7   (Gender_Male, Survived_No)                 (Age_Adult)   \n",
       "10                 (Age_Adult)  (Gender_Male, Survived_No)   \n",
       "4                  (Age_Adult)               (Survived_No)   \n",
       "5                (Survived_No)                 (Age_Adult)   \n",
       "0                (Gender_Male)                 (Age_Adult)   \n",
       "1                  (Age_Adult)               (Gender_Male)   \n",
       "\n",
       "    antecedent support  consequent support   support  confidence      lift  \\\n",
       "6             0.757383            0.676965  0.603816    0.797241  1.177669   \n",
       "11            0.676965            0.757383  0.603816    0.891946  1.177669   \n",
       "8             0.653339            0.786461  0.603816    0.924200  1.175139   \n",
       "9             0.786461            0.653339  0.603816    0.767764  1.175139   \n",
       "2             0.786461            0.676965  0.619718    0.787984  1.163995   \n",
       "3             0.676965            0.786461  0.619718    0.915436  1.163995   \n",
       "7             0.619718            0.950477  0.603816    0.974340  1.025106   \n",
       "10            0.950477            0.619718  0.603816    0.635277  1.025106   \n",
       "4             0.950477            0.676965  0.653339    0.687380  1.015386   \n",
       "5             0.676965            0.950477  0.653339    0.965101  1.015386   \n",
       "0             0.786461            0.950477  0.757383    0.963027  1.013204   \n",
       "1             0.950477            0.786461  0.757383    0.796845  1.013204   \n",
       "\n",
       "    leverage  conviction  \n",
       "6   0.091095    1.593193  \n",
       "11  0.091095    2.245337  \n",
       "8   0.089991    2.817152  \n",
       "9   0.089991    1.492710  \n",
       "2   0.087312    1.523634  \n",
       "3   0.087312    2.525187  \n",
       "7   0.014788    1.929980  \n",
       "10  0.014788    1.042660  \n",
       "4   0.009900    1.033317  \n",
       "5   0.009900    1.419023  \n",
       "0   0.009870    1.339441  \n",
       "1   0.009870    1.051116  "
      ]
     },
     "execution_count": 47,
     "metadata": {},
     "output_type": "execute_result"
    }
   ],
   "source": [
    "rules.sort_values('lift',ascending = False)[0:20]"
   ]
  },
  {
   "cell_type": "code",
   "execution_count": 48,
   "metadata": {
    "colab": {
     "base_uri": "https://localhost:8080/",
     "height": 518
    },
    "executionInfo": {
     "elapsed": 19,
     "status": "ok",
     "timestamp": 1624765059182,
     "user": {
      "displayName": "Jaspal Singh Jhass",
      "photoUrl": "",
      "userId": "14870781376371902378"
     },
     "user_tz": -330
    },
    "id": "I_M3G8AlbJob",
    "outputId": "60d89b65-15f1-4585-e92f-1db5a2aea5da"
   },
   "outputs": [
    {
     "data": {
      "text/html": [
       "<div>\n",
       "<style scoped>\n",
       "    .dataframe tbody tr th:only-of-type {\n",
       "        vertical-align: middle;\n",
       "    }\n",
       "\n",
       "    .dataframe tbody tr th {\n",
       "        vertical-align: top;\n",
       "    }\n",
       "\n",
       "    .dataframe thead th {\n",
       "        text-align: right;\n",
       "    }\n",
       "</style>\n",
       "<table border=\"1\" class=\"dataframe\">\n",
       "  <thead>\n",
       "    <tr style=\"text-align: right;\">\n",
       "      <th></th>\n",
       "      <th>antecedents</th>\n",
       "      <th>consequents</th>\n",
       "      <th>antecedent support</th>\n",
       "      <th>consequent support</th>\n",
       "      <th>support</th>\n",
       "      <th>confidence</th>\n",
       "      <th>lift</th>\n",
       "      <th>leverage</th>\n",
       "      <th>conviction</th>\n",
       "    </tr>\n",
       "  </thead>\n",
       "  <tbody>\n",
       "    <tr>\n",
       "      <th>0</th>\n",
       "      <td>(Gender_Male)</td>\n",
       "      <td>(Age_Adult)</td>\n",
       "      <td>0.786461</td>\n",
       "      <td>0.950477</td>\n",
       "      <td>0.757383</td>\n",
       "      <td>0.963027</td>\n",
       "      <td>1.013204</td>\n",
       "      <td>0.009870</td>\n",
       "      <td>1.339441</td>\n",
       "    </tr>\n",
       "    <tr>\n",
       "      <th>1</th>\n",
       "      <td>(Age_Adult)</td>\n",
       "      <td>(Gender_Male)</td>\n",
       "      <td>0.950477</td>\n",
       "      <td>0.786461</td>\n",
       "      <td>0.757383</td>\n",
       "      <td>0.796845</td>\n",
       "      <td>1.013204</td>\n",
       "      <td>0.009870</td>\n",
       "      <td>1.051116</td>\n",
       "    </tr>\n",
       "    <tr>\n",
       "      <th>2</th>\n",
       "      <td>(Gender_Male)</td>\n",
       "      <td>(Survived_No)</td>\n",
       "      <td>0.786461</td>\n",
       "      <td>0.676965</td>\n",
       "      <td>0.619718</td>\n",
       "      <td>0.787984</td>\n",
       "      <td>1.163995</td>\n",
       "      <td>0.087312</td>\n",
       "      <td>1.523634</td>\n",
       "    </tr>\n",
       "    <tr>\n",
       "      <th>3</th>\n",
       "      <td>(Survived_No)</td>\n",
       "      <td>(Gender_Male)</td>\n",
       "      <td>0.676965</td>\n",
       "      <td>0.786461</td>\n",
       "      <td>0.619718</td>\n",
       "      <td>0.915436</td>\n",
       "      <td>1.163995</td>\n",
       "      <td>0.087312</td>\n",
       "      <td>2.525187</td>\n",
       "    </tr>\n",
       "    <tr>\n",
       "      <th>4</th>\n",
       "      <td>(Age_Adult)</td>\n",
       "      <td>(Survived_No)</td>\n",
       "      <td>0.950477</td>\n",
       "      <td>0.676965</td>\n",
       "      <td>0.653339</td>\n",
       "      <td>0.687380</td>\n",
       "      <td>1.015386</td>\n",
       "      <td>0.009900</td>\n",
       "      <td>1.033317</td>\n",
       "    </tr>\n",
       "    <tr>\n",
       "      <th>5</th>\n",
       "      <td>(Survived_No)</td>\n",
       "      <td>(Age_Adult)</td>\n",
       "      <td>0.676965</td>\n",
       "      <td>0.950477</td>\n",
       "      <td>0.653339</td>\n",
       "      <td>0.965101</td>\n",
       "      <td>1.015386</td>\n",
       "      <td>0.009900</td>\n",
       "      <td>1.419023</td>\n",
       "    </tr>\n",
       "    <tr>\n",
       "      <th>6</th>\n",
       "      <td>(Gender_Male, Age_Adult)</td>\n",
       "      <td>(Survived_No)</td>\n",
       "      <td>0.757383</td>\n",
       "      <td>0.676965</td>\n",
       "      <td>0.603816</td>\n",
       "      <td>0.797241</td>\n",
       "      <td>1.177669</td>\n",
       "      <td>0.091095</td>\n",
       "      <td>1.593193</td>\n",
       "    </tr>\n",
       "    <tr>\n",
       "      <th>7</th>\n",
       "      <td>(Gender_Male, Survived_No)</td>\n",
       "      <td>(Age_Adult)</td>\n",
       "      <td>0.619718</td>\n",
       "      <td>0.950477</td>\n",
       "      <td>0.603816</td>\n",
       "      <td>0.974340</td>\n",
       "      <td>1.025106</td>\n",
       "      <td>0.014788</td>\n",
       "      <td>1.929980</td>\n",
       "    </tr>\n",
       "    <tr>\n",
       "      <th>8</th>\n",
       "      <td>(Age_Adult, Survived_No)</td>\n",
       "      <td>(Gender_Male)</td>\n",
       "      <td>0.653339</td>\n",
       "      <td>0.786461</td>\n",
       "      <td>0.603816</td>\n",
       "      <td>0.924200</td>\n",
       "      <td>1.175139</td>\n",
       "      <td>0.089991</td>\n",
       "      <td>2.817152</td>\n",
       "    </tr>\n",
       "    <tr>\n",
       "      <th>9</th>\n",
       "      <td>(Gender_Male)</td>\n",
       "      <td>(Age_Adult, Survived_No)</td>\n",
       "      <td>0.786461</td>\n",
       "      <td>0.653339</td>\n",
       "      <td>0.603816</td>\n",
       "      <td>0.767764</td>\n",
       "      <td>1.175139</td>\n",
       "      <td>0.089991</td>\n",
       "      <td>1.492710</td>\n",
       "    </tr>\n",
       "    <tr>\n",
       "      <th>10</th>\n",
       "      <td>(Age_Adult)</td>\n",
       "      <td>(Gender_Male, Survived_No)</td>\n",
       "      <td>0.950477</td>\n",
       "      <td>0.619718</td>\n",
       "      <td>0.603816</td>\n",
       "      <td>0.635277</td>\n",
       "      <td>1.025106</td>\n",
       "      <td>0.014788</td>\n",
       "      <td>1.042660</td>\n",
       "    </tr>\n",
       "    <tr>\n",
       "      <th>11</th>\n",
       "      <td>(Survived_No)</td>\n",
       "      <td>(Gender_Male, Age_Adult)</td>\n",
       "      <td>0.676965</td>\n",
       "      <td>0.757383</td>\n",
       "      <td>0.603816</td>\n",
       "      <td>0.891946</td>\n",
       "      <td>1.177669</td>\n",
       "      <td>0.091095</td>\n",
       "      <td>2.245337</td>\n",
       "    </tr>\n",
       "  </tbody>\n",
       "</table>\n",
       "</div>"
      ],
      "text/plain": [
       "                   antecedents                 consequents  \\\n",
       "0                (Gender_Male)                 (Age_Adult)   \n",
       "1                  (Age_Adult)               (Gender_Male)   \n",
       "2                (Gender_Male)               (Survived_No)   \n",
       "3                (Survived_No)               (Gender_Male)   \n",
       "4                  (Age_Adult)               (Survived_No)   \n",
       "5                (Survived_No)                 (Age_Adult)   \n",
       "6     (Gender_Male, Age_Adult)               (Survived_No)   \n",
       "7   (Gender_Male, Survived_No)                 (Age_Adult)   \n",
       "8     (Age_Adult, Survived_No)               (Gender_Male)   \n",
       "9                (Gender_Male)    (Age_Adult, Survived_No)   \n",
       "10                 (Age_Adult)  (Gender_Male, Survived_No)   \n",
       "11               (Survived_No)    (Gender_Male, Age_Adult)   \n",
       "\n",
       "    antecedent support  consequent support   support  confidence      lift  \\\n",
       "0             0.786461            0.950477  0.757383    0.963027  1.013204   \n",
       "1             0.950477            0.786461  0.757383    0.796845  1.013204   \n",
       "2             0.786461            0.676965  0.619718    0.787984  1.163995   \n",
       "3             0.676965            0.786461  0.619718    0.915436  1.163995   \n",
       "4             0.950477            0.676965  0.653339    0.687380  1.015386   \n",
       "5             0.676965            0.950477  0.653339    0.965101  1.015386   \n",
       "6             0.757383            0.676965  0.603816    0.797241  1.177669   \n",
       "7             0.619718            0.950477  0.603816    0.974340  1.025106   \n",
       "8             0.653339            0.786461  0.603816    0.924200  1.175139   \n",
       "9             0.786461            0.653339  0.603816    0.767764  1.175139   \n",
       "10            0.950477            0.619718  0.603816    0.635277  1.025106   \n",
       "11            0.676965            0.757383  0.603816    0.891946  1.177669   \n",
       "\n",
       "    leverage  conviction  \n",
       "0   0.009870    1.339441  \n",
       "1   0.009870    1.051116  \n",
       "2   0.087312    1.523634  \n",
       "3   0.087312    2.525187  \n",
       "4   0.009900    1.033317  \n",
       "5   0.009900    1.419023  \n",
       "6   0.091095    1.593193  \n",
       "7   0.014788    1.929980  \n",
       "8   0.089991    2.817152  \n",
       "9   0.089991    1.492710  \n",
       "10  0.014788    1.042660  \n",
       "11  0.091095    2.245337  "
      ]
     },
     "execution_count": 48,
     "metadata": {},
     "output_type": "execute_result"
    }
   ],
   "source": [
    "rules[rules.lift>1]"
   ]
  },
  {
   "cell_type": "code",
   "execution_count": 6,
   "metadata": {
    "colab": {
     "base_uri": "https://localhost:8080/",
     "height": 331
    },
    "executionInfo": {
     "elapsed": 1345,
     "status": "ok",
     "timestamp": 1624765608860,
     "user": {
      "displayName": "Jaspal Singh Jhass",
      "photoUrl": "",
      "userId": "14870781376371902378"
     },
     "user_tz": -330
    },
    "id": "SzJnzLHAbJoc",
    "outputId": "7be3b18f-4d6b-4074-d5d7-96d0b9198b64"
   },
   "outputs": [
    {
     "ename": "NameError",
     "evalue": "name 'rules' is not defined",
     "output_type": "error",
     "traceback": [
      "\u001b[1;31m---------------------------------------------------------------------------\u001b[0m",
      "\u001b[1;31mNameError\u001b[0m                                 Traceback (most recent call last)",
      "\u001b[1;32m<ipython-input-6-4cc5315e48b2>\u001b[0m in \u001b[0;36m<module>\u001b[1;34m\u001b[0m\n\u001b[1;32m----> 1\u001b[1;33m \u001b[0mrules\u001b[0m\u001b[1;33m[\u001b[0m\u001b[1;33m[\u001b[0m\u001b[1;34m'support'\u001b[0m\u001b[1;33m,\u001b[0m\u001b[1;34m'confidence'\u001b[0m\u001b[1;33m]\u001b[0m\u001b[1;33m]\u001b[0m\u001b[1;33m.\u001b[0m\u001b[0mhist\u001b[0m\u001b[1;33m(\u001b[0m\u001b[1;33m)\u001b[0m\u001b[1;33m\u001b[0m\u001b[1;33m\u001b[0m\u001b[0m\n\u001b[0m",
      "\u001b[1;31mNameError\u001b[0m: name 'rules' is not defined"
     ]
    }
   ],
   "source": [
    "rules[['support','confidence']].hist()"
   ]
  },
  {
   "cell_type": "code",
   "execution_count": 50,
   "metadata": {
    "colab": {
     "base_uri": "https://localhost:8080/",
     "height": 365
    },
    "executionInfo": {
     "elapsed": 1075,
     "status": "ok",
     "timestamp": 1624765621859,
     "user": {
      "displayName": "Jaspal Singh Jhass",
      "photoUrl": "",
      "userId": "14870781376371902378"
     },
     "user_tz": -330
    },
    "id": "O6wkD386kdFQ",
    "outputId": "cc7e84ec-c913-4d3a-dede-94ad9b1fc7cc"
   },
   "outputs": [
    {
     "data": {
      "text/plain": [
       "array([[<AxesSubplot:title={'center':'support'}>,\n",
       "        <AxesSubplot:title={'center':'confidence'}>],\n",
       "       [<AxesSubplot:title={'center':'lift'}>, <AxesSubplot:>]],\n",
       "      dtype=object)"
      ]
     },
     "execution_count": 50,
     "metadata": {},
     "output_type": "execute_result"
    },
    {
     "data": {
      "image/png": "[encoded data removed]",
      "text/plain": [
       "<Figure size 432x288 with 4 Axes>"
      ]
     },
     "metadata": {
      "needs_background": "light"
     },
     "output_type": "display_data"
    }
   ],
   "source": [
    "rules[['support','confidence','lift']].hist()"
   ]
  },
  {
   "cell_type": "code",
   "execution_count": null,
   "metadata": {
    "id": "sz5yT-VhkdPk"
   },
   "outputs": [],
   "source": []
  },
  {
   "cell_type": "code",
   "execution_count": 51,
   "metadata": {
    "colab": {
     "base_uri": "https://localhost:8080/",
     "height": 265
    },
    "executionInfo": {
     "elapsed": 556,
     "status": "ok",
     "timestamp": 1624765171253,
     "user": {
      "displayName": "Jaspal Singh Jhass",
      "photoUrl": "",
      "userId": "14870781376371902378"
     },
     "user_tz": -330
    },
    "id": "KA1Skq_Zi366",
    "outputId": "4865b086-9b52-4c1b-ac49-0eab2c7a25a4"
   },
   "outputs": [
    {
     "data": {
      "image/png": "[encoded data removed]",
      "text/plain": [
       "<Figure size 432x288 with 1 Axes>"
      ]
     },
     "metadata": {
      "needs_background": "light"
     },
     "output_type": "display_data"
    }
   ],
   "source": [
    "import matplotlib.pyplot as plt\n",
    "\n",
    "#x = [5,7,8,7,2,17,2,9,4,11,12,9,6]\n",
    "#y = [99,86,87,88,111,86,103,87,94,78,77,85,86]\n",
    "\n",
    "plt.scatter(rules['support'], rules['confidence'])\n",
    "plt.show()\n",
    "%matplotlib inline"
   ]
  },
  {
   "cell_type": "code",
   "execution_count": 52,
   "metadata": {
    "colab": {
     "base_uri": "https://localhost:8080/",
     "height": 569
    },
    "executionInfo": {
     "elapsed": 1701,
     "status": "ok",
     "timestamp": 1624765344372,
     "user": {
      "displayName": "Jaspal Singh Jhass",
      "photoUrl": "",
      "userId": "14870781376371902378"
     },
     "user_tz": -330
    },
    "id": "QZr2BiBcjQGH",
    "outputId": "57ffe8c7-af5e-4dc6-b317-d04e50f4acb8"
   },
   "outputs": [
    {
     "name": "stderr",
     "output_type": "stream",
     "text": [
      "C:\\Users\\chira\\anaconda3\\lib\\site-packages\\seaborn\\_decorators.py:36: FutureWarning: Pass the following variables as keyword args: x, y. From version 0.12, the only valid positional argument will be `data`, and passing other arguments without an explicit keyword will result in an error or misinterpretation.\n",
      "  warnings.warn(\n"
     ]
    },
    {
     "data": {
      "image/png": "[encoded data removed]",
      "text/plain": [
       "<Figure size 432x288 with 1 Axes>"
      ]
     },
     "metadata": {
      "needs_background": "light"
     },
     "output_type": "display_data"
    }
   ],
   "source": [
    "import seaborn as sns\n",
    "sns.scatterplot('support', 'confidence', data=rules, hue='antecedents')\n",
    "plt.show()"
   ]
  },
  {
   "cell_type": "code",
   "execution_count": 53,
   "metadata": {
    "colab": {
     "base_uri": "https://localhost:8080/"
    },
    "executionInfo": {
     "elapsed": 4403,
     "status": "ok",
     "timestamp": 1624982274486,
     "user": {
      "displayName": "Jaspal Singh Jhass",
      "photoUrl": "",
      "userId": "14870781376371902378"
     },
     "user_tz": -330
    },
    "id": "TO2aHlEPj6CS",
    "outputId": "37b9f09d-7f9f-482d-b91c-ad0a4e262a97"
   },
   "outputs": [
    {
     "name": "stdout",
     "output_type": "stream",
     "text": [
      "Requirement already satisfied: nsepython in c:\\users\\chira\\anaconda3\\lib\\site-packages (0.0.972)\n",
      "Requirement already satisfied: scipy in c:\\users\\chira\\anaconda3\\lib\\site-packages (from nsepython) (1.6.2)\n",
      "Requirement already satisfied: pandas in c:\\users\\chira\\anaconda3\\lib\\site-packages (from nsepython) (1.2.4)\n",
      "Requirement already satisfied: requests in c:\\users\\chira\\anaconda3\\lib\\site-packages (from nsepython) (2.25.1)\n",
      "Requirement already satisfied: numpy>=1.16.5 in c:\\users\\chira\\anaconda3\\lib\\site-packages (from pandas->nsepython) (1.20.1)\n",
      "Requirement already satisfied: python-dateutil>=2.7.3 in c:\\users\\chira\\anaconda3\\lib\\site-packages (from pandas->nsepython) (2.8.1)\n",
      "Requirement already satisfied: pytz>=2017.3 in c:\\users\\chira\\anaconda3\\lib\\site-packages (from pandas->nsepython) (2021.1)\n",
      "Requirement already satisfied: six>=1.5 in c:\\users\\chira\\anaconda3\\lib\\site-packages (from python-dateutil>=2.7.3->pandas->nsepython) (1.15.0)\n",
      "Requirement already satisfied: idna<3,>=2.5 in c:\\users\\chira\\anaconda3\\lib\\site-packages (from requests->nsepython) (2.10)\n",
      "Requirement already satisfied: urllib3<1.27,>=1.21.1 in c:\\users\\chira\\anaconda3\\lib\\site-packages (from requests->nsepython) (1.26.4)\n",
      "Requirement already satisfied: chardet<5,>=3.0.2 in c:\\users\\chira\\anaconda3\\lib\\site-packages (from requests->nsepython) (4.0.0)\n",
      "Requirement already satisfied: certifi>=2017.4.17 in c:\\users\\chira\\anaconda3\\lib\\site-packages (from requests->nsepython) (2020.12.5)\n"
     ]
    }
   ],
   "source": [
    "!pip install nsepython\n"
   ]
  },
  {
   "cell_type": "code",
   "execution_count": 2,
   "metadata": {
    "colab": {
     "base_uri": "https://localhost:8080/"
    },
    "executionInfo": {
     "elapsed": 1292,
     "status": "ok",
     "timestamp": 1624982362793,
     "user": {
      "displayName": "Jaspal Singh Jhass",
      "photoUrl": "",
      "userId": "14870781376371902378"
     },
     "user_tz": -330
    },
    "id": "QzrYjBFjfa2R",
    "outputId": "f223242e-e043-4d1d-e7cd-6ab650a60da0"
   },
   "outputs": [
    {
     "name": "stdout",
     "output_type": "stream",
     "text": [
      "['NIFTY', 'FINNIFTY', 'BANKNIFTY']\n"
     ]
    }
   ],
   "source": [
    "from nsepython import *   \n",
    "print(indices)"
   ]
  },
  {
   "cell_type": "code",
   "execution_count": null,
   "metadata": {
    "id": "BH_EX5oYfxK4"
   },
   "outputs": [],
   "source": [
    "oi_data, ltp, crontime = oi_chain_builder(\"RELIANCE\",\"latest\",\"full\")\n",
    "print(oi_data)\n",
    "print(ltp)\n",
    "print(crontime)\n"
   ]
  },
  {
   "cell_type": "code",
   "execution_count": null,
   "metadata": {
    "id": "fcEj3Jcif3zM"
   },
   "outputs": [],
   "source": []
  }
 ],
 "metadata": {
  "colab": {
   "name": "Association Rules.ipynb",
   "provenance": []
  },
  "kernelspec": {
   "display_name": "Python 3 (ipykernel)",
   "language": "python",
   "name": "python3"
  },
  "language_info": {
   "codemirror_mode": {
    "name": "ipython",
    "version": 3
   },
   "file_extension": ".py",
   "mimetype": "text/x-python",
   "name": "python",
   "nbconvert_exporter": "python",
   "pygments_lexer": "ipython3",
   "version": "3.8.16"
  }
 },
 "nbformat": 4,
 "nbformat_minor": 4
}

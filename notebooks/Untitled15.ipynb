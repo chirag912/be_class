{
 "cells": [
  {
   "cell_type": "code",
   "execution_count": 4,
   "id": "d268ef3e",
   "metadata": {},
   "outputs": [],
   "source": [
    "#Bagged decsion trees for classification\n",
    "from pandas import read_csv\n",
    "from sklearn.model_selection import KFold\n",
    "from sklearn.model_selection import cross_val_score\n",
    "from sklearn.ensemble import AdaBoostClassifier\n",
    "\n",
    "filename = 'pima-indians-diabetes.data.csv'\n",
    "names = ['preg','plas','pres','skin','test','mass','pedi','age','class']\n",
    "dataframe  = read_csv(filename,names = names)\n",
    "\n",
    "array = dataframe.values\n",
    "\n",
    "x = array[:,0:8]\n",
    "y = array[:,8]"
   ]
  },
  {
   "cell_type": "code",
   "execution_count": 13,
   "id": "65107db4",
   "metadata": {},
   "outputs": [
    {
     "data": {
      "text/plain": [
       "array([0.67532468, 0.81818182, 0.67532468, 0.68831169, 0.77922078,\n",
       "       0.83116883, 0.76623377, 0.83116883, 0.75      , 0.77631579])"
      ]
     },
     "execution_count": 13,
     "metadata": {},
     "output_type": "execute_result"
    }
   ],
   "source": [
    "num_trees = 25\n",
    "\n",
    "kfold = KFold(n_splits=10)\n",
    "model = AdaBoostClassifier(n_estimators = num_trees)\n",
    "results = cross_val_score(model,x,y, cv=kfold)\n",
    "\n",
    "results"
   ]
  },
  {
   "cell_type": "code",
   "execution_count": 14,
   "id": "f5c1daae",
   "metadata": {
    "scrolled": true
   },
   "outputs": [
    {
     "data": {
      "text/plain": [
       "0.759125085440875"
      ]
     },
     "execution_count": 14,
     "metadata": {},
     "output_type": "execute_result"
    }
   ],
   "source": [
    "results.mean()"
   ]
  },
  {
   "cell_type": "markdown",
   "id": "b27ac98b",
   "metadata": {},
   "source": [
    "## Stacking "
   ]
  },
  {
   "cell_type": "code",
   "execution_count": 16,
   "id": "0da39cee",
   "metadata": {},
   "outputs": [],
   "source": [
    "from pandas import read_csv\n",
    "from sklearn.model_selection import  KFold\n",
    "from sklearn.model_selection import cross_val_score\n",
    "from sklearn.linear_model import LogisticRegression\n",
    "from sklearn.tree import DecisionTreeClassifier\n",
    "from sklearn.ensemble import VotingClassifier\n",
    "\n",
    "\n",
    "filename = 'pima-indians-diabetes.data.csv'\n",
    "names = ['preg','plas','pres','skin','test','mass','pedi','age','class']\n",
    "dataframe  = read_csv(filename,names = names)\n",
    "\n",
    "array = dataframe.values\n",
    "\n",
    "x = array[:,0:8]\n",
    "y = array[:,8]\n"
   ]
  },
  {
   "cell_type": "code",
   "execution_count": 17,
   "id": "8371cbe3",
   "metadata": {},
   "outputs": [],
   "source": [
    "# Create the Sub_models\n",
    "\n",
    "estimators = []\n",
    "model1 = LogisticRegression(max_iter = 400)\n",
    "estimators.append(('logistic',model1))\n",
    "\n",
    "model2 = DecisionTreeClassifier()\n",
    "estimators.append(('cart',model2))\n",
    "\n",
    "\n"
   ]
  },
  {
   "cell_type": "code",
   "execution_count": 18,
   "id": "844829a8",
   "metadata": {},
   "outputs": [],
   "source": [
    "# Create the Ensemble model\n",
    "\n",
    "ensemble  = VotingClassifier(estimators)\n",
    "results = cross_val_score(ensemble,x,y,cv =kfold)"
   ]
  },
  {
   "cell_type": "code",
   "execution_count": 19,
   "id": "6505c18a",
   "metadata": {},
   "outputs": [
    {
     "data": {
      "text/plain": [
       "array([0.61038961, 0.81818182, 0.74025974, 0.64935065, 0.76623377,\n",
       "       0.74025974, 0.84415584, 0.83116883, 0.69736842, 0.72368421])"
      ]
     },
     "execution_count": 19,
     "metadata": {},
     "output_type": "execute_result"
    }
   ],
   "source": [
    "results"
   ]
  },
  {
   "cell_type": "code",
   "execution_count": 20,
   "id": "e3fca23c",
   "metadata": {},
   "outputs": [
    {
     "data": {
      "text/plain": [
       "0.7421052631578948"
      ]
     },
     "execution_count": 20,
     "metadata": {},
     "output_type": "execute_result"
    }
   ],
   "source": [
    "results.mean()"
   ]
  },
  {
   "cell_type": "code",
   "execution_count": null,
   "id": "8a9323eb",
   "metadata": {},
   "outputs": [],
   "source": []
  }
 ],
 "metadata": {
  "kernelspec": {
   "display_name": "Python 3",
   "language": "python",
   "name": "python3"
  },
  "language_info": {
   "codemirror_mode": {
    "name": "ipython",
    "version": 3
   },
   "file_extension": ".py",
   "mimetype": "text/x-python",
   "name": "python",
   "nbconvert_exporter": "python",
   "pygments_lexer": "ipython3",
   "version": "3.8.8"
  }
 },
 "nbformat": 4,
 "nbformat_minor": 5
}

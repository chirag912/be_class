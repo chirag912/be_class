{
 "cells": [
  {
   "cell_type": "markdown",
   "id": "c847509d",
   "metadata": {},
   "source": [
    "### Neural Networks with back propogation"
   ]
  },
  {
   "cell_type": "code",
   "execution_count": 1,
   "id": "fa20f2f6",
   "metadata": {
    "scrolled": false
   },
   "outputs": [
    {
     "name": "stdout",
     "output_type": "stream",
     "text": [
      "Collecting tensorflow\n",
      "  Downloading tensorflow-2.10.0-cp38-cp38-win_amd64.whl (455.9 MB)\n",
      "Collecting astunparse>=1.6.0\n",
      "  Using cached astunparse-1.6.3-py2.py3-none-any.whl (12 kB)\n",
      "Collecting absl-py>=1.0.0\n",
      "  Downloading absl_py-1.2.0-py3-none-any.whl (123 kB)\n",
      "Collecting google-pasta>=0.1.1\n",
      "  Using cached google_pasta-0.2.0-py3-none-any.whl (57 kB)\n",
      "Collecting wrapt>=1.11.0\n",
      "  Downloading wrapt-1.14.1-cp38-cp38-win_amd64.whl (35 kB)\n",
      "Collecting tensorboard<2.11,>=2.10\n",
      "  Downloading tensorboard-2.10.0-py3-none-any.whl (5.9 MB)\n",
      "Collecting opt-einsum>=2.3.2\n",
      "  Using cached opt_einsum-3.3.0-py3-none-any.whl (65 kB)\n",
      "Collecting protobuf<3.20,>=3.9.2\n",
      "  Using cached protobuf-3.19.4-cp38-cp38-win_amd64.whl (895 kB)\n",
      "Collecting keras-preprocessing>=1.1.1\n",
      "  Using cached Keras_Preprocessing-1.1.2-py2.py3-none-any.whl (42 kB)\n",
      "Collecting libclang>=13.0.0\n",
      "  Downloading libclang-14.0.6-py2.py3-none-win_amd64.whl (14.2 MB)\n",
      "Collecting tensorflow-estimator<2.11,>=2.10.0\n",
      "  Downloading tensorflow_estimator-2.10.0-py2.py3-none-any.whl (438 kB)\n",
      "Collecting keras<2.11,>=2.10.0\n",
      "  Downloading keras-2.10.0-py2.py3-none-any.whl (1.7 MB)\n",
      "Collecting setuptools\n",
      "  Downloading setuptools-65.3.0-py3-none-any.whl (1.2 MB)\n",
      "Collecting gast<=0.4.0,>=0.2.1\n",
      "  Using cached gast-0.4.0-py3-none-any.whl (9.8 kB)\n",
      "Collecting termcolor>=1.1.0\n",
      "  Using cached termcolor-1.1.0-py3-none-any.whl\n",
      "Collecting six>=1.12.0\n",
      "  Using cached six-1.16.0-py2.py3-none-any.whl (11 kB)\n",
      "Collecting h5py>=2.9.0\n",
      "  Downloading h5py-3.7.0-cp38-cp38-win_amd64.whl (2.6 MB)\n",
      "Collecting packaging\n",
      "  Using cached packaging-21.3-py3-none-any.whl (40 kB)\n",
      "Collecting tensorflow-io-gcs-filesystem>=0.23.1\n",
      "  Downloading tensorflow_io_gcs_filesystem-0.27.0-cp38-cp38-win_amd64.whl (1.5 MB)\n",
      "Collecting grpcio<2.0,>=1.24.3\n",
      "  Downloading grpcio-1.48.1-cp38-cp38-win_amd64.whl (3.6 MB)\n",
      "Collecting typing-extensions>=3.6.6\n",
      "  Using cached typing_extensions-4.3.0-py3-none-any.whl (25 kB)\n",
      "Collecting numpy>=1.20\n",
      "  Downloading numpy-1.23.3-cp38-cp38-win_amd64.whl (14.7 MB)\n",
      "Collecting flatbuffers>=2.0\n",
      "  Downloading flatbuffers-2.0.7-py2.py3-none-any.whl (26 kB)\n",
      "Collecting wheel<1.0,>=0.23.0"
     ]
    },
    {
     "name": "stderr",
     "output_type": "stream",
     "text": [
      "ERROR: pip's dependency resolver does not currently take into account all the packages that are installed. This behaviour is the source of the following dependency conflicts.\n",
      "spyder 4.2.5 requires pyqt5<5.13, which is not installed.\n",
      "spyder 4.2.5 requires pyqtwebengine<5.13, which is not installed.\n",
      "conda-repo-cli 1.0.4 requires pathlib, which is not installed.\n",
      "anaconda-project 0.9.1 requires ruamel-yaml, which is not installed.\n",
      "sphinx 4.0.1 requires MarkupSafe<2.0, but you have markupsafe 2.1.1 which is incompatible.\n",
      "scipy 1.6.2 requires numpy<1.23.0,>=1.16.5, but you have numpy 1.23.3 which is incompatible.\n",
      "astroid 2.5 requires wrapt<1.13,>=1.11, but you have wrapt 1.14.1 which is incompatible.\n",
      "WARNING: Target directory C:\\Users\\chira\\AppData\\Local\\Programs\\Python\\Python36\\lib\\site-packages\\absl already exists. Specify --upgrade to force replacement.\n",
      "WARNING: Target directory C:\\Users\\chira\\AppData\\Local\\Programs\\Python\\Python36\\lib\\site-packages\\astunparse already exists. Specify --upgrade to force replacement.\n",
      "WARNING: Target directory C:\\Users\\chira\\AppData\\Local\\Programs\\Python\\Python36\\lib\\site-packages\\astunparse-1.6.3.dist-info already exists. Specify --upgrade to force replacement.\n",
      "WARNING: Target directory C:\\Users\\chira\\AppData\\Local\\Programs\\Python\\Python36\\lib\\site-packages\\cachetools already exists. Specify --upgrade to force replacement.\n",
      "WARNING: Target directory C:\\Users\\chira\\AppData\\Local\\Programs\\Python\\Python36\\lib\\site-packages\\cachetools-5.2.0.dist-info already exists. Specify --upgrade to force replacement.\n",
      "WARNING: Target directory C:\\Users\\chira\\AppData\\Local\\Programs\\Python\\Python36\\lib\\site-packages\\certifi already exists. Specify --upgrade to force replacement.\n",
      "WARNING: Target directory C:\\Users\\chira\\AppData\\Local\\Programs\\Python\\Python36\\lib\\site-packages\\charset_normalizer already exists. Specify --upgrade to force replacement.\n",
      "WARNING: Target directory C:\\Users\\chira\\AppData\\Local\\Programs\\Python\\Python36\\lib\\site-packages\\charset_normalizer-2.1.1.dist-info already exists. Specify --upgrade to force replacement.\n",
      "WARNING: Target directory C:\\Users\\chira\\AppData\\Local\\Programs\\Python\\Python36\\lib\\site-packages\\clang already exists. Specify --upgrade to force replacement.\n",
      "WARNING: Target directory C:\\Users\\chira\\AppData\\Local\\Programs\\Python\\Python36\\lib\\site-packages\\distutils-precedence.pth already exists. Specify --upgrade to force replacement.\n",
      "WARNING: Target directory C:\\Users\\chira\\AppData\\Local\\Programs\\Python\\Python36\\lib\\site-packages\\flatbuffers already exists. Specify --upgrade to force replacement.\n",
      "WARNING: Target directory C:\\Users\\chira\\AppData\\Local\\Programs\\Python\\Python36\\lib\\site-packages\\gast already exists. Specify --upgrade to force replacement.\n",
      "WARNING: Target directory C:\\Users\\chira\\AppData\\Local\\Programs\\Python\\Python36\\lib\\site-packages\\google already exists. Specify --upgrade to force replacement.\n",
      "WARNING: Target directory C:\\Users\\chira\\AppData\\Local\\Programs\\Python\\Python36\\lib\\site-packages\\google_auth_oauthlib already exists. Specify --upgrade to force replacement.\n",
      "WARNING: Target directory C:\\Users\\chira\\AppData\\Local\\Programs\\Python\\Python36\\lib\\site-packages\\google_auth_oauthlib-0.4.6.dist-info already exists. Specify --upgrade to force replacement.\n",
      "WARNING: Target directory C:\\Users\\chira\\AppData\\Local\\Programs\\Python\\Python36\\lib\\site-packages\\google_pasta-0.2.0.dist-info already exists. Specify --upgrade to force replacement.\n",
      "WARNING: Target directory C:\\Users\\chira\\AppData\\Local\\Programs\\Python\\Python36\\lib\\site-packages\\grpc already exists. Specify --upgrade to force replacement.\n",
      "WARNING: Target directory C:\\Users\\chira\\AppData\\Local\\Programs\\Python\\Python36\\lib\\site-packages\\h5py already exists. Specify --upgrade to force replacement.\n",
      "WARNING: Target directory C:\\Users\\chira\\AppData\\Local\\Programs\\Python\\Python36\\lib\\site-packages\\idna already exists. Specify --upgrade to force replacement.\n",
      "WARNING: Target directory C:\\Users\\chira\\AppData\\Local\\Programs\\Python\\Python36\\lib\\site-packages\\idna-3.3.dist-info already exists. Specify --upgrade to force replacement.\n",
      "WARNING: Target directory C:\\Users\\chira\\AppData\\Local\\Programs\\Python\\Python36\\lib\\site-packages\\importlib_metadata already exists. Specify --upgrade to force replacement.\n",
      "WARNING: Target directory C:\\Users\\chira\\AppData\\Local\\Programs\\Python\\Python36\\lib\\site-packages\\importlib_metadata-4.12.0.dist-info already exists. Specify --upgrade to force replacement.\n",
      "WARNING: Target directory C:\\Users\\chira\\AppData\\Local\\Programs\\Python\\Python36\\lib\\site-packages\\keras already exists. Specify --upgrade to force replacement.\n",
      "WARNING: Target directory C:\\Users\\chira\\AppData\\Local\\Programs\\Python\\Python36\\lib\\site-packages\\keras_preprocessing already exists. Specify --upgrade to force replacement.\n",
      "WARNING: Target directory C:\\Users\\chira\\AppData\\Local\\Programs\\Python\\Python36\\lib\\site-packages\\Keras_Preprocessing-1.1.2.dist-info already exists. Specify --upgrade to force replacement.\n",
      "WARNING: Target directory C:\\Users\\chira\\AppData\\Local\\Programs\\Python\\Python36\\lib\\site-packages\\markdown already exists. Specify --upgrade to force replacement.\n",
      "WARNING: Target directory C:\\Users\\chira\\AppData\\Local\\Programs\\Python\\Python36\\lib\\site-packages\\markupsafe already exists. Specify --upgrade to force replacement.\n",
      "WARNING: Target directory C:\\Users\\chira\\AppData\\Local\\Programs\\Python\\Python36\\lib\\site-packages\\MarkupSafe-2.1.1.dist-info already exists. Specify --upgrade to force replacement.\n",
      "WARNING: Target directory C:\\Users\\chira\\AppData\\Local\\Programs\\Python\\Python36\\lib\\site-packages\\numpy already exists. Specify --upgrade to force replacement.\n",
      "WARNING: Target directory C:\\Users\\chira\\AppData\\Local\\Programs\\Python\\Python36\\lib\\site-packages\\oauthlib already exists. Specify --upgrade to force replacement.\n",
      "WARNING: Target directory C:\\Users\\chira\\AppData\\Local\\Programs\\Python\\Python36\\lib\\site-packages\\opt_einsum already exists. Specify --upgrade to force replacement.\n",
      "WARNING: Target directory C:\\Users\\chira\\AppData\\Local\\Programs\\Python\\Python36\\lib\\site-packages\\opt_einsum-3.3.0.dist-info already exists. Specify --upgrade to force replacement.\n",
      "WARNING: Target directory C:\\Users\\chira\\AppData\\Local\\Programs\\Python\\Python36\\lib\\site-packages\\packaging already exists. Specify --upgrade to force replacement.\n",
      "WARNING: Target directory C:\\Users\\chira\\AppData\\Local\\Programs\\Python\\Python36\\lib\\site-packages\\packaging-21.3.dist-info already exists. Specify --upgrade to force replacement.\n",
      "WARNING: Target directory C:\\Users\\chira\\AppData\\Local\\Programs\\Python\\Python36\\lib\\site-packages\\pasta already exists. Specify --upgrade to force replacement.\n",
      "WARNING: Target directory C:\\Users\\chira\\AppData\\Local\\Programs\\Python\\Python36\\lib\\site-packages\\pkg_resources already exists. Specify --upgrade to force replacement.\n",
      "WARNING: Target directory C:\\Users\\chira\\AppData\\Local\\Programs\\Python\\Python36\\lib\\site-packages\\pyasn1 already exists. Specify --upgrade to force replacement.\n",
      "WARNING: Target directory C:\\Users\\chira\\AppData\\Local\\Programs\\Python\\Python36\\lib\\site-packages\\pyasn1-0.4.8.dist-info already exists. Specify --upgrade to force replacement.\n",
      "WARNING: Target directory C:\\Users\\chira\\AppData\\Local\\Programs\\Python\\Python36\\lib\\site-packages\\pyasn1_modules already exists. Specify --upgrade to force replacement.\n",
      "WARNING: Target directory C:\\Users\\chira\\AppData\\Local\\Programs\\Python\\Python36\\lib\\site-packages\\pyasn1_modules-0.2.8.dist-info already exists. Specify --upgrade to force replacement."
     ]
    },
    {
     "name": "stdout",
     "output_type": "stream",
     "text": [
      "\n",
      "  Using cached wheel-0.37.1-py2.py3-none-any.whl (35 kB)\n",
      "Collecting werkzeug>=1.0.1\n",
      "  Downloading Werkzeug-2.2.2-py3-none-any.whl (232 kB)\n",
      "Collecting requests<3,>=2.21.0\n",
      "  Using cached requests-2.28.1-py3-none-any.whl (62 kB)\n",
      "Collecting markdown>=2.6.8\n",
      "  Downloading Markdown-3.4.1-py3-none-any.whl (93 kB)\n",
      "Collecting tensorboard-data-server<0.7.0,>=0.6.0\n",
      "  Using cached tensorboard_data_server-0.6.1-py3-none-any.whl (2.4 kB)\n",
      "Collecting google-auth<3,>=1.6.3\n",
      "  Downloading google_auth-2.11.0-py2.py3-none-any.whl (167 kB)\n",
      "Collecting tensorboard-plugin-wit>=1.6.0\n",
      "  Using cached tensorboard_plugin_wit-1.8.1-py3-none-any.whl (781 kB)\n",
      "Collecting google-auth-oauthlib<0.5,>=0.4.1\n",
      "  Using cached google_auth_oauthlib-0.4.6-py2.py3-none-any.whl (18 kB)\n",
      "Collecting cachetools<6.0,>=2.0.0\n",
      "  Using cached cachetools-5.2.0-py3-none-any.whl (9.3 kB)\n",
      "Collecting rsa<5,>=3.1.4\n",
      "  Downloading rsa-4.9-py3-none-any.whl (34 kB)\n",
      "Collecting pyasn1-modules>=0.2.1\n",
      "  Using cached pyasn1_modules-0.2.8-py2.py3-none-any.whl (155 kB)\n",
      "Collecting requests-oauthlib>=0.7.0\n",
      "  Using cached requests_oauthlib-1.3.1-py2.py3-none-any.whl (23 kB)\n",
      "Collecting importlib-metadata>=4.4\n",
      "  Using cached importlib_metadata-4.12.0-py3-none-any.whl (21 kB)\n",
      "Collecting zipp>=0.5\n",
      "  Using cached zipp-3.8.1-py3-none-any.whl (5.6 kB)\n",
      "Collecting pyasn1<0.5.0,>=0.4.6\n",
      "  Using cached pyasn1-0.4.8-py2.py3-none-any.whl (77 kB)\n",
      "Collecting idna<4,>=2.5\n",
      "  Using cached idna-3.3-py3-none-any.whl (61 kB)\n",
      "Collecting urllib3<1.27,>=1.21.1\n",
      "  Using cached urllib3-1.26.12-py2.py3-none-any.whl (140 kB)\n",
      "Collecting certifi>=2017.4.17\n",
      "  Downloading certifi-2022.6.15.1-py3-none-any.whl (160 kB)\n",
      "Collecting charset-normalizer<3,>=2\n",
      "  Using cached charset_normalizer-2.1.1-py3-none-any.whl (39 kB)\n",
      "Collecting oauthlib>=3.0.0\n",
      "  Downloading oauthlib-3.2.1-py3-none-any.whl (151 kB)\n",
      "Collecting MarkupSafe>=2.1.1\n",
      "  Using cached MarkupSafe-2.1.1-cp38-cp38-win_amd64.whl (17 kB)\n",
      "Collecting pyparsing!=3.0.5,>=2.0.2\n",
      "  Using cached pyparsing-3.0.9-py3-none-any.whl (98 kB)\n",
      "Installing collected packages: urllib3, pyasn1, idna, charset-normalizer, certifi, zipp, six, rsa, requests, pyasn1-modules, oauthlib, cachetools, requests-oauthlib, MarkupSafe, importlib-metadata, google-auth, wheel, werkzeug, tensorboard-plugin-wit, tensorboard-data-server, setuptools, pyparsing, protobuf, numpy, markdown, grpcio, google-auth-oauthlib, absl-py, wrapt, typing-extensions, termcolor, tensorflow-io-gcs-filesystem, tensorflow-estimator, tensorboard, packaging, opt-einsum, libclang, keras-preprocessing, keras, h5py, google-pasta, gast, flatbuffers, astunparse, tensorflow\n",
      "Successfully installed MarkupSafe-2.1.1 absl-py-1.2.0 astunparse-1.6.3 cachetools-5.2.0 certifi-2022.6.15.1 charset-normalizer-2.1.1 flatbuffers-2.0.7 gast-0.4.0 google-auth-2.11.0 google-auth-oauthlib-0.4.6 google-pasta-0.2.0 grpcio-1.48.1 h5py-3.7.0 idna-3.3 importlib-metadata-4.12.0 keras-2.10.0 keras-preprocessing-1.1.2 libclang-14.0.6 markdown-3.4.1 numpy-1.23.3 oauthlib-3.2.1 opt-einsum-3.3.0 packaging-21.3 protobuf-3.19.4 pyasn1-0.4.8 pyasn1-modules-0.2.8 pyparsing-3.0.9 requests-2.28.1 requests-oauthlib-1.3.1 rsa-4.9 setuptools-65.3.0 six-1.16.0 tensorboard-2.10.0 tensorboard-data-server-0.6.1 tensorboard-plugin-wit-1.8.1 tensorflow-2.10.0 tensorflow-estimator-2.10.0 tensorflow-io-gcs-filesystem-0.27.0 termcolor-1.1.0 typing-extensions-4.3.0 urllib3-1.26.12 werkzeug-2.2.2 wheel-0.37.1 wrapt-1.14.1 zipp-3.8.1\n"
     ]
    },
    {
     "name": "stderr",
     "output_type": "stream",
     "text": [
      "\n",
      "WARNING: Target directory C:\\Users\\chira\\AppData\\Local\\Programs\\Python\\Python36\\lib\\site-packages\\pyparsing already exists. Specify --upgrade to force replacement.\n",
      "WARNING: Target directory C:\\Users\\chira\\AppData\\Local\\Programs\\Python\\Python36\\lib\\site-packages\\pyparsing-3.0.9.dist-info already exists. Specify --upgrade to force replacement.\n",
      "WARNING: Target directory C:\\Users\\chira\\AppData\\Local\\Programs\\Python\\Python36\\lib\\site-packages\\requests already exists. Specify --upgrade to force replacement.\n",
      "WARNING: Target directory C:\\Users\\chira\\AppData\\Local\\Programs\\Python\\Python36\\lib\\site-packages\\requests-2.28.1.dist-info already exists. Specify --upgrade to force replacement.\n",
      "WARNING: Target directory C:\\Users\\chira\\AppData\\Local\\Programs\\Python\\Python36\\lib\\site-packages\\requests_oauthlib already exists. Specify --upgrade to force replacement.\n",
      "WARNING: Target directory C:\\Users\\chira\\AppData\\Local\\Programs\\Python\\Python36\\lib\\site-packages\\requests_oauthlib-1.3.1.dist-info already exists. Specify --upgrade to force replacement.\n",
      "WARNING: Target directory C:\\Users\\chira\\AppData\\Local\\Programs\\Python\\Python36\\lib\\site-packages\\rsa already exists. Specify --upgrade to force replacement.\n",
      "WARNING: Target directory C:\\Users\\chira\\AppData\\Local\\Programs\\Python\\Python36\\lib\\site-packages\\setuptools already exists. Specify --upgrade to force replacement.\n",
      "WARNING: Target directory C:\\Users\\chira\\AppData\\Local\\Programs\\Python\\Python36\\lib\\site-packages\\six-1.16.0.dist-info already exists. Specify --upgrade to force replacement.\n",
      "WARNING: Target directory C:\\Users\\chira\\AppData\\Local\\Programs\\Python\\Python36\\lib\\site-packages\\six.py already exists. Specify --upgrade to force replacement.\n",
      "WARNING: Target directory C:\\Users\\chira\\AppData\\Local\\Programs\\Python\\Python36\\lib\\site-packages\\tensorboard already exists. Specify --upgrade to force replacement.\n",
      "WARNING: Target directory C:\\Users\\chira\\AppData\\Local\\Programs\\Python\\Python36\\lib\\site-packages\\tensorboard_data_server already exists. Specify --upgrade to force replacement.\n",
      "WARNING: Target directory C:\\Users\\chira\\AppData\\Local\\Programs\\Python\\Python36\\lib\\site-packages\\tensorboard_data_server-0.6.1.dist-info already exists. Specify --upgrade to force replacement.\n",
      "WARNING: Target directory C:\\Users\\chira\\AppData\\Local\\Programs\\Python\\Python36\\lib\\site-packages\\tensorboard_plugin_wit already exists. Specify --upgrade to force replacement.\n",
      "WARNING: Target directory C:\\Users\\chira\\AppData\\Local\\Programs\\Python\\Python36\\lib\\site-packages\\tensorboard_plugin_wit-1.8.1.dist-info already exists. Specify --upgrade to force replacement.\n",
      "WARNING: Target directory C:\\Users\\chira\\AppData\\Local\\Programs\\Python\\Python36\\lib\\site-packages\\tensorflow already exists. Specify --upgrade to force replacement.\n",
      "WARNING: Target directory C:\\Users\\chira\\AppData\\Local\\Programs\\Python\\Python36\\lib\\site-packages\\tensorflow_estimator already exists. Specify --upgrade to force replacement.\n",
      "WARNING: Target directory C:\\Users\\chira\\AppData\\Local\\Programs\\Python\\Python36\\lib\\site-packages\\termcolor.py already exists. Specify --upgrade to force replacement.\n",
      "WARNING: Target directory C:\\Users\\chira\\AppData\\Local\\Programs\\Python\\Python36\\lib\\site-packages\\typing_extensions-4.3.0.dist-info already exists. Specify --upgrade to force replacement.\n",
      "WARNING: Target directory C:\\Users\\chira\\AppData\\Local\\Programs\\Python\\Python36\\lib\\site-packages\\typing_extensions.py already exists. Specify --upgrade to force replacement.\n",
      "WARNING: Target directory C:\\Users\\chira\\AppData\\Local\\Programs\\Python\\Python36\\lib\\site-packages\\urllib3 already exists. Specify --upgrade to force replacement.\n",
      "WARNING: Target directory C:\\Users\\chira\\AppData\\Local\\Programs\\Python\\Python36\\lib\\site-packages\\urllib3-1.26.12.dist-info already exists. Specify --upgrade to force replacement.\n",
      "WARNING: Target directory C:\\Users\\chira\\AppData\\Local\\Programs\\Python\\Python36\\lib\\site-packages\\werkzeug already exists. Specify --upgrade to force replacement.\n",
      "WARNING: Target directory C:\\Users\\chira\\AppData\\Local\\Programs\\Python\\Python36\\lib\\site-packages\\wheel already exists. Specify --upgrade to force replacement.\n",
      "WARNING: Target directory C:\\Users\\chira\\AppData\\Local\\Programs\\Python\\Python36\\lib\\site-packages\\wheel-0.37.1.dist-info already exists. Specify --upgrade to force replacement.\n",
      "WARNING: Target directory C:\\Users\\chira\\AppData\\Local\\Programs\\Python\\Python36\\lib\\site-packages\\wrapt already exists. Specify --upgrade to force replacement.\n",
      "WARNING: Target directory C:\\Users\\chira\\AppData\\Local\\Programs\\Python\\Python36\\lib\\site-packages\\zipp-3.8.1.dist-info already exists. Specify --upgrade to force replacement.\n",
      "WARNING: Target directory C:\\Users\\chira\\AppData\\Local\\Programs\\Python\\Python36\\lib\\site-packages\\zipp.py already exists. Specify --upgrade to force replacement.\n",
      "WARNING: Target directory C:\\Users\\chira\\AppData\\Local\\Programs\\Python\\Python36\\lib\\site-packages\\_distutils_hack already exists. Specify --upgrade to force replacement.\n",
      "WARNING: Target directory C:\\Users\\chira\\AppData\\Local\\Programs\\Python\\Python36\\lib\\site-packages\\__pycache__ already exists. Specify --upgrade to force replacement.\n",
      "WARNING: Target directory C:\\Users\\chira\\AppData\\Local\\Programs\\Python\\Python36\\lib\\site-packages\\bin already exists. Specify --upgrade to force replacement.\n"
     ]
    }
   ],
   "source": [
    "!pip install tensorflow "
   ]
  },
  {
   "cell_type": "code",
   "execution_count": 13,
   "id": "31eabc3f",
   "metadata": {},
   "outputs": [
    {
     "name": "stdout",
     "output_type": "stream",
     "text": [
      "Python 3.8.8\n"
     ]
    }
   ],
   "source": [
    "!python --version"
   ]
  },
  {
   "cell_type": "code",
   "execution_count": 15,
   "id": "09b7e1a7",
   "metadata": {},
   "outputs": [
    {
     "name": "stderr",
     "output_type": "stream",
     "text": [
      "'tensorflow' is not recognized as an internal or external command,\n",
      "operable program or batch file.\n"
     ]
    }
   ],
   "source": []
  },
  {
   "cell_type": "code",
   "execution_count": 9,
   "id": "eb2210be",
   "metadata": {},
   "outputs": [
    {
     "name": "stdout",
     "output_type": "stream",
     "text": [
      "Collecting keras==2.7\n",
      "  Using cached keras-2.7.0-py2.py3-none-any.whl (1.3 MB)\n",
      "Installing collected packages: keras\n",
      "Successfully installed keras-2.7.0\n"
     ]
    },
    {
     "name": "stderr",
     "output_type": "stream",
     "text": [
      "WARNING: Target directory C:\\Users\\chira\\AppData\\Local\\Programs\\Python\\Python36\\lib\\site-packages\\keras already exists. Specify --upgrade to force replacement.\n"
     ]
    }
   ],
   "source": [
    "!pip install keras==2.7\n"
   ]
  },
  {
   "cell_type": "code",
   "execution_count": 12,
   "id": "007fdd5f",
   "metadata": {},
   "outputs": [],
   "source": [
    "#Import libraries for 1st model in keras\n",
    "from keras.models import Sequential\n",
    "from keras.layers import Dense\n",
    "import numpy"
   ]
  },
  {
   "cell_type": "code",
   "execution_count": 16,
   "id": "b4c1323e",
   "metadata": {},
   "outputs": [],
   "source": [
    "seed = 7\n",
    "numpy.random.seed(seed)\n",
    "\n",
    "#load pima indians diabetes dataset\n",
    "dataset = numpy.loadtxt(\"/Users/chira/Downloads/pima-indians-diabetes.data.csv\",delimiter =\",\")"
   ]
  },
  {
   "cell_type": "code",
   "execution_count": 18,
   "id": "8c0e3f13",
   "metadata": {},
   "outputs": [
    {
     "data": {
      "text/plain": [
       "array([[  6.   , 148.   ,  72.   , ...,   0.627,  50.   ,   1.   ],\n",
       "       [  1.   ,  85.   ,  66.   , ...,   0.351,  31.   ,   0.   ],\n",
       "       [  8.   , 183.   ,  64.   , ...,   0.672,  32.   ,   1.   ],\n",
       "       ...,\n",
       "       [  5.   , 121.   ,  72.   , ...,   0.245,  30.   ,   0.   ],\n",
       "       [  1.   , 126.   ,  60.   , ...,   0.349,  47.   ,   1.   ],\n",
       "       [  1.   ,  93.   ,  70.   , ...,   0.315,  23.   ,   0.   ]])"
      ]
     },
     "execution_count": 18,
     "metadata": {},
     "output_type": "execute_result"
    }
   ],
   "source": [
    "dataset"
   ]
  },
  {
   "cell_type": "code",
   "execution_count": 17,
   "id": "1e384728",
   "metadata": {},
   "outputs": [],
   "source": [
    "# Split the dataet into X and Y\n",
    "\n",
    "x=dataset[:,0:8]\n",
    "y = dataset[:,8]"
   ]
  },
  {
   "cell_type": "code",
   "execution_count": null,
   "id": "a04db1df",
   "metadata": {},
   "outputs": [],
   "source": [
    "# create the model\n",
    "\n",
    "model = Sequential()\n",
    "model.add(Dense(12,))"
   ]
  }
 ],
 "metadata": {
  "kernelspec": {
   "display_name": "Python 3",
   "language": "python",
   "name": "python3"
  },
  "language_info": {
   "codemirror_mode": {
    "name": "ipython",
    "version": 3
   },
   "file_extension": ".py",
   "mimetype": "text/x-python",
   "name": "python",
   "nbconvert_exporter": "python",
   "pygments_lexer": "ipython3",
   "version": "3.8.8"
  }
 },
 "nbformat": 4,
 "nbformat_minor": 5
}

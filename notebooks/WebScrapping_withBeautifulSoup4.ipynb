{
 "cells": [
  {
   "cell_type": "code",
   "execution_count": 21,
   "id": "5e51f934-8b6b-4116-a8e6-f96e11e0a2e0",
   "metadata": {},
   "outputs": [],
   "source": [
    "from bs4 import BeautifulSoup\n",
    "import requests"
   ]
  },
  {
   "cell_type": "code",
   "execution_count": 22,
   "id": "cefddfdc-8c84-454f-8d9c-cf7ee2c0760e",
   "metadata": {},
   "outputs": [],
   "source": [
    "url = \"https://www.tutorac.com/category/all-categories\"\n",
    "req = requests.get(url)\n",
    "\n",
    "soup = BeautifulSoup(req.text,\"html.parser\")"
   ]
  },
  {
   "cell_type": "code",
   "execution_count": 23,
   "id": "7fa4a8ef-0875-4318-9678-57469f9e2681",
   "metadata": {},
   "outputs": [
    {
     "name": "stdout",
     "output_type": "stream",
     "text": [
      "<title>TutoRac</title>\n"
     ]
    }
   ],
   "source": [
    "print(soup.title)"
   ]
  },
  {
   "cell_type": "code",
   "execution_count": 24,
   "id": "8ddf1a9b-76ee-44b9-8494-a2141e3a9873",
   "metadata": {},
   "outputs": [
    {
     "name": "stdout",
     "output_type": "stream",
     "text": [
      "<!DOCTYPE html>\n",
      "\n",
      "<html lang=\"en\">\n",
      "<head>\n",
      "<meta charset=\"utf-8\"/>\n",
      "<title>TutoRac</title>\n",
      "<base href=\"/\"/>\n",
      "<meta content=\"index, follow\" name=\"robots\"/>\n",
      "<meta content=\"width=device-width, initial-scale=1\" name=\"viewport\"/>\n",
      "<meta content=\"tutorac, tuto rac, tutoRac, Tutorac\" name=\"keywords\"/>\n",
      "<meta content=\"Tutorac is an innovative ed-tech platform that solves various tutoring and learning problems, all in one place. Tutorac is a peer-to-peer ed-tech platform designed to connect students and tutors together that does two key things. For students, it can help them increase career prospects, earn more money and give access to education that previously required to be face to face. For tutors, it gives them a platform to share their knowledge with not only their local area but the world as well as an easy-to-manage solution that does not charge excessive fees whilst earning this income.\" name=\"description\"/>\n",
      "<meta content=\"1133901047467397\" property=\"fb:app_id\">\n",
      "<meta content=\"article\" property=\"og:type\">\n",
      "<meta content=\"https://tutolancer.com/assets/images/logo.png\" property=\"og:image\">\n",
      "<meta content=\"TutoRac\" property=\"og:site_name\">\n",
      "<meta content=\"TutoRac\" property=\"og:title\">\n",
      "<meta content=\"https://tutorac.com/\" property=\"og:url\"/>\n",
      "<meta content=\"Tutorac is an innovative ed-tech platform that solves various tutoring and learning problems, all in one place. Tutorac is a peer-to-peer ed-tech platform designed to connect students and tutors together that does two key things. For students, it can help them increase career prospects, earn more money and give access to education that previously required to be face to face. For tutors, it gives them a platform to share their knowledge with not only their local area but the world as well as an easy-to-manage solution that does not charge excessive fees whilst earning this income.\" property=\"og:description\"/>\n",
      "<meta content=\"https://tutolancer.com/assets/images/logo.png\" name=\"image\"/>\n",
      "<meta content=\"summary_large_image\" name=\"twitter:card\"/>\n",
      "<meta content=\"https://tutolancer.com/assets/images/logo.png\" name=\"twitter:image\"/>\n",
      "<meta content=\"TutoRac\" name=\"twitter:title\"/>\n",
      "<meta content=\"https://tutorac.com/\" name=\"twitter:url\"/>\n",
      "<meta content=\"Tutorac is an innovative ed-tech platform that solves various tutoring and learning problems, all in one place. Tutorac is a peer-to-peer ed-tech platform designed to connect students and tutors together that does two key things. For students, it can help them increase career prospects, earn more money and give access to education that previously required to be face to face. For tutors, it gives them a platform to share their knowledge with not only their local area but the world as well as an easy-to-manage solution that does not charge excessive fees whilst earning this income.\" name=\"twitter:description\"/>\n",
      "<link href=\"assets/images/favicon.ico\" rel=\"icon\" type=\"image/x-icon\"/>\n",
      "<meta content=\"zt4q3b9inlmftmjcb6nwokyuik2c3w\" name=\"facebook-domain-verification\"/>\n",
      "<meta content=\"uYEyW5w0VBVNJBx5Hbq6WtcKEb-sJ0wYSBCr5YtW7wY\" name=\"google-site-verification\"/>\n",
      "<script async=\"\" crossorigin=\"anonymous\" defer=\"\" src=\"https://kit.fontawesome.com/f1d76b6927.js\"></script>\n",
      "<link href=\"styles.c2a7b4c7ea22aba3bd22.css\" rel=\"stylesheet\"/></meta></meta></meta></meta></meta></head>\n",
      "<body>\n",
      "<!-- Google Tag Manager (noscript) -->\n",
      "<noscript>\n",
      "<iframe height=\"0\" src=\"https://www.googletagmanager.com/ns.html?id=GTM-M6ZC978\" style=\"display:none;visibility:hidden\" width=\"0\"></iframe>\n",
      "</noscript>\n",
      "<!-- End Google Tag Manager (noscript) -->\n",
      "<noscript>You need to enable JavaScript to run this app.</noscript>\n",
      "<app-root></app-root>\n",
      "<script defer=\"\" src=\"runtime.8fdce1f9f4626c36eed5.js\"></script><script defer=\"\" src=\"polyfills.a98bd9edf0b1e6ee60d7.js\"></script><script defer=\"\" src=\"scripts.8af5f37535c210ce5f57.js\"></script><script defer=\"\" src=\"main.bf953a750991a26f49c3.js\"></script></body>\n",
      "<script async=\"\" defer=\"\" src=\"assets/marvin-js/js/lib/jquery-1.9.1.min.js\"></script>\n",
      "<script async=\"\" defer=\"\" src=\"assets/marvin-js/js/marvinjslauncher.js\"></script>\n",
      "<script>\n",
      "  var marvin;\n",
      "</script>\n",
      "<script src=\"https://js.stripe.com/v3/\"></script>\n",
      "<script async=\"\" defer=\"\" src=\"https://cdnjs.cloudflare.com/ajax/libs/mathjax/2.7.7/latest.js?config=TeX-AMS-MML_HTMLorMML\"></script>\n",
      "<script async=\"\" defer=\"\" id=\"math-jsx-custom\" type=\"text/x-mathjax-config\">\n",
      "  MathJax.Hub.Config({\n",
      "    CommonHTML: { \n",
      "      linebreaks: { automatic: true },\n",
      "      scale: 82 \n",
      "    },\n",
      "    \"HTML-CSS\": {\n",
      "      linebreaks: { automatic: true },\n",
      "      scale: 82     \n",
      "    },\n",
      "    SVG: { \n",
      "      linebreaks: { automatic: true },\n",
      "      scale: 82 \n",
      "    }\n",
      "  });\n",
      "</script>\n",
      "<!-- Google Tag Manager -->\n",
      "<script async=\"\" defer=\"\">\n",
      "  (function (w, d, s, l, i) {\n",
      "    w[l] = w[l] || []; w[l].push({\n",
      "      'gtm.start':\n",
      "        new Date().getTime(), event: 'gtm.js'\n",
      "    }); var f = d.getElementsByTagName(s)[0],\n",
      "      j = d.createElement(s), dl = l != 'dataLayer' ? '&l=' + l : ''; j.async = true; j.src =\n",
      "        'https://www.googletagmanager.com/gtm.js?id=' + i + dl; f.parentNode.insertBefore(j, f);\n",
      "  })(window, document, 'script', 'dataLayer', 'GTM-M6ZC978');\n",
      "</script>\n",
      "<!-- End Google Tag Manager -->\n",
      "<!-- Meta Pixel Code -->\n",
      "<script async=\"\" defer=\"\">\n",
      "  !function (f, b, e, v, n, t, s) {\n",
      "    if (f.fbq) return; n = f.fbq = function () {\n",
      "      n.callMethod ?\n",
      "        n.callMethod.apply(n, arguments) : n.queue.push(arguments)\n",
      "    };\n",
      "    if (!f._fbq) f._fbq = n; n.push = n; n.loaded = !0; n.version = '2.0';\n",
      "    n.queue = []; t = b.createElement(e); t.async = !0;\n",
      "    t.src = v; s = b.getElementsByTagName(e)[0];\n",
      "    s.parentNode.insertBefore(t, s)\n",
      "  }(window, document, 'script',\n",
      "    'https://connect.facebook.net/en_US/fbevents.js');\n",
      "  fbq('init', '1327557854431041');\n",
      "  fbq('track', 'PageView');\n",
      "</script>\n",
      "<noscript>\n",
      "<img height=\"1\" src=\"https://www.facebook.com/tr?id=1327557854431041&amp;ev=PageView&amp;noscript=1\" style=\"display:none\" width=\"1\"/>\n",
      "</noscript>\n",
      "<!-- End Meta Pixel Code -->\n",
      "<!-- Start Active Campaign Code -->\n",
      "<!-- <script async defer type=\"text/javascript\">\n",
      "  (function (e, t, o, n, p, r, i) {\n",
      "    e.visitorGlobalObjectAlias = n; e[e.visitorGlobalObjectAlias] = e[e.visitorGlobalObjectAlias] || function () { (e[e.visitorGlobalObjectAlias].q = e[e.visitorGlobalObjectAlias].q || []).push(arguments) }; e[e.visitorGlobalObjectAlias].l = (new Date).getTime(); r = t.createElement(\"script\"); r.src = o; r.async = true; i = t.getElementsByTagName(\"script\")[0]; i.parentNode.insertBefore(r, i)\n",
      "  })(window, document, \"https://diffuser-cdn.app-us1.com/diffuser/diffuser.js\", \"vgo\");\n",
      "\n",
      "  vgo('setAccount', '1002071268');\n",
      "  vgo('setTrackByDefault', true);\n",
      "  vgo('process');\n",
      "</script> -->\n",
      "<!-- End Active Campaign Code -->\n",
      "<!-- Start Moengage Code -->\n",
      "<script async=\"\" defer=\"\" type=\"text/javascript\">\n",
      "  (function (i, s, o, g, r, a, m, n) {\n",
      "    i.moengage_object = r; t = {}; q = function (f) { return function () { (i.moengage_q = i.moengage_q || []).push({ f: f, a: arguments }) } }; f = ['track_event', 'destroy_session', 'add_unique_user_id', 'moe_events', 'call_web_push', 'track', 'location_type_attribute'], h = { onsite: [\"getData\", \"registerCallback\"] }; for (k\n",
      "      in f) { t[f[k]] = q(f[k]) } for (k in h) for (l in h[k]) { null == t[k] && (t[k] = {}), t[k][h[k][l]] = q(k + \".\" + h[k][l]) } a = s.createElement(o); m = s.getElementsByTagName(o)[0]; a.async = 1; a.src = g; m.parentNode.insertBefore(a, m); i.moe = i.moe || function () { n = arguments[0]; return t }; a.onload = function () { if (n) { i[r] = moe(n) } }\n",
      "  })(window, document, 'script', 'https://cdn.moengage.com/webpush/moe_webSdk.min.latest.js', 'Moengage')\n",
      "\n",
      "  Moengage = moe({\n",
      "    app_id: \"KDRW0HU5U75NOZN51AEFIFIO\",\n",
      "    debug_logs: 1,\n",
      "    cluster: \"DC_3\",\n",
      "    disable_onsite: true,\n",
      "    swPath: \"/serviceworker.js\",\n",
      "    swScope: '/'\n",
      "  });\n",
      "</script>\n",
      "<!-- End Moengage Code -->\n",
      "</html>\n"
     ]
    }
   ],
   "source": [
    "print(soup)"
   ]
  },
  {
   "cell_type": "code",
   "execution_count": 27,
   "id": "eab45576-396e-48d3-826d-767819199d65",
   "metadata": {},
   "outputs": [
    {
     "name": "stdout",
     "output_type": "stream",
     "text": [
      "assets/images/favicon.ico\n",
      "styles.c2a7b4c7ea22aba3bd22.css\n"
     ]
    }
   ],
   "source": [
    "for link in soup.find_all('link'):\n",
    "    print(link.get('href'))"
   ]
  },
  {
   "cell_type": "code",
   "execution_count": 29,
   "id": "490febcf-7864-43cb-a078-2bb8c108d374",
   "metadata": {},
   "outputs": [
    {
     "name": "stdout",
     "output_type": "stream",
     "text": [
      "None\n",
      "index, follow\n",
      "width=device-width, initial-scale=1\n",
      "tutorac, tuto rac, tutoRac, Tutorac\n",
      "Tutorac is an innovative ed-tech platform that solves various tutoring and learning problems, all in one place. Tutorac is a peer-to-peer ed-tech platform designed to connect students and tutors together that does two key things. For students, it can help them increase career prospects, earn more money and give access to education that previously required to be face to face. For tutors, it gives them a platform to share their knowledge with not only their local area but the world as well as an easy-to-manage solution that does not charge excessive fees whilst earning this income.\n",
      "1133901047467397\n",
      "article\n",
      "https://tutolancer.com/assets/images/logo.png\n",
      "TutoRac\n",
      "TutoRac\n",
      "https://tutorac.com/\n",
      "Tutorac is an innovative ed-tech platform that solves various tutoring and learning problems, all in one place. Tutorac is a peer-to-peer ed-tech platform designed to connect students and tutors together that does two key things. For students, it can help them increase career prospects, earn more money and give access to education that previously required to be face to face. For tutors, it gives them a platform to share their knowledge with not only their local area but the world as well as an easy-to-manage solution that does not charge excessive fees whilst earning this income.\n",
      "https://tutolancer.com/assets/images/logo.png\n",
      "summary_large_image\n",
      "https://tutolancer.com/assets/images/logo.png\n",
      "TutoRac\n",
      "https://tutorac.com/\n",
      "Tutorac is an innovative ed-tech platform that solves various tutoring and learning problems, all in one place. Tutorac is a peer-to-peer ed-tech platform designed to connect students and tutors together that does two key things. For students, it can help them increase career prospects, earn more money and give access to education that previously required to be face to face. For tutors, it gives them a platform to share their knowledge with not only their local area but the world as well as an easy-to-manage solution that does not charge excessive fees whilst earning this income.\n",
      "zt4q3b9inlmftmjcb6nwokyuik2c3w\n",
      "uYEyW5w0VBVNJBx5Hbq6WtcKEb-sJ0wYSBCr5YtW7wY\n"
     ]
    }
   ],
   "source": [
    "for meta in soup.find_all('meta'):\n",
    "    print(meta.get('content'))"
   ]
  },
  {
   "cell_type": "code",
   "execution_count": null,
   "id": "983b884e-9518-4821-a28e-83d757361df4",
   "metadata": {},
   "outputs": [],
   "source": []
  }
 ],
 "metadata": {
  "kernelspec": {
   "display_name": "Python 3",
   "language": "python",
   "name": "python3"
  },
  "language_info": {
   "codemirror_mode": {
    "name": "ipython",
    "version": 3
   },
   "file_extension": ".py",
   "mimetype": "text/x-python",
   "name": "python",
   "nbconvert_exporter": "python",
   "pygments_lexer": "ipython3",
   "version": "3.8.8"
  }
 },
 "nbformat": 4,
 "nbformat_minor": 5
}

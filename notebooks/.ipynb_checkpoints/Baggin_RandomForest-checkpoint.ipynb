{
 "cells": [
  {
   "cell_type": "code",
   "execution_count": 2,
   "id": "78573823-bad3-44b1-9745-160515968196",
   "metadata": {},
   "outputs": [],
   "source": [
    "# importing libraries\n",
    "\n",
    "from pandas import read_csv\n",
    "from sklearn.model_selection import KFold\n",
    "from sklearn.model_selection import cross_val_score\n",
    "\n",
    "from sklearn.ensemble import BaggingClassifier\n",
    "from sklearn.tree import DecisionTreeClassifier\n",
    "\n",
    "filename = '/Users/chira/Downloads/pima-indians-diabetes.data.csv'"
   ]
  },
  {
   "cell_type": "code",
   "execution_count": 3,
   "id": "2d219fd1-04ba-4486-80c6-b39fa1a14302",
   "metadata": {},
   "outputs": [],
   "source": [
    "names = ['preg','plas','pres','skin','test','mass','pedi','age','class']\n",
    "dataframe = read_csv(filename,names=names)"
   ]
  },
  {
   "cell_type": "code",
   "execution_count": 4,
   "id": "94d296b2-9a66-4a80-a61d-b2f537b61c40",
   "metadata": {},
   "outputs": [],
   "source": [
    "array = dataframe.values"
   ]
  },
  {
   "cell_type": "code",
   "execution_count": 5,
   "id": "3b1c684a-98f4-4017-817a-f0550d59e567",
   "metadata": {},
   "outputs": [],
   "source": [
    "#dividing dataset into x and Y\n",
    "\n",
    "x = array[:,0:8]\n",
    "y  = array[:,8]\n"
   ]
  },
  {
   "cell_type": "code",
   "execution_count": 6,
   "id": "81d39c6b-7182-4b57-9751-7904c3f35343",
   "metadata": {},
   "outputs": [
    {
     "name": "stdout",
     "output_type": "stream",
     "text": [
      "0.7564422419685577\n"
     ]
    }
   ],
   "source": [
    "kfold = KFold(n_splits=10)\n",
    "cart = DecisionTreeClassifier()\n",
    "num_trees = 100\n",
    "\n",
    "#building the model\n",
    "\n",
    "model = BaggingClassifier(base_estimator= cart,n_estimators = num_trees)\n",
    "results = cross_val_score(model,x,y,cv=kfold)\n",
    "print(results.mean())"
   ]
  },
  {
   "cell_type": "code",
   "execution_count": 7,
   "id": "d505666a-738c-4f69-9e49-2619cd4bf578",
   "metadata": {},
   "outputs": [
    {
     "data": {
      "text/plain": [
       "array([0.64935065, 0.84415584, 0.71428571, 0.62337662, 0.79220779,\n",
       "       0.79220779, 0.84415584, 0.84415584, 0.67105263, 0.78947368])"
      ]
     },
     "execution_count": 7,
     "metadata": {},
     "output_type": "execute_result"
    }
   ],
   "source": [
    "results "
   ]
  },
  {
   "cell_type": "markdown",
   "id": "81a9d35a-aeb0-4acc-908a-7f228a7bc7ba",
   "metadata": {},
   "source": [
    "## Random Forest Classifier "
   ]
  },
  {
   "cell_type": "code",
   "execution_count": 8,
   "id": "47534b0a-4c0d-4218-bb0b-26336d9932b5",
   "metadata": {},
   "outputs": [
    {
     "name": "stdout",
     "output_type": "stream",
     "text": [
      "0.7564593301435407\n"
     ]
    }
   ],
   "source": [
    "\n",
    "#import the libraries\n",
    "\n",
    "from pandas import read_csv\n",
    "from sklearn.model_selection import KFold\n",
    "from sklearn.model_selection import cross_val_score\n",
    "from sklearn.ensemble import RandomForestClassifier\n",
    "\n",
    "x = array[:,0:8]\n",
    "y  = array[:,8]\n",
    "\n",
    "\n",
    "num_trees = 100\n",
    "max_features = 3\n",
    "\n",
    "kfold== KFold(n_splits=10)\n",
    "model = RandomForestClassifier(n_estimators = num_trees,max_features = max_features)\n",
    "\n",
    "results = cross_val_score(model,x,y,cv=kfold)\n",
    "print(results.mean())"
   ]
  },
  {
   "cell_type": "code",
   "execution_count": 9,
   "id": "1ca113fd-4e77-4afa-a3c3-691ffa94b8c0",
   "metadata": {},
   "outputs": [
    {
     "data": {
      "text/plain": [
       "array([0.7012987 , 0.81818182, 0.71428571, 0.61038961, 0.79220779,\n",
       "       0.80519481, 0.81818182, 0.83116883, 0.68421053, 0.78947368])"
      ]
     },
     "execution_count": 9,
     "metadata": {},
     "output_type": "execute_result"
    }
   ],
   "source": [
    "results"
   ]
  },
  {
   "cell_type": "code",
   "execution_count": null,
   "id": "de55cc1a-ed45-482d-a767-4b0108bd53c6",
   "metadata": {},
   "outputs": [],
   "source": []
  }
 ],
 "metadata": {
  "kernelspec": {
   "display_name": "Python 3",
   "language": "python",
   "name": "python3"
  },
  "language_info": {
   "codemirror_mode": {
    "name": "ipython",
    "version": 3
   },
   "file_extension": ".py",
   "mimetype": "text/x-python",
   "name": "python",
   "nbconvert_exporter": "python",
   "pygments_lexer": "ipython3",
   "version": "3.8.8"
  }
 },
 "nbformat": 4,
 "nbformat_minor": 5
}

{
 "cells": [
  {
   "cell_type": "markdown",
   "id": "90e2d7a3-20b7-4f9f-8b14-74a415d13f33",
   "metadata": {},
   "source": [
    "## Boosting Adaboost"
   ]
  },
  {
   "cell_type": "code",
   "execution_count": 14,
   "id": "e69617ea-2515-4e46-b08d-b6877d1be777",
   "metadata": {},
   "outputs": [],
   "source": [
    "# Importing libraries\n",
    "\n",
    "from pandas import read_csv\n",
    "from sklearn.model_selection import KFold\n",
    "from sklearn.model_selection import cross_val_score\n",
    "\n",
    "from sklearn.ensemble import AdaBoostClassifier\n",
    "\n"
   ]
  },
  {
   "cell_type": "code",
   "execution_count": 16,
   "id": "f2977f11-9832-4a31-ad22-4f71bd7676b6",
   "metadata": {},
   "outputs": [],
   "source": [
    "filename = 'pima-indians-diabetes.data.csv'\n",
    "\n",
    "names=['preg','plas','pres','skin','test','mass','pedi','age','class']\n",
    "\n",
    "dataframe = read_csv(filename,names=names)\n",
    "\n",
    "array = dataframe.values\n",
    "\n",
    "#divide dataset into x and y\n",
    "x = array[:,0:8]\n",
    "y = array[:,8]\n",
    "\n",
    "\n"
   ]
  },
  {
   "cell_type": "code",
   "execution_count": null,
   "id": "5f2e2206-e30f-4459-8d72-c0656b0a45c0",
   "metadata": {},
   "outputs": [],
   "source": [
    "num_trees =  25"
   ]
  },
  {
   "cell_type": "code",
   "execution_count": 17,
   "id": "9fdf70b1-650d-438f-ba41-61e682161849",
   "metadata": {},
   "outputs": [],
   "source": [
    "kfold = KFold(n_splits = 10)\n",
    "\n",
    "model = AdaBoostClassifier(n_estimators=num_trees)\n",
    "results = cross_val_score(model,x,y,cv = kfold)"
   ]
  },
  {
   "cell_type": "code",
   "execution_count": 18,
   "id": "a310969c-42ac-497c-9826-d14f605c25dd",
   "metadata": {},
   "outputs": [
    {
     "data": {
      "text/plain": [
       "array([0.64935065, 0.84415584, 0.7012987 , 0.7012987 , 0.75324675,\n",
       "       0.80519481, 0.80519481, 0.83116883, 0.72368421, 0.78947368])"
      ]
     },
     "execution_count": 18,
     "metadata": {},
     "output_type": "execute_result"
    }
   ],
   "source": [
    "results"
   ]
  },
  {
   "cell_type": "code",
   "execution_count": 19,
   "id": "c637e83c-56f9-4f7a-832d-49d168f3e522",
   "metadata": {},
   "outputs": [
    {
     "data": {
      "text/plain": [
       "0.7604066985645933"
      ]
     },
     "execution_count": 19,
     "metadata": {},
     "output_type": "execute_result"
    }
   ],
   "source": [
    "results.mean()"
   ]
  },
  {
   "cell_type": "code",
   "execution_count": null,
   "id": "4e58f457-6d11-4391-ae54-9a086b1f9dc9",
   "metadata": {},
   "outputs": [],
   "source": []
  }
 ],
 "metadata": {
  "kernelspec": {
   "display_name": "Python 3",
   "language": "python",
   "name": "python3"
  },
  "language_info": {
   "codemirror_mode": {
    "name": "ipython",
    "version": 3
   },
   "file_extension": ".py",
   "mimetype": "text/x-python",
   "name": "python",
   "nbconvert_exporter": "python",
   "pygments_lexer": "ipython3",
   "version": "3.8.8"
  }
 },
 "nbformat": 4,
 "nbformat_minor": 5
}

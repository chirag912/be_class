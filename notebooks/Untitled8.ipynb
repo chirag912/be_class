{
 "cells": [
  {
   "cell_type": "code",
   "execution_count": 6,
   "id": "44b17ee8",
   "metadata": {},
   "outputs": [
    {
     "name": "stdout",
     "output_type": "stream",
     "text": [
      "Collecting bs4\n",
      "  Using cached bs4-0.0.1.tar.gz (1.1 kB)\n",
      "Requirement already satisfied: beautifulsoup4 in c:\\users\\chira\\anaconda3\\lib\\site-packages (from bs4) (4.9.3)\n",
      "Requirement already satisfied: soupsieve>1.2 in c:\\users\\chira\\anaconda3\\lib\\site-packages (from beautifulsoup4->bs4) (2.2.1)\n",
      "Building wheels for collected packages: bs4\n",
      "  Building wheel for bs4 (setup.py): started\n",
      "  Building wheel for bs4 (setup.py): finished with status 'done'\n",
      "  Created wheel for bs4: filename=bs4-0.0.1-py3-none-any.whl size=1273 sha256=8eaf0d47ff586b6c087c1b657a5547a4b57d401ddc5c2b7fc9dcb0e626013afa\n",
      "  Stored in directory: c:\\users\\chira\\appdata\\local\\pip\\cache\\wheels\\75\\78\\21\\68b124549c9bdc94f822c02fb9aa3578a669843f9767776bca\n",
      "Successfully built bs4\n",
      "Installing collected packages: bs4\n",
      "Successfully installed bs4-0.0.1\n"
     ]
    }
   ],
   "source": [
    "!pip install bs4"
   ]
  },
  {
   "cell_type": "code",
   "execution_count": 7,
   "id": "4a00d789",
   "metadata": {},
   "outputs": [],
   "source": [
    "import requests\n",
    "from bs4 import BeautifulSoup\n",
    "from pprint import pprint"
   ]
  },
  {
   "cell_type": "code",
   "execution_count": 8,
   "id": "9ae0fdf2",
   "metadata": {},
   "outputs": [],
   "source": [
    "url = 'https://selfregistration.cowin.gov.in/'\n",
    "data = requests.get(url)"
   ]
  },
  {
   "cell_type": "code",
   "execution_count": 9,
   "id": "aabaddfc",
   "metadata": {},
   "outputs": [
    {
     "data": {
      "text/plain": [
       "<Response [200]>"
      ]
     },
     "execution_count": 9,
     "metadata": {},
     "output_type": "execute_result"
    }
   ],
   "source": [
    "data"
   ]
  },
  {
   "cell_type": "code",
   "execution_count": 10,
   "id": "2bdfecb6",
   "metadata": {},
   "outputs": [],
   "source": [
    "html = BeautifulSoup(data.text, 'html.parser')\n",
    "articles = html.select('a.post-card')"
   ]
  },
  {
   "cell_type": "code",
   "execution_count": 11,
   "id": "6fd68de2",
   "metadata": {},
   "outputs": [
    {
     "name": "stdout",
     "output_type": "stream",
     "text": [
      "<!DOCTYPE html>\n",
      "\n",
      "<html lang=\"en\">\n",
      "<head>\n",
      "<meta charset=\"utf-8\"/>\n",
      "<title>CoWIN Application</title>\n",
      "<base href=\"/\"/>\n",
      "<meta content=\"light dark\" name=\"color-scheme\"/>\n",
      "<meta content=\"viewport-fit=cover, width=device-width, initial-scale=1.0, minimum-scale=1.0, maximum-scale=1.0, user-scalable=no\" name=\"viewport\"/>\n",
      "<meta content=\"telephone=no\" name=\"format-detection\"/>\n",
      "<meta content=\"no\" name=\"msapplication-tap-highlight\"/>\n",
      "<link href=\"/assets/images/favicon.ico\" rel=\"icon\" type=\"image/x-icon\"/>\n",
      "<!-- <link href=\"https://cdn.jsdelivr.net/npm/bootstrap@4.5.3/dist/css/bootstrap.min.css\" rel=\"stylesheet\" crossorigin=\"anonymous\" integrity=\"sha384-TX8t27EcRE3e/ihU7zmQxVncDAy5uIKz4rEkgIXeMed4M0jlfIDPvg6uqKI2xXr2\"> -->\n",
      "<!-- add to homescreen for ios -->\n",
      "<meta content=\"yes\" name=\"apple-mobile-web-app-capable\"/>\n",
      "<meta content=\"black\" name=\"apple-mobile-web-app-status-bar-style\"/>\n",
      "<link href=\"styles.7fe2971bbebd62a6201b.css\" rel=\"stylesheet\"/></head>\n",
      "<body>\n",
      "<app-root></app-root>\n",
      "<script src=\"runtime-es2015.2204955ce9cf32cff1ff.js\" type=\"module\"></script><script defer=\"\" nomodule=\"\" src=\"runtime-es5.2204955ce9cf32cff1ff.js\"></script><script defer=\"\" nomodule=\"\" src=\"polyfills-es5.2996549b72c57fd1c0ea.js\"></script><script src=\"polyfills-es2015.c48a2c9b540cf2484b8d.js\" type=\"module\"></script><script defer=\"\" src=\"scripts.3604a9e8f2c99e6de855.js\"></script><script src=\"main-es2015.b64f133c3565e25bd867.js\" type=\"module\"></script><script defer=\"\" nomodule=\"\" src=\"main-es5.b64f133c3565e25bd867.js\"></script></body>\n",
      "</html>\n",
      "\n"
     ]
    }
   ],
   "source": [
    "print(html)"
   ]
  },
  {
   "cell_type": "code",
   "execution_count": null,
   "id": "54303aa9",
   "metadata": {},
   "outputs": [],
   "source": []
  }
 ],
 "metadata": {
  "kernelspec": {
   "display_name": "Python 3",
   "language": "python",
   "name": "python3"
  },
  "language_info": {
   "codemirror_mode": {
    "name": "ipython",
    "version": 3
   },
   "file_extension": ".py",
   "mimetype": "text/x-python",
   "name": "python",
   "nbconvert_exporter": "python",
   "pygments_lexer": "ipython3",
   "version": "3.8.8"
  }
 },
 "nbformat": 4,
 "nbformat_minor": 5
}

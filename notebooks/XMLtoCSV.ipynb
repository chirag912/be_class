{
 "cells": [
  {
   "cell_type": "code",
   "execution_count": 1,
   "id": "f6550d87",
   "metadata": {},
   "outputs": [],
   "source": [
    "import glob\n",
    "import csv\n",
    "\n",
    "from bs4 import BeautifulSoup"
   ]
  },
  {
   "cell_type": "code",
   "execution_count": 2,
   "id": "ba89bd0e",
   "metadata": {},
   "outputs": [
    {
     "data": {
      "text/plain": [
       "56"
      ]
     },
     "execution_count": 2,
     "metadata": {},
     "output_type": "execute_result"
    }
   ],
   "source": [
    "#Create and Define CSV variable\n",
    "csv_file = open('scrape.csv', 'w')\n",
    "first_line = [\"filename\", \"width\", \"height\", \"class\", \"xmin\",\"ymin\",\"xmax\",\"ymax\",\"source\"]\n",
    "csv_writer = csv.writer(csv_file)\n",
    "csv_writer.writerow(first_line)"
   ]
  },
  {
   "cell_type": "code",
   "execution_count": 10,
   "id": "3f4ce4f7",
   "metadata": {},
   "outputs": [],
   "source": [
    "#User defined fuction for the fetching text out   \n",
    "def handle_soup(soup, csv_writer):\n",
    "    filename = soup.find('filename').text\n",
    "    print(filename)\n",
    "    \n",
    "    width = soup.find('width').text\n",
    "    print(width)\n",
    "    \n",
    "    height = soup.find('height').text\n",
    "    \n",
    "    classs = soup.find('class').text\n",
    "    \n",
    "    xmin = soup.find('xmin').text\n",
    "    \n",
    "    ymin = soup.find('ymin').text\n",
    "    \n",
    "    xmax = soup.find('xmax').text\n",
    "    \n",
    "    ymax = soup.find('xmax').text\n",
    "    \n",
    "    source = soup.find('source').text\n",
    "    \n",
    "    csv_writer.writerow([filename, width, height,classs,xmin,ymin,xmax,ymax,source])"
   ]
  },
  {
   "cell_type": "code",
   "execution_count": 11,
   "id": "9ab62bf9",
   "metadata": {},
   "outputs": [],
   "source": [
    "# Find the csv files in the folder and parse them into the handle_soup fucntion using Beautiful Soup\n",
    "\n",
    "for filename in glob.glob(\"C:/Users/chira/Downloads/Image_Dataset/Image_Dataset/*.xml\"):\n",
    "    with open(filename) as open_file:\n",
    "        content = open_file.read()\n",
    "        soup = BeautifulSoup(content, 'lxml')\n",
    "        handle_soup(soup, csv_writer)\n",
    "\n",
    "csv_file.close()"
   ]
  },
  {
   "cell_type": "code",
   "execution_count": 7,
   "id": "ac34e253",
   "metadata": {},
   "outputs": [
    {
     "ename": "SyntaxError",
     "evalue": "invalid syntax (<ipython-input-7-1870adf70434>, line 12)",
     "output_type": "error",
     "traceback": [
      "\u001b[1;36m  File \u001b[1;32m\"<ipython-input-7-1870adf70434>\"\u001b[1;36m, line \u001b[1;32m12\u001b[0m\n\u001b[1;33m    class = soup.find('class').text\u001b[0m\n\u001b[1;37m          ^\u001b[0m\n\u001b[1;31mSyntaxError\u001b[0m\u001b[1;31m:\u001b[0m invalid syntax\n"
     ]
    }
   ],
   "source": []
  },
  {
   "cell_type": "code",
   "execution_count": null,
   "id": "52144962",
   "metadata": {},
   "outputs": [],
   "source": []
  }
 ],
 "metadata": {
  "kernelspec": {
   "display_name": "Python 3",
   "language": "python",
   "name": "python3"
  },
  "language_info": {
   "codemirror_mode": {
    "name": "ipython",
    "version": 3
   },
   "file_extension": ".py",
   "mimetype": "text/x-python",
   "name": "python",
   "nbconvert_exporter": "python",
   "pygments_lexer": "ipython3",
   "version": "3.8.8"
  }
 },
 "nbformat": 4,
 "nbformat_minor": 5
}

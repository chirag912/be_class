{
 "cells": [
  {
   "cell_type": "markdown",
   "id": "1089c5c8-5c78-4468-8a08-df2e45d6d816",
   "metadata": {},
   "source": [
    "## Boosting AdaBoost"
   ]
  },
  {
   "cell_type": "code",
   "execution_count": 1,
   "id": "6414b1c6-0ef0-446a-b3a7-b05e50806cd8",
   "metadata": {
    "tags": []
   },
   "outputs": [],
   "source": [
    "# importing Librarires\n",
    "\n",
    "from pandas import read_csv\n",
    "from sklearn.model_selection import KFold\n",
    "from sklearn.model_selection import cross_val_score\n",
    "\n",
    "from sklearn.ensemble import AdaBoostClassifier "
   ]
  },
  {
   "cell_type": "code",
   "execution_count": 5,
   "id": "f015588b-1d13-4e06-a080-4b43850dc463",
   "metadata": {
    "tags": []
   },
   "outputs": [],
   "source": [
    "filename ='/home/chirag/jupyter/be_class/Datasets/pima-indians-diabetes.data.csv'\n",
    "\n",
    "names = ['preg','plas','pres','skin','test','mass','pedi','age','class']\n",
    "\n",
    "dataframe = read_csv(filename, names=names)"
   ]
  },
  {
   "cell_type": "code",
   "execution_count": 6,
   "id": "5bb92282-eef6-4a62-ac05-1a5084f0d356",
   "metadata": {
    "tags": []
   },
   "outputs": [],
   "source": [
    "array =dataframe.values\n",
    "\n",
    "#divide the dataset into x and y\n",
    "x =  array[:,0:8]\n",
    "y = array[:,8]"
   ]
  },
  {
   "cell_type": "code",
   "execution_count": 21,
   "id": "74dd3816-8f92-44ea-ac61-b04092a875b8",
   "metadata": {
    "tags": []
   },
   "outputs": [],
   "source": [
    "kfold = KFold(n_splits=10)\n",
    "\n",
    "model = AdaBoostClassifier(n_estimators=20)\n",
    "results = cross_val_score(model,x,y,cv=kfold)"
   ]
  },
  {
   "cell_type": "code",
   "execution_count": 22,
   "id": "a34c98a7-2402-4180-b49f-ac0bfc022946",
   "metadata": {
    "tags": []
   },
   "outputs": [
    {
     "data": {
      "text/plain": [
       "0.7630553656869448"
      ]
     },
     "execution_count": 22,
     "metadata": {},
     "output_type": "execute_result"
    }
   ],
   "source": [
    "results.mean()"
   ]
  },
  {
   "cell_type": "code",
   "execution_count": null,
   "id": "78bd17cd-295f-48fe-ab56-11c92d493cb9",
   "metadata": {},
   "outputs": [],
   "source": []
  }
 ],
 "metadata": {
  "kernelspec": {
   "display_name": "Python 3 (ipykernel)",
   "language": "python",
   "name": "python3"
  },
  "language_info": {
   "codemirror_mode": {
    "name": "ipython",
    "version": 3
   },
   "file_extension": ".py",
   "mimetype": "text/x-python",
   "name": "python",
   "nbconvert_exporter": "python",
   "pygments_lexer": "ipython3",
   "version": "3.10.7"
  }
 },
 "nbformat": 4,
 "nbformat_minor": 5
}

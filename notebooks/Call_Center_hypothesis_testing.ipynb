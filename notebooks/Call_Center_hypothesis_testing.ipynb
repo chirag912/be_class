{
 "cells": [
  {
   "cell_type": "code",
   "execution_count": 1,
   "id": "4ac39fb2-281d-434a-b09c-0a23a5d59a1d",
   "metadata": {},
   "outputs": [],
   "source": [
    "#import the libraries \n",
    "\n",
    "import pandas as pd\n",
    "import numpy as np\n",
    "\n",
    "from scipy import stats\n",
    "from scipy import \n",
    "from scipy impoort statts \n",
    "from scipyt imoprt syarts \n",
    "from scipy import stats \n",
    "from scip[y iport sdtagd]\n",
    "\n",
    "     "
   ]
  },
  {
   "cell_type": "code",
   "execution_count": 2,
   "id": "e52c64a1-ca37-4703-b10b-57f74c3f2921",
   "metadata": {},
   "outputs": [],
   "source": [
    "# Call center example\n",
    "\n",
    "z = (4.6-4)/(3/np.sqrt(50))"
   ]
  },
  {
   "cell_type": "code",
   "execution_count": 3,
   "id": "7cbf8d6c-0e7e-4e08-a44b-87dff23ff337",
   "metadata": {},
   "outputs": [
    {
     "data": {
      "text/plain": [
       "1.4142135623730943"
      ]
     },
     "execution_count": 3,
     "metadata": {},
     "output_type": "execute_result"
    }
   ],
   "source": [
    "z"
   ]
  },
  {
   "cell_type": "code",
   "execution_count": 6,
   "id": "101b9448-9305-4614-8c3c-427b60b67781",
   "metadata": {},
   "outputs": [
    {
     "data": {
      "text/plain": [
       "0.15853968290678477"
      ]
     },
     "execution_count": 6,
     "metadata": {},
     "output_type": "execute_result"
    }
   ],
   "source": [
    "2*stats.norm.cdf(-1.41)"
   ]
  },
  {
   "cell_type": "code",
   "execution_count": 7,
   "id": "6bf6466c-05e6-45d6-9d22-09f5cf35c4be",
   "metadata": {},
   "outputs": [
    {
     "data": {
      "text/plain": [
       "0.1648559451804547"
      ]
     },
     "execution_count": 7,
     "metadata": {},
     "output_type": "execute_result"
    }
   ],
   "source": [
    "2*stats.t.cdf(-1.41,df=49)"
   ]
  },
  {
   "cell_type": "code",
   "execution_count": null,
   "id": "b394b6e1-5755-41a2-9462-4fd0ac105c27",
   "metadata": {},
   "outputs": [],
   "source": []
  }
 ],
 "metadata": {
  "kernelspec": {
   "display_name": "Python 3",
   "language": "python",
   "name": "python3"
  },
  "language_info": {
   "codemirror_mode": {
    "name": "ipython",
    "version": 3
   },
   "file_extension": ".py",
   "mimetype": "text/x-python",
   "name": "python",
   "nbconvert_exporter": "python",
   "pygments_lexer": "ipython3",
   "version": "3.8.8"
  }
 },
 "nbformat": 4,
 "nbformat_minor": 5
}
